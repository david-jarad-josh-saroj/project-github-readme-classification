{
 "cells": [
  {
   "cell_type": "code",
   "execution_count": 31,
   "metadata": {},
   "outputs": [],
   "source": [
    "import pandas as pd\n",
    "import numpy as np\n",
    "import os\n",
    "import json\n",
    "import csv\n",
    "import requests\n",
    "import prepare\n",
    "import unicodedata\n",
    "import string\n",
    "from env import github_token, github_username\n",
    "import time\n",
    "import random\n",
    "from bs4 import BeautifulSoup\n",
    "from requests import get\n",
    "import acquire\n",
    "import re\n",
    "from nltk.tokenize import word_tokenize\n",
    "from nltk.corpus import stopwords\n",
    "import matplotlib.pyplot as plt\n",
    "from helpers import nlp\n",
    "from sklearn.model_selection import train_test_split\n",
    "\n",
    "#Modeling imports\n",
    "from xgboost import XGBClassifier, XGBRFClassifier\n",
    "from sklearn.metrics import classification_report\n",
    "from sklearn.preprocessing import LabelEncoder\n",
    "from sklearn.neural_network import MLPClassifier\n",
    "from sklearn.svm import SVC"
   ]
  },
  {
   "cell_type": "code",
   "execution_count": 2,
   "metadata": {},
   "outputs": [],
   "source": [
    "# Bringing in the data using acquire function\n",
    "df = acquire.wrangle_data()"
   ]
  },
  {
   "cell_type": "code",
   "execution_count": 3,
   "metadata": {},
   "outputs": [
    {
     "data": {
      "text/plain": [
       "(1031, 3)"
      ]
     },
     "execution_count": 3,
     "metadata": {},
     "output_type": "execute_result"
    }
   ],
   "source": [
    "#Checking to see how many repos we have\n",
    "df.shape"
   ]
  },
  {
   "cell_type": "code",
   "execution_count": 4,
   "metadata": {},
   "outputs": [
    {
     "data": {
      "text/html": [
       "<div>\n",
       "<style scoped>\n",
       "    .dataframe tbody tr th:only-of-type {\n",
       "        vertical-align: middle;\n",
       "    }\n",
       "\n",
       "    .dataframe tbody tr th {\n",
       "        vertical-align: top;\n",
       "    }\n",
       "\n",
       "    .dataframe thead th {\n",
       "        text-align: right;\n",
       "    }\n",
       "</style>\n",
       "<table border=\"1\" class=\"dataframe\">\n",
       "  <thead>\n",
       "    <tr style=\"text-align: right;\">\n",
       "      <th></th>\n",
       "      <th>repo</th>\n",
       "      <th>language</th>\n",
       "      <th>readme_contents</th>\n",
       "    </tr>\n",
       "  </thead>\n",
       "  <tbody>\n",
       "    <tr>\n",
       "      <th>0</th>\n",
       "      <td>freeCodeCamp/freeCodeCamp</td>\n",
       "      <td>TypeScript</td>\n",
       "      <td>[![freeCodeCamp Social Banner](https://s3.amaz...</td>\n",
       "    </tr>\n",
       "    <tr>\n",
       "      <th>1</th>\n",
       "      <td>996icu/996.ICU</td>\n",
       "      <td>NaN</td>\n",
       "      <td>[996.ICU](https://996.icu/#/en_US)\\n=======\\n*...</td>\n",
       "    </tr>\n",
       "    <tr>\n",
       "      <th>2</th>\n",
       "      <td>EbookFoundation/free-programming-books</td>\n",
       "      <td>NaN</td>\n",
       "      <td># List of Free Learning Resources In Many Lang...</td>\n",
       "    </tr>\n",
       "    <tr>\n",
       "      <th>3</th>\n",
       "      <td>jwasham/coding-interview-university</td>\n",
       "      <td>NaN</td>\n",
       "      <td># Coding Interview University\\n\\n&gt; I originall...</td>\n",
       "    </tr>\n",
       "    <tr>\n",
       "      <th>4</th>\n",
       "      <td>kamranahmedse/developer-roadmap</td>\n",
       "      <td>TypeScript</td>\n",
       "      <td>&lt;p align=\"center\"&gt;\\n  &lt;img src=\"public/brand.p...</td>\n",
       "    </tr>\n",
       "  </tbody>\n",
       "</table>\n",
       "</div>"
      ],
      "text/plain": [
       "                                     repo    language  \\\n",
       "0               freeCodeCamp/freeCodeCamp  TypeScript   \n",
       "1                          996icu/996.ICU         NaN   \n",
       "2  EbookFoundation/free-programming-books         NaN   \n",
       "3     jwasham/coding-interview-university         NaN   \n",
       "4         kamranahmedse/developer-roadmap  TypeScript   \n",
       "\n",
       "                                     readme_contents  \n",
       "0  [![freeCodeCamp Social Banner](https://s3.amaz...  \n",
       "1  [996.ICU](https://996.icu/#/en_US)\\n=======\\n*...  \n",
       "2  # List of Free Learning Resources In Many Lang...  \n",
       "3  # Coding Interview University\\n\\n> I originall...  \n",
       "4  <p align=\"center\">\\n  <img src=\"public/brand.p...  "
      ]
     },
     "execution_count": 4,
     "metadata": {},
     "output_type": "execute_result"
    }
   ],
   "source": [
    "# Getting a glimpse of the data\n",
    "df.head()"
   ]
  },
  {
   "cell_type": "code",
   "execution_count": 5,
   "metadata": {},
   "outputs": [],
   "source": [
    "# Converting readme to a string to run through the prepare functions\n",
    "df['readme_contents'] =  df['readme_contents'].astype('string')"
   ]
  },
  {
   "cell_type": "code",
   "execution_count": 6,
   "metadata": {},
   "outputs": [],
   "source": [
    "#Filling the null values in readme contents with an empty space\n",
    "df.readme_contents = df.readme_contents.fillna('')"
   ]
  },
  {
   "cell_type": "code",
   "execution_count": 7,
   "metadata": {},
   "outputs": [
    {
     "data": {
      "text/plain": [
       "repo                 0\n",
       "language           114\n",
       "readme_contents      0\n",
       "dtype: int64"
      ]
     },
     "execution_count": 7,
     "metadata": {},
     "output_type": "execute_result"
    }
   ],
   "source": [
    "#Checking the total sums\n",
    "df.isnull().sum()"
   ]
  },
  {
   "cell_type": "code",
   "execution_count": 8,
   "metadata": {},
   "outputs": [],
   "source": [
    "# Remove markdown links and html code\n",
    "links = re.compile(r'(\\(http.+\\))')\n",
    "html = re.compile(r'(<.*?>)')\n",
    "df.readme_contents = df.readme_contents.replace(html, '')\n",
    "df.readme_contents = df.readme_contents.replace(links, '')"
   ]
  },
  {
   "cell_type": "code",
   "execution_count": 9,
   "metadata": {},
   "outputs": [
    {
     "data": {
      "text/html": [
       "<div>\n",
       "<style scoped>\n",
       "    .dataframe tbody tr th:only-of-type {\n",
       "        vertical-align: middle;\n",
       "    }\n",
       "\n",
       "    .dataframe tbody tr th {\n",
       "        vertical-align: top;\n",
       "    }\n",
       "\n",
       "    .dataframe thead th {\n",
       "        text-align: right;\n",
       "    }\n",
       "</style>\n",
       "<table border=\"1\" class=\"dataframe\">\n",
       "  <thead>\n",
       "    <tr style=\"text-align: right;\">\n",
       "      <th></th>\n",
       "      <th>repo</th>\n",
       "      <th>language</th>\n",
       "      <th>readme_contents</th>\n",
       "    </tr>\n",
       "  </thead>\n",
       "  <tbody>\n",
       "    <tr>\n",
       "      <th>0</th>\n",
       "      <td>freeCodeCamp/freeCodeCamp</td>\n",
       "      <td>TypeScript</td>\n",
       "      <td>[![freeCodeCamp Social Banner]\n",
       "\n",
       "[![Pull Reques...</td>\n",
       "    </tr>\n",
       "    <tr>\n",
       "      <th>1</th>\n",
       "      <td>996icu/996.ICU</td>\n",
       "      <td>NaN</td>\n",
       "      <td>[996.ICU]\n",
       "=======\n",
       "**Please note that there exi...</td>\n",
       "    </tr>\n",
       "    <tr>\n",
       "      <th>2</th>\n",
       "      <td>EbookFoundation/free-programming-books</td>\n",
       "      <td>NaN</td>\n",
       "      <td># List of Free Learning Resources In Many Lang...</td>\n",
       "    </tr>\n",
       "    <tr>\n",
       "      <th>3</th>\n",
       "      <td>jwasham/coding-interview-university</td>\n",
       "      <td>NaN</td>\n",
       "      <td># Coding Interview University\n",
       "\n",
       "&gt; I originally ...</td>\n",
       "    </tr>\n",
       "    <tr>\n",
       "      <th>4</th>\n",
       "      <td>kamranahmedse/developer-roadmap</td>\n",
       "      <td>TypeScript</td>\n",
       "      <td>roadmap.sh\n",
       "  Community driven roadmaps, ...</td>\n",
       "    </tr>\n",
       "  </tbody>\n",
       "</table>\n",
       "</div>"
      ],
      "text/plain": [
       "                                     repo    language  \\\n",
       "0               freeCodeCamp/freeCodeCamp  TypeScript   \n",
       "1                          996icu/996.ICU         NaN   \n",
       "2  EbookFoundation/free-programming-books         NaN   \n",
       "3     jwasham/coding-interview-university         NaN   \n",
       "4         kamranahmedse/developer-roadmap  TypeScript   \n",
       "\n",
       "                                     readme_contents  \n",
       "0  [![freeCodeCamp Social Banner]\n",
       "\n",
       "[![Pull Reques...  \n",
       "1  [996.ICU]\n",
       "=======\n",
       "**Please note that there exi...  \n",
       "2  # List of Free Learning Resources In Many Lang...  \n",
       "3  # Coding Interview University\n",
       "\n",
       "> I originally ...  \n",
       "4  \n",
       "  \n",
       "  roadmap.sh\n",
       "  Community driven roadmaps, ...  "
      ]
     },
     "execution_count": 9,
     "metadata": {},
     "output_type": "execute_result"
    }
   ],
   "source": [
    "#Checking data\n",
    "df.head()"
   ]
  },
  {
   "cell_type": "code",
   "execution_count": 10,
   "metadata": {},
   "outputs": [],
   "source": [
    "#Applying the cleaning function to the dataframe to normalize text\n",
    "df['cleaned_readme'] = df['readme_contents'].map(lambda x: prepare.basic_clean(x))"
   ]
  },
  {
   "cell_type": "code",
   "execution_count": 11,
   "metadata": {},
   "outputs": [
    {
     "data": {
      "text/html": [
       "<div>\n",
       "<style scoped>\n",
       "    .dataframe tbody tr th:only-of-type {\n",
       "        vertical-align: middle;\n",
       "    }\n",
       "\n",
       "    .dataframe tbody tr th {\n",
       "        vertical-align: top;\n",
       "    }\n",
       "\n",
       "    .dataframe thead th {\n",
       "        text-align: right;\n",
       "    }\n",
       "</style>\n",
       "<table border=\"1\" class=\"dataframe\">\n",
       "  <thead>\n",
       "    <tr style=\"text-align: right;\">\n",
       "      <th></th>\n",
       "      <th>repo</th>\n",
       "      <th>language</th>\n",
       "      <th>readme_contents</th>\n",
       "      <th>cleaned_readme</th>\n",
       "    </tr>\n",
       "  </thead>\n",
       "  <tbody>\n",
       "    <tr>\n",
       "      <th>0</th>\n",
       "      <td>freeCodeCamp/freeCodeCamp</td>\n",
       "      <td>TypeScript</td>\n",
       "      <td>[![freeCodeCamp Social Banner]\n",
       "\n",
       "[![Pull Reques...</td>\n",
       "      <td>freecodecamp social  requests   source   freec...</td>\n",
       "    </tr>\n",
       "    <tr>\n",
       "      <th>1</th>\n",
       "      <td>996icu/996.ICU</td>\n",
       "      <td>NaN</td>\n",
       "      <td>[996.ICU]\n",
       "=======\n",
       "**Please note that there exi...</td>\n",
       "      <td>note that there exists no other official acco...</td>\n",
       "    </tr>\n",
       "    <tr>\n",
       "      <th>2</th>\n",
       "      <td>EbookFoundation/free-programming-books</td>\n",
       "      <td>NaN</td>\n",
       "      <td># List of Free Learning Resources In Many Lang...</td>\n",
       "      <td>list of free learning resources in many  cc b...</td>\n",
       "    </tr>\n",
       "    <tr>\n",
       "      <th>3</th>\n",
       "      <td>jwasham/coding-interview-university</td>\n",
       "      <td>NaN</td>\n",
       "      <td># Coding Interview University\n",
       "\n",
       "&gt; I originally ...</td>\n",
       "      <td>coding interview  i originally created this a...</td>\n",
       "    </tr>\n",
       "    <tr>\n",
       "      <th>4</th>\n",
       "      <td>kamranahmedse/developer-roadmap</td>\n",
       "      <td>TypeScript</td>\n",
       "      <td>roadmap.sh\n",
       "  Community driven roadmaps, ...</td>\n",
       "      <td>community driven roadmaps articles and r...</td>\n",
       "    </tr>\n",
       "  </tbody>\n",
       "</table>\n",
       "</div>"
      ],
      "text/plain": [
       "                                     repo    language  \\\n",
       "0               freeCodeCamp/freeCodeCamp  TypeScript   \n",
       "1                          996icu/996.ICU         NaN   \n",
       "2  EbookFoundation/free-programming-books         NaN   \n",
       "3     jwasham/coding-interview-university         NaN   \n",
       "4         kamranahmedse/developer-roadmap  TypeScript   \n",
       "\n",
       "                                     readme_contents  \\\n",
       "0  [![freeCodeCamp Social Banner]\n",
       "\n",
       "[![Pull Reques...   \n",
       "1  [996.ICU]\n",
       "=======\n",
       "**Please note that there exi...   \n",
       "2  # List of Free Learning Resources In Many Lang...   \n",
       "3  # Coding Interview University\n",
       "\n",
       "> I originally ...   \n",
       "4  \n",
       "  \n",
       "  roadmap.sh\n",
       "  Community driven roadmaps, ...   \n",
       "\n",
       "                                      cleaned_readme  \n",
       "0  freecodecamp social  requests   source   freec...  \n",
       "1   note that there exists no other official acco...  \n",
       "2   list of free learning resources in many  cc b...  \n",
       "3   coding interview  i originally created this a...  \n",
       "4        community driven roadmaps articles and r...  "
      ]
     },
     "execution_count": 11,
     "metadata": {},
     "output_type": "execute_result"
    }
   ],
   "source": [
    "#Checking the data\n",
    "df.head()"
   ]
  },
  {
   "cell_type": "code",
   "execution_count": 12,
   "metadata": {},
   "outputs": [],
   "source": [
    "# Tokenizing the readme contents from prepare.py\n",
    "df['tokenized_readme'] = df['cleaned_readme'].map(lambda x: prepare.tokenize(x))"
   ]
  },
  {
   "cell_type": "code",
   "execution_count": 13,
   "metadata": {},
   "outputs": [
    {
     "data": {
      "text/html": [
       "<div>\n",
       "<style scoped>\n",
       "    .dataframe tbody tr th:only-of-type {\n",
       "        vertical-align: middle;\n",
       "    }\n",
       "\n",
       "    .dataframe tbody tr th {\n",
       "        vertical-align: top;\n",
       "    }\n",
       "\n",
       "    .dataframe thead th {\n",
       "        text-align: right;\n",
       "    }\n",
       "</style>\n",
       "<table border=\"1\" class=\"dataframe\">\n",
       "  <thead>\n",
       "    <tr style=\"text-align: right;\">\n",
       "      <th></th>\n",
       "      <th>repo</th>\n",
       "      <th>language</th>\n",
       "      <th>readme_contents</th>\n",
       "      <th>cleaned_readme</th>\n",
       "      <th>tokenized_readme</th>\n",
       "    </tr>\n",
       "  </thead>\n",
       "  <tbody>\n",
       "    <tr>\n",
       "      <th>0</th>\n",
       "      <td>freeCodeCamp/freeCodeCamp</td>\n",
       "      <td>TypeScript</td>\n",
       "      <td>[![freeCodeCamp Social Banner]\n",
       "\n",
       "[![Pull Reques...</td>\n",
       "      <td>freecodecamp social  requests   source   freec...</td>\n",
       "      <td>freecodecamp social requests source freecodeca...</td>\n",
       "    </tr>\n",
       "    <tr>\n",
       "      <th>1</th>\n",
       "      <td>996icu/996.ICU</td>\n",
       "      <td>NaN</td>\n",
       "      <td>[996.ICU]\n",
       "=======\n",
       "**Please note that there exi...</td>\n",
       "      <td>note that there exists no other official acco...</td>\n",
       "      <td>note that there exists no other official accou...</td>\n",
       "    </tr>\n",
       "    <tr>\n",
       "      <th>2</th>\n",
       "      <td>EbookFoundation/free-programming-books</td>\n",
       "      <td>NaN</td>\n",
       "      <td># List of Free Learning Resources In Many Lang...</td>\n",
       "      <td>list of free learning resources in many  cc b...</td>\n",
       "      <td>list of free learning resources in many cc by ...</td>\n",
       "    </tr>\n",
       "    <tr>\n",
       "      <th>3</th>\n",
       "      <td>jwasham/coding-interview-university</td>\n",
       "      <td>NaN</td>\n",
       "      <td># Coding Interview University\n",
       "\n",
       "&gt; I originally ...</td>\n",
       "      <td>coding interview  i originally created this a...</td>\n",
       "      <td>coding interview i originally created this as ...</td>\n",
       "    </tr>\n",
       "    <tr>\n",
       "      <th>4</th>\n",
       "      <td>kamranahmedse/developer-roadmap</td>\n",
       "      <td>TypeScript</td>\n",
       "      <td>roadmap.sh\n",
       "  Community driven roadmaps, ...</td>\n",
       "      <td>community driven roadmaps articles and r...</td>\n",
       "      <td>community driven roadmaps articles and resourc...</td>\n",
       "    </tr>\n",
       "  </tbody>\n",
       "</table>\n",
       "</div>"
      ],
      "text/plain": [
       "                                     repo    language  \\\n",
       "0               freeCodeCamp/freeCodeCamp  TypeScript   \n",
       "1                          996icu/996.ICU         NaN   \n",
       "2  EbookFoundation/free-programming-books         NaN   \n",
       "3     jwasham/coding-interview-university         NaN   \n",
       "4         kamranahmedse/developer-roadmap  TypeScript   \n",
       "\n",
       "                                     readme_contents  \\\n",
       "0  [![freeCodeCamp Social Banner]\n",
       "\n",
       "[![Pull Reques...   \n",
       "1  [996.ICU]\n",
       "=======\n",
       "**Please note that there exi...   \n",
       "2  # List of Free Learning Resources In Many Lang...   \n",
       "3  # Coding Interview University\n",
       "\n",
       "> I originally ...   \n",
       "4  \n",
       "  \n",
       "  roadmap.sh\n",
       "  Community driven roadmaps, ...   \n",
       "\n",
       "                                      cleaned_readme  \\\n",
       "0  freecodecamp social  requests   source   freec...   \n",
       "1   note that there exists no other official acco...   \n",
       "2   list of free learning resources in many  cc b...   \n",
       "3   coding interview  i originally created this a...   \n",
       "4        community driven roadmaps articles and r...   \n",
       "\n",
       "                                    tokenized_readme  \n",
       "0  freecodecamp social requests source freecodeca...  \n",
       "1  note that there exists no other official accou...  \n",
       "2  list of free learning resources in many cc by ...  \n",
       "3  coding interview i originally created this as ...  \n",
       "4  community driven roadmaps articles and resourc...  "
      ]
     },
     "execution_count": 13,
     "metadata": {},
     "output_type": "execute_result"
    }
   ],
   "source": [
    "#Checking the data to see changes\n",
    "df.head()"
   ]
  },
  {
   "cell_type": "code",
   "execution_count": 14,
   "metadata": {},
   "outputs": [],
   "source": [
    "# Lemmatizing the data using preapre.py\n",
    "df['lemm_readme'] = df['tokenized_readme'].map(lambda x: prepare.lemmatize(x))"
   ]
  },
  {
   "cell_type": "code",
   "execution_count": 15,
   "metadata": {},
   "outputs": [
    {
     "data": {
      "text/html": [
       "<div>\n",
       "<style scoped>\n",
       "    .dataframe tbody tr th:only-of-type {\n",
       "        vertical-align: middle;\n",
       "    }\n",
       "\n",
       "    .dataframe tbody tr th {\n",
       "        vertical-align: top;\n",
       "    }\n",
       "\n",
       "    .dataframe thead th {\n",
       "        text-align: right;\n",
       "    }\n",
       "</style>\n",
       "<table border=\"1\" class=\"dataframe\">\n",
       "  <thead>\n",
       "    <tr style=\"text-align: right;\">\n",
       "      <th></th>\n",
       "      <th>repo</th>\n",
       "      <th>language</th>\n",
       "      <th>readme_contents</th>\n",
       "      <th>cleaned_readme</th>\n",
       "      <th>tokenized_readme</th>\n",
       "      <th>lemm_readme</th>\n",
       "    </tr>\n",
       "  </thead>\n",
       "  <tbody>\n",
       "    <tr>\n",
       "      <th>0</th>\n",
       "      <td>freeCodeCamp/freeCodeCamp</td>\n",
       "      <td>TypeScript</td>\n",
       "      <td>[![freeCodeCamp Social Banner]\n",
       "\n",
       "[![Pull Reques...</td>\n",
       "      <td>freecodecamp social  requests   source   freec...</td>\n",
       "      <td>freecodecamp social requests source freecodeca...</td>\n",
       "      <td>freecodecamp social request source freecodecam...</td>\n",
       "    </tr>\n",
       "    <tr>\n",
       "      <th>1</th>\n",
       "      <td>996icu/996.ICU</td>\n",
       "      <td>NaN</td>\n",
       "      <td>[996.ICU]\n",
       "=======\n",
       "**Please note that there exi...</td>\n",
       "      <td>note that there exists no other official acco...</td>\n",
       "      <td>note that there exists no other official accou...</td>\n",
       "      <td>note that there exists no other official accou...</td>\n",
       "    </tr>\n",
       "    <tr>\n",
       "      <th>2</th>\n",
       "      <td>EbookFoundation/free-programming-books</td>\n",
       "      <td>NaN</td>\n",
       "      <td># List of Free Learning Resources In Many Lang...</td>\n",
       "      <td>list of free learning resources in many  cc b...</td>\n",
       "      <td>list of free learning resources in many cc by ...</td>\n",
       "      <td>list of free learning resource in many cc by t...</td>\n",
       "    </tr>\n",
       "    <tr>\n",
       "      <th>3</th>\n",
       "      <td>jwasham/coding-interview-university</td>\n",
       "      <td>NaN</td>\n",
       "      <td># Coding Interview University\n",
       "\n",
       "&gt; I originally ...</td>\n",
       "      <td>coding interview  i originally created this a...</td>\n",
       "      <td>coding interview i originally created this as ...</td>\n",
       "      <td>coding interview i originally created this a a...</td>\n",
       "    </tr>\n",
       "    <tr>\n",
       "      <th>4</th>\n",
       "      <td>kamranahmedse/developer-roadmap</td>\n",
       "      <td>TypeScript</td>\n",
       "      <td>roadmap.sh\n",
       "  Community driven roadmaps, ...</td>\n",
       "      <td>community driven roadmaps articles and r...</td>\n",
       "      <td>community driven roadmaps articles and resourc...</td>\n",
       "      <td>community driven roadmaps article and resource...</td>\n",
       "    </tr>\n",
       "  </tbody>\n",
       "</table>\n",
       "</div>"
      ],
      "text/plain": [
       "                                     repo    language  \\\n",
       "0               freeCodeCamp/freeCodeCamp  TypeScript   \n",
       "1                          996icu/996.ICU         NaN   \n",
       "2  EbookFoundation/free-programming-books         NaN   \n",
       "3     jwasham/coding-interview-university         NaN   \n",
       "4         kamranahmedse/developer-roadmap  TypeScript   \n",
       "\n",
       "                                     readme_contents  \\\n",
       "0  [![freeCodeCamp Social Banner]\n",
       "\n",
       "[![Pull Reques...   \n",
       "1  [996.ICU]\n",
       "=======\n",
       "**Please note that there exi...   \n",
       "2  # List of Free Learning Resources In Many Lang...   \n",
       "3  # Coding Interview University\n",
       "\n",
       "> I originally ...   \n",
       "4  \n",
       "  \n",
       "  roadmap.sh\n",
       "  Community driven roadmaps, ...   \n",
       "\n",
       "                                      cleaned_readme  \\\n",
       "0  freecodecamp social  requests   source   freec...   \n",
       "1   note that there exists no other official acco...   \n",
       "2   list of free learning resources in many  cc b...   \n",
       "3   coding interview  i originally created this a...   \n",
       "4        community driven roadmaps articles and r...   \n",
       "\n",
       "                                    tokenized_readme  \\\n",
       "0  freecodecamp social requests source freecodeca...   \n",
       "1  note that there exists no other official accou...   \n",
       "2  list of free learning resources in many cc by ...   \n",
       "3  coding interview i originally created this as ...   \n",
       "4  community driven roadmaps articles and resourc...   \n",
       "\n",
       "                                         lemm_readme  \n",
       "0  freecodecamp social request source freecodecam...  \n",
       "1  note that there exists no other official accou...  \n",
       "2  list of free learning resource in many cc by t...  \n",
       "3  coding interview i originally created this a a...  \n",
       "4  community driven roadmaps article and resource...  "
      ]
     },
     "execution_count": 15,
     "metadata": {},
     "output_type": "execute_result"
    }
   ],
   "source": [
    "#checking the data\n",
    "df.head()"
   ]
  },
  {
   "cell_type": "code",
   "execution_count": 16,
   "metadata": {},
   "outputs": [
    {
     "data": {
      "text/plain": [
       "Index(['JavaScript', 'Python', 'TypeScript', 'Go', 'Java', 'C++', 'C', 'HTML',\n",
       "       'Shell', 'Rust', 'Swift', 'Ruby', 'PHP', 'Jupyter Notebook', 'C#',\n",
       "       'CSS', 'Kotlin'],\n",
       "      dtype='object')"
      ]
     },
     "execution_count": 16,
     "metadata": {},
     "output_type": "execute_result"
    }
   ],
   "source": [
    "# determining remaining list of languages that show up more than 10 times\n",
    "languages_kept = df.language.value_counts()[df.language.value_counts() > 10].index\n",
    "languages_kept"
   ]
  },
  {
   "cell_type": "code",
   "execution_count": 17,
   "metadata": {},
   "outputs": [],
   "source": [
    "# Removing languages not kept\n",
    "df = df[df.language.isin(languages_kept)]"
   ]
  },
  {
   "cell_type": "code",
   "execution_count": 18,
   "metadata": {},
   "outputs": [
    {
     "data": {
      "text/plain": [
       "((857, 6),\n",
       " repo                object\n",
       " language            object\n",
       " readme_contents     string\n",
       " cleaned_readme      object\n",
       " tokenized_readme    object\n",
       " lemm_readme         object\n",
       " dtype: object)"
      ]
     },
     "execution_count": 18,
     "metadata": {},
     "output_type": "execute_result"
    }
   ],
   "source": [
    "#Checking to see how many rows we have left\n",
    "df.shape, df.dtypes"
   ]
  },
  {
   "cell_type": "code",
   "execution_count": 19,
   "metadata": {},
   "outputs": [
    {
     "data": {
      "text/plain": [
       "False    857\n",
       "Name: language, dtype: int64"
      ]
     },
     "execution_count": 19,
     "metadata": {},
     "output_type": "execute_result"
    }
   ],
   "source": [
    "#No language nulls to be filled\n",
    "df.language.isnull().value_counts()"
   ]
  },
  {
   "cell_type": "markdown",
   "metadata": {},
   "source": [
    "# Modeling\n",
    "---\n",
    "### During the process we worked with processing data in different ways. Please see josh's working notebook for how we prepared and modeled data differently than in our final notebook. \n",
    "Please use the below url to see Josh's notebook:\n",
    "https://github.com/david-jarad-josh-saroj/project-github-readme-classification/blob/master/josh-workbook.ipynb"
   ]
  },
  {
   "cell_type": "code",
   "execution_count": 20,
   "metadata": {},
   "outputs": [],
   "source": [
    "#Splitting the data to ensure not data leakage\n",
    "train, validate, test = prepare.split_lang(df)"
   ]
  },
  {
   "cell_type": "code",
   "execution_count": 21,
   "metadata": {},
   "outputs": [
    {
     "data": {
      "text/plain": [
       "((548, 6), (137, 6), (172, 6))"
      ]
     },
     "execution_count": 21,
     "metadata": {},
     "output_type": "execute_result"
    }
   ],
   "source": [
    "#Checking shapes\n",
    "train.shape, validate.shape, test.shape"
   ]
  },
  {
   "cell_type": "code",
   "execution_count": 22,
   "metadata": {},
   "outputs": [
    {
     "data": {
      "text/plain": [
       "0.2718978102189781"
      ]
     },
     "execution_count": 22,
     "metadata": {},
     "output_type": "execute_result"
    }
   ],
   "source": [
    "#Creating a baseline\n",
    "baseline = 149/548\n",
    "baseline"
   ]
  },
  {
   "cell_type": "code",
   "execution_count": 23,
   "metadata": {},
   "outputs": [],
   "source": [
    "\n",
    "from sklearn.feature_extraction.text import TfidfVectorizer\n",
    "#Vectorizing the text for model use\n",
    "tfidf = TfidfVectorizer()\n",
    "tfidf.fit(train.readme_contents)\n",
    "# tfidf.fit(df.lemma)\n",
    "\n",
    "xt = tfidf.transform(train.readme_contents).toarray()\n",
    "xs = tfidf.transform(test.readme_contents).toarray()\n",
    "xv = tfidf.transform(validate.readme_contents).toarray()"
   ]
  },
  {
   "cell_type": "code",
   "execution_count": 24,
   "metadata": {},
   "outputs": [],
   "source": [
    "# Setting the Y variable\n",
    "yt = train.language\n",
    "ys = test.language\n",
    "yv = validate.language"
   ]
  },
  {
   "cell_type": "code",
   "execution_count": 26,
   "metadata": {},
   "outputs": [],
   "source": [
    "# Encoding the type of failure to pass thru XGBoost\n",
    "le = LabelEncoder()\n",
    "yt_encoded = le.fit_transform(yt)\n",
    "yv_encoded = le.fit_transform(yv)"
   ]
  },
  {
   "cell_type": "code",
   "execution_count": 27,
   "metadata": {},
   "outputs": [
    {
     "name": "stdout",
     "output_type": "stream",
     "text": [
      "              precision    recall  f1-score   support\n",
      "\n",
      "           0       1.00      0.95      0.97        19\n",
      "           1       1.00      1.00      1.00         8\n",
      "           2       1.00      1.00      1.00        36\n",
      "           3       1.00      1.00      1.00         8\n",
      "           4       1.00      1.00      1.00        50\n",
      "           5       1.00      1.00      1.00        14\n",
      "           6       1.00      1.00      1.00        45\n",
      "           7       1.00      1.00      1.00       149\n",
      "           8       1.00      1.00      1.00         9\n",
      "           9       1.00      1.00      1.00         8\n",
      "          10       1.00      1.00      1.00         9\n",
      "          11       0.99      1.00      0.99        73\n",
      "          12       1.00      1.00      1.00        11\n",
      "          13       1.00      1.00      1.00        14\n",
      "          14       1.00      1.00      1.00        14\n",
      "          15       1.00      1.00      1.00        11\n",
      "          16       1.00      1.00      1.00        70\n",
      "\n",
      "    accuracy                           1.00       548\n",
      "   macro avg       1.00      1.00      1.00       548\n",
      "weighted avg       1.00      1.00      1.00       548\n",
      "\n"
     ]
    }
   ],
   "source": [
    "\n",
    "# fit model on training data and making classification report\n",
    "model = XGBClassifier()\n",
    "    \n",
    "model.fit(xt, yt_encoded)\n",
    "\n",
    "y_pred = model.predict(xt)\n",
    "\n",
    "y_v_pred = model.predict(xv)\n",
    " \n",
    "print(classification_report(yt_encoded, y_pred))"
   ]
  },
  {
   "cell_type": "code",
   "execution_count": 28,
   "metadata": {},
   "outputs": [
    {
     "name": "stdout",
     "output_type": "stream",
     "text": [
      "              precision    recall  f1-score   support\n",
      "\n",
      "           0       0.67      0.40      0.50         5\n",
      "           1       0.00      0.00      0.00         2\n",
      "           2       0.44      0.44      0.44         9\n",
      "           3       0.00      0.00      0.00         2\n",
      "           4       0.53      0.75      0.62        12\n",
      "           5       1.00      0.25      0.40         4\n",
      "           6       0.64      0.82      0.72        11\n",
      "           7       0.60      0.86      0.71        37\n",
      "           8       0.00      0.00      0.00         2\n",
      "           9       0.50      0.50      0.50         2\n",
      "          10       1.00      1.00      1.00         2\n",
      "          11       0.73      0.61      0.67        18\n",
      "          12       0.67      0.67      0.67         3\n",
      "          13       1.00      0.67      0.80         3\n",
      "          14       0.67      0.50      0.57         4\n",
      "          15       1.00      0.67      0.80         3\n",
      "          16       0.60      0.33      0.43        18\n",
      "\n",
      "    accuracy                           0.62       137\n",
      "   macro avg       0.59      0.50      0.52       137\n",
      "weighted avg       0.62      0.62      0.60       137\n",
      "\n"
     ]
    },
    {
     "name": "stderr",
     "output_type": "stream",
     "text": [
      "/opt/homebrew/anaconda3/lib/python3.9/site-packages/sklearn/metrics/_classification.py:1334: UndefinedMetricWarning: Precision and F-score are ill-defined and being set to 0.0 in labels with no predicted samples. Use `zero_division` parameter to control this behavior.\n",
      "  _warn_prf(average, modifier, msg_start, len(result))\n",
      "/opt/homebrew/anaconda3/lib/python3.9/site-packages/sklearn/metrics/_classification.py:1334: UndefinedMetricWarning: Precision and F-score are ill-defined and being set to 0.0 in labels with no predicted samples. Use `zero_division` parameter to control this behavior.\n",
      "  _warn_prf(average, modifier, msg_start, len(result))\n",
      "/opt/homebrew/anaconda3/lib/python3.9/site-packages/sklearn/metrics/_classification.py:1334: UndefinedMetricWarning: Precision and F-score are ill-defined and being set to 0.0 in labels with no predicted samples. Use `zero_division` parameter to control this behavior.\n",
      "  _warn_prf(average, modifier, msg_start, len(result))\n"
     ]
    }
   ],
   "source": [
    "#Checking how well it did on validate\n",
    "print(classification_report(yv_encoded, y_v_pred))"
   ]
  },
  {
   "cell_type": "code",
   "execution_count": 29,
   "metadata": {},
   "outputs": [
    {
     "name": "stdout",
     "output_type": "stream",
     "text": [
      "              precision    recall  f1-score   support\n",
      "\n",
      "           0       0.88      0.74      0.80        19\n",
      "           1       0.71      0.62      0.67         8\n",
      "           2       0.90      0.75      0.82        36\n",
      "           3       1.00      0.25      0.40         8\n",
      "           4       0.89      1.00      0.94        50\n",
      "           5       1.00      0.29      0.44        14\n",
      "           6       0.84      0.93      0.88        45\n",
      "           7       0.85      0.95      0.90       149\n",
      "           8       1.00      0.33      0.50         9\n",
      "           9       0.80      0.50      0.62         8\n",
      "          10       0.80      0.89      0.84         9\n",
      "          11       0.78      0.93      0.85        73\n",
      "          12       1.00      0.55      0.71        11\n",
      "          13       1.00      1.00      1.00        14\n",
      "          14       0.91      0.71      0.80        14\n",
      "          15       0.85      1.00      0.92        11\n",
      "          16       0.94      0.89      0.91        70\n",
      "\n",
      "    accuracy                           0.86       548\n",
      "   macro avg       0.89      0.73      0.76       548\n",
      "weighted avg       0.87      0.86      0.85       548\n",
      "\n"
     ]
    }
   ],
   "source": [
    "\n",
    "# fit model no training data and classification report\n",
    "model2 = XGBRFClassifier()\n",
    "    \n",
    "model2.fit(xt, yt_encoded)\n",
    "\n",
    "y_pred2 = model2.predict(xt)\n",
    "\n",
    "y_v_pred2 = model2.predict(xv)\n",
    " \n",
    "print(classification_report(yt_encoded, y_pred2))"
   ]
  },
  {
   "cell_type": "code",
   "execution_count": 30,
   "metadata": {},
   "outputs": [
    {
     "name": "stdout",
     "output_type": "stream",
     "text": [
      "              precision    recall  f1-score   support\n",
      "\n",
      "           0       0.50      0.40      0.44         5\n",
      "           1       0.00      0.00      0.00         2\n",
      "           2       0.50      0.11      0.18         9\n",
      "           3       0.00      0.00      0.00         2\n",
      "           4       0.56      0.75      0.64        12\n",
      "           5       0.00      0.00      0.00         4\n",
      "           6       0.64      0.82      0.72        11\n",
      "           7       0.54      0.81      0.65        37\n",
      "           8       0.00      0.00      0.00         2\n",
      "           9       0.50      0.50      0.50         2\n",
      "          10       0.67      1.00      0.80         2\n",
      "          11       0.71      0.67      0.69        18\n",
      "          12       0.00      0.00      0.00         3\n",
      "          13       0.67      0.67      0.67         3\n",
      "          14       1.00      0.25      0.40         4\n",
      "          15       0.50      0.67      0.57         3\n",
      "          16       0.58      0.39      0.47        18\n",
      "\n",
      "    accuracy                           0.57       137\n",
      "   macro avg       0.43      0.41      0.40       137\n",
      "weighted avg       0.54      0.57      0.53       137\n",
      "\n"
     ]
    },
    {
     "name": "stderr",
     "output_type": "stream",
     "text": [
      "/opt/homebrew/anaconda3/lib/python3.9/site-packages/sklearn/metrics/_classification.py:1334: UndefinedMetricWarning: Precision and F-score are ill-defined and being set to 0.0 in labels with no predicted samples. Use `zero_division` parameter to control this behavior.\n",
      "  _warn_prf(average, modifier, msg_start, len(result))\n",
      "/opt/homebrew/anaconda3/lib/python3.9/site-packages/sklearn/metrics/_classification.py:1334: UndefinedMetricWarning: Precision and F-score are ill-defined and being set to 0.0 in labels with no predicted samples. Use `zero_division` parameter to control this behavior.\n",
      "  _warn_prf(average, modifier, msg_start, len(result))\n",
      "/opt/homebrew/anaconda3/lib/python3.9/site-packages/sklearn/metrics/_classification.py:1334: UndefinedMetricWarning: Precision and F-score are ill-defined and being set to 0.0 in labels with no predicted samples. Use `zero_division` parameter to control this behavior.\n",
      "  _warn_prf(average, modifier, msg_start, len(result))\n"
     ]
    }
   ],
   "source": [
    "#Checking to see how well it did on validate\n",
    "print(classification_report(yv_encoded, y_v_pred2))"
   ]
  },
  {
   "cell_type": "code",
   "execution_count": 32,
   "metadata": {},
   "outputs": [
    {
     "name": "stdout",
     "output_type": "stream",
     "text": [
      "              precision    recall  f1-score   support\n",
      "\n",
      "           0       1.00      0.95      0.97        19\n",
      "           1       1.00      1.00      1.00         8\n",
      "           2       1.00      0.97      0.99        36\n",
      "           3       1.00      1.00      1.00         8\n",
      "           4       1.00      1.00      1.00        50\n",
      "           5       1.00      1.00      1.00        14\n",
      "           6       1.00      1.00      1.00        45\n",
      "           7       0.99      1.00      1.00       149\n",
      "           8       1.00      1.00      1.00         9\n",
      "           9       1.00      1.00      1.00         8\n",
      "          10       1.00      1.00      1.00         9\n",
      "          11       0.99      1.00      0.99        73\n",
      "          12       1.00      1.00      1.00        11\n",
      "          13       1.00      1.00      1.00        14\n",
      "          14       1.00      1.00      1.00        14\n",
      "          15       1.00      1.00      1.00        11\n",
      "          16       1.00      1.00      1.00        70\n",
      "\n",
      "    accuracy                           1.00       548\n",
      "   macro avg       1.00      1.00      1.00       548\n",
      "weighted avg       1.00      1.00      1.00       548\n",
      "\n"
     ]
    }
   ],
   "source": [
    "#Setting SVM linear model to train and looking at the report\n",
    "svm_model_linear = SVC(kernel = 'linear', C = 10).fit(xt, yt_encoded)\n",
    "svm_predictions = svm_model_linear.predict(xv)\n",
    "  \n",
    "    # model accuracy for X_test  \n",
    "accuracy = svm_model_linear.score(xv, yv_encoded)\n",
    "  \n",
    "    # creating a confusion matrix\n",
    "#cm = confusion_matrix(y_validate, svm_predictions)\n",
    "\n",
    "y_pred = svm_model_linear.predict(xt)\n",
    "\n",
    "y_v_pred = svm_model_linear.predict(xv)\n",
    "\n",
    " \n",
    "print(classification_report(yt_encoded, y_pred))"
   ]
  },
  {
   "cell_type": "code",
   "execution_count": 33,
   "metadata": {},
   "outputs": [
    {
     "name": "stdout",
     "output_type": "stream",
     "text": [
      "              precision    recall  f1-score   support\n",
      "\n",
      "           0       0.00      0.00      0.00         5\n",
      "           1       0.00      0.00      0.00         2\n",
      "           2       0.25      0.11      0.15         9\n",
      "           3       0.00      0.00      0.00         2\n",
      "           4       0.83      0.42      0.56        12\n",
      "           5       0.00      0.00      0.00         4\n",
      "           6       0.62      0.45      0.53        11\n",
      "           7       0.35      0.89      0.50        37\n",
      "           8       1.00      0.50      0.67         2\n",
      "           9       1.00      0.50      0.67         2\n",
      "          10       0.00      0.00      0.00         2\n",
      "          11       0.77      0.56      0.65        18\n",
      "          12       0.00      0.00      0.00         3\n",
      "          13       0.00      0.00      0.00         3\n",
      "          14       1.00      0.25      0.40         4\n",
      "          15       1.00      0.33      0.50         3\n",
      "          16       0.43      0.17      0.24        18\n",
      "\n",
      "    accuracy                           0.45       137\n",
      "   macro avg       0.43      0.25      0.29       137\n",
      "weighted avg       0.47      0.45      0.40       137\n",
      "\n"
     ]
    },
    {
     "name": "stderr",
     "output_type": "stream",
     "text": [
      "/opt/homebrew/anaconda3/lib/python3.9/site-packages/sklearn/metrics/_classification.py:1334: UndefinedMetricWarning: Precision and F-score are ill-defined and being set to 0.0 in labels with no predicted samples. Use `zero_division` parameter to control this behavior.\n",
      "  _warn_prf(average, modifier, msg_start, len(result))\n",
      "/opt/homebrew/anaconda3/lib/python3.9/site-packages/sklearn/metrics/_classification.py:1334: UndefinedMetricWarning: Precision and F-score are ill-defined and being set to 0.0 in labels with no predicted samples. Use `zero_division` parameter to control this behavior.\n",
      "  _warn_prf(average, modifier, msg_start, len(result))\n",
      "/opt/homebrew/anaconda3/lib/python3.9/site-packages/sklearn/metrics/_classification.py:1334: UndefinedMetricWarning: Precision and F-score are ill-defined and being set to 0.0 in labels with no predicted samples. Use `zero_division` parameter to control this behavior.\n",
      "  _warn_prf(average, modifier, msg_start, len(result))\n"
     ]
    }
   ],
   "source": [
    "#Looking at the report on validate\n",
    "print(classification_report(yv_encoded, y_v_pred))"
   ]
  },
  {
   "cell_type": "markdown",
   "metadata": {},
   "source": [
    "#\n",
    "---\n",
    "Running the cleaned and lemmatized data through the models"
   ]
  },
  {
   "cell_type": "code",
   "execution_count": 34,
   "metadata": {},
   "outputs": [],
   "source": [
    "# Running the vectorization on the lemma version of \n",
    "tfidf_lem = TfidfVectorizer()\n",
    "tfidf_lem.fit(train.lemm_readme)\n",
    "# tfidf.fit(df.lemma)\n",
    "\n",
    "xtl = tfidf_lem.transform(train.lemm_readme).toarray()\n",
    "xsl = tfidf_lem.transform(test.lemm_readme).toarray()\n",
    "xvl = tfidf_lem.transform(validate.lemm_readme).toarray()"
   ]
  },
  {
   "cell_type": "code",
   "execution_count": 36,
   "metadata": {},
   "outputs": [
    {
     "name": "stdout",
     "output_type": "stream",
     "text": [
      "              precision    recall  f1-score   support\n",
      "\n",
      "           0       1.00      0.95      0.97        19\n",
      "           1       1.00      1.00      1.00         8\n",
      "           2       1.00      0.97      0.99        36\n",
      "           3       1.00      1.00      1.00         8\n",
      "           4       1.00      1.00      1.00        50\n",
      "           5       1.00      1.00      1.00        14\n",
      "           6       1.00      1.00      1.00        45\n",
      "           7       0.97      1.00      0.99       149\n",
      "           8       1.00      1.00      1.00         9\n",
      "           9       1.00      1.00      1.00         8\n",
      "          10       1.00      1.00      1.00         9\n",
      "          11       1.00      0.97      0.99        73\n",
      "          12       1.00      1.00      1.00        11\n",
      "          13       1.00      1.00      1.00        14\n",
      "          14       1.00      1.00      1.00        14\n",
      "          15       1.00      1.00      1.00        11\n",
      "          16       1.00      1.00      1.00        70\n",
      "\n",
      "    accuracy                           0.99       548\n",
      "   macro avg       1.00      0.99      1.00       548\n",
      "weighted avg       0.99      0.99      0.99       548\n",
      "\n"
     ]
    }
   ],
   "source": [
    "# fit model no training data\n",
    "model = XGBClassifier()\n",
    "    \n",
    "model.fit(xtl, yt_encoded)\n",
    "\n",
    "y_pred = model.predict(xtl)\n",
    "\n",
    "y_v_pred = model.predict(xvl)\n",
    " \n",
    "print(classification_report(yt_encoded, y_pred))"
   ]
  },
  {
   "cell_type": "code",
   "execution_count": 37,
   "metadata": {},
   "outputs": [
    {
     "name": "stdout",
     "output_type": "stream",
     "text": [
      "              precision    recall  f1-score   support\n",
      "\n",
      "           0       1.00      0.40      0.57         5\n",
      "           1       0.50      0.50      0.50         2\n",
      "           2       0.00      0.00      0.00         9\n",
      "           3       0.00      0.00      0.00         2\n",
      "           4       0.50      0.75      0.60        12\n",
      "           5       0.00      0.00      0.00         4\n",
      "           6       0.50      0.55      0.52        11\n",
      "           7       0.50      0.84      0.63        37\n",
      "           8       1.00      0.50      0.67         2\n",
      "           9       0.00      0.00      0.00         2\n",
      "          10       1.00      1.00      1.00         2\n",
      "          11       0.77      0.56      0.65        18\n",
      "          12       0.33      0.33      0.33         3\n",
      "          13       0.50      0.33      0.40         3\n",
      "          14       0.50      0.25      0.33         4\n",
      "          15       1.00      0.67      0.80         3\n",
      "          16       0.64      0.39      0.48        18\n",
      "\n",
      "    accuracy                           0.54       137\n",
      "   macro avg       0.51      0.42      0.44       137\n",
      "weighted avg       0.53      0.54      0.51       137\n",
      "\n"
     ]
    },
    {
     "name": "stderr",
     "output_type": "stream",
     "text": [
      "/opt/homebrew/anaconda3/lib/python3.9/site-packages/sklearn/metrics/_classification.py:1334: UndefinedMetricWarning: Precision and F-score are ill-defined and being set to 0.0 in labels with no predicted samples. Use `zero_division` parameter to control this behavior.\n",
      "  _warn_prf(average, modifier, msg_start, len(result))\n",
      "/opt/homebrew/anaconda3/lib/python3.9/site-packages/sklearn/metrics/_classification.py:1334: UndefinedMetricWarning: Precision and F-score are ill-defined and being set to 0.0 in labels with no predicted samples. Use `zero_division` parameter to control this behavior.\n",
      "  _warn_prf(average, modifier, msg_start, len(result))\n",
      "/opt/homebrew/anaconda3/lib/python3.9/site-packages/sklearn/metrics/_classification.py:1334: UndefinedMetricWarning: Precision and F-score are ill-defined and being set to 0.0 in labels with no predicted samples. Use `zero_division` parameter to control this behavior.\n",
      "  _warn_prf(average, modifier, msg_start, len(result))\n"
     ]
    }
   ],
   "source": [
    "print(classification_report(yv_encoded, y_v_pred))"
   ]
  },
  {
   "cell_type": "code",
   "execution_count": null,
   "metadata": {},
   "outputs": [],
   "source": []
  }
 ],
 "metadata": {
  "kernelspec": {
   "display_name": "Python 3.9.12 ('base')",
   "language": "python",
   "name": "python3"
  },
  "language_info": {
   "codemirror_mode": {
    "name": "ipython",
    "version": 3
   },
   "file_extension": ".py",
   "mimetype": "text/x-python",
   "name": "python",
   "nbconvert_exporter": "python",
   "pygments_lexer": "ipython3",
   "version": "3.9.12"
  },
  "orig_nbformat": 4,
  "vscode": {
   "interpreter": {
    "hash": "38cca0c38332a56087b24af0bc80247f4fced29cb4f7f437d91dc159adec9c4e"
   }
  }
 },
 "nbformat": 4,
 "nbformat_minor": 2
}
