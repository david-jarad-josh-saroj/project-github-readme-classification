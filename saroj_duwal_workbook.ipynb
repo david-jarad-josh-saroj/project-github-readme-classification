{
 "cells": [
  {
   "cell_type": "markdown",
   "id": "cffbda9a",
   "metadata": {},
   "source": [
    "# NLP Group 1 Project\n",
    "- Saroj Duwal"
   ]
  },
  {
   "cell_type": "code",
   "execution_count": 2,
   "id": "ce205569",
   "metadata": {},
   "outputs": [],
   "source": [
    "import pandas as pd\n",
    "import numpy as np\n",
    "import unicodedata\n",
    "import string\n",
    "import time\n",
    "import random\n",
    "from bs4 import BeautifulSoup\n",
    "from requests import get\n",
    "import re\n",
    "import os\n",
    "import json\n",
    "import csv\n",
    "import requests\n",
    "from nltk.tokenize import word_tokenize\n",
    "from nltk.corpus import stopwords\n",
    "import seaborn as sns\n",
    "import matplotlib.pyplot as plt\n",
    "# import acquire\n",
    "import prepare\n",
    "import env"
   ]
  },
  {
   "cell_type": "markdown",
   "id": "78f36ebe",
   "metadata": {},
   "source": [
    "# Data Acquisition\n",
    "- I used the acquire.py module for the data acquisition.\n",
    "- for the uniformatity I used Josh's csv file for the convienience as the acquiring process longer time."
   ]
  },
  {
   "cell_type": "code",
   "execution_count": 3,
   "id": "f43ef191",
   "metadata": {},
   "outputs": [],
   "source": [
    "# read the csv file\n",
    "df= pd.read_csv('data.csv')"
   ]
  },
  {
   "cell_type": "code",
   "execution_count": 4,
   "id": "414a5eca",
   "metadata": {},
   "outputs": [
    {
     "data": {
      "text/html": [
       "<div>\n",
       "<style scoped>\n",
       "    .dataframe tbody tr th:only-of-type {\n",
       "        vertical-align: middle;\n",
       "    }\n",
       "\n",
       "    .dataframe tbody tr th {\n",
       "        vertical-align: top;\n",
       "    }\n",
       "\n",
       "    .dataframe thead th {\n",
       "        text-align: right;\n",
       "    }\n",
       "</style>\n",
       "<table border=\"1\" class=\"dataframe\">\n",
       "  <thead>\n",
       "    <tr style=\"text-align: right;\">\n",
       "      <th></th>\n",
       "      <th>repo</th>\n",
       "      <th>language</th>\n",
       "      <th>readme_contents</th>\n",
       "    </tr>\n",
       "  </thead>\n",
       "  <tbody>\n",
       "    <tr>\n",
       "      <th>0</th>\n",
       "      <td>freeCodeCamp/freeCodeCamp</td>\n",
       "      <td>TypeScript</td>\n",
       "      <td>[![freeCodeCamp Social Banner](https://s3.amaz...</td>\n",
       "    </tr>\n",
       "    <tr>\n",
       "      <th>1</th>\n",
       "      <td>996icu/996.ICU</td>\n",
       "      <td>NaN</td>\n",
       "      <td>[996.ICU](https://996.icu/#/en_US)\\n=======\\n*...</td>\n",
       "    </tr>\n",
       "    <tr>\n",
       "      <th>2</th>\n",
       "      <td>EbookFoundation/free-programming-books</td>\n",
       "      <td>NaN</td>\n",
       "      <td># List of Free Learning Resources In Many Lang...</td>\n",
       "    </tr>\n",
       "    <tr>\n",
       "      <th>3</th>\n",
       "      <td>jwasham/coding-interview-university</td>\n",
       "      <td>NaN</td>\n",
       "      <td># Coding Interview University\\n\\n&gt; I originall...</td>\n",
       "    </tr>\n",
       "    <tr>\n",
       "      <th>4</th>\n",
       "      <td>kamranahmedse/developer-roadmap</td>\n",
       "      <td>TypeScript</td>\n",
       "      <td>&lt;p align=\"center\"&gt;\\n  &lt;img src=\"public/brand.p...</td>\n",
       "    </tr>\n",
       "  </tbody>\n",
       "</table>\n",
       "</div>"
      ],
      "text/plain": [
       "                                     repo    language  \\\n",
       "0               freeCodeCamp/freeCodeCamp  TypeScript   \n",
       "1                          996icu/996.ICU         NaN   \n",
       "2  EbookFoundation/free-programming-books         NaN   \n",
       "3     jwasham/coding-interview-university         NaN   \n",
       "4         kamranahmedse/developer-roadmap  TypeScript   \n",
       "\n",
       "                                     readme_contents  \n",
       "0  [![freeCodeCamp Social Banner](https://s3.amaz...  \n",
       "1  [996.ICU](https://996.icu/#/en_US)\\n=======\\n*...  \n",
       "2  # List of Free Learning Resources In Many Lang...  \n",
       "3  # Coding Interview University\\n\\n> I originall...  \n",
       "4  <p align=\"center\">\\n  <img src=\"public/brand.p...  "
      ]
     },
     "execution_count": 4,
     "metadata": {},
     "output_type": "execute_result"
    }
   ],
   "source": [
    "df.head()"
   ]
  },
  {
   "cell_type": "code",
   "execution_count": null,
   "id": "7d8eafb2",
   "metadata": {},
   "outputs": [],
   "source": [
    "# shape of the dataframe\n",
    "df.shape"
   ]
  },
  {
   "cell_type": "code",
   "execution_count": 7,
   "id": "166c2965",
   "metadata": {},
   "outputs": [
    {
     "data": {
      "text/plain": [
       "repo                 0\n",
       "language           114\n",
       "readme_contents      4\n",
       "dtype: int64"
      ]
     },
     "execution_count": 7,
     "metadata": {},
     "output_type": "execute_result"
    }
   ],
   "source": [
    "# count the nulls\n",
    "df.isnull().sum()"
   ]
  },
  {
   "cell_type": "code",
   "execution_count": 8,
   "id": "c5d03fae",
   "metadata": {},
   "outputs": [],
   "source": [
    "#  null language be labeled \"English\"\n",
    "df.language = df.language.fillna('English')"
   ]
  },
  {
   "cell_type": "code",
   "execution_count": 9,
   "id": "e0f6d435",
   "metadata": {},
   "outputs": [
    {
     "name": "stdout",
     "output_type": "stream",
     "text": [
      "<class 'pandas.core.frame.DataFrame'>\n",
      "RangeIndex: 1031 entries, 0 to 1030\n",
      "Data columns (total 3 columns):\n",
      " #   Column           Non-Null Count  Dtype \n",
      "---  ------           --------------  ----- \n",
      " 0   repo             1031 non-null   object\n",
      " 1   language         1031 non-null   object\n",
      " 2   readme_contents  1027 non-null   object\n",
      "dtypes: object(3)\n",
      "memory usage: 24.3+ KB\n"
     ]
    }
   ],
   "source": [
    "df.info()"
   ]
  },
  {
   "cell_type": "code",
   "execution_count": 10,
   "id": "a021b546",
   "metadata": {},
   "outputs": [
    {
     "name": "stdout",
     "output_type": "stream",
     "text": [
      "<class 'pandas.core.frame.DataFrame'>\n",
      "RangeIndex: 1031 entries, 0 to 1030\n",
      "Data columns (total 3 columns):\n",
      " #   Column           Non-Null Count  Dtype \n",
      "---  ------           --------------  ----- \n",
      " 0   repo             1031 non-null   object\n",
      " 1   language         1031 non-null   object\n",
      " 2   readme_contents  1027 non-null   object\n",
      "dtypes: object(3)\n",
      "memory usage: 24.3+ KB\n"
     ]
    }
   ],
   "source": [
    "# check the data types\n",
    "df.info()"
   ]
  },
  {
   "cell_type": "code",
   "execution_count": 11,
   "id": "e4e2df2e",
   "metadata": {},
   "outputs": [],
   "source": [
    "# Dropping 4 null from the readme_contents\n",
    "df = df.dropna()"
   ]
  },
  {
   "cell_type": "code",
   "execution_count": 12,
   "id": "5c6f4a25",
   "metadata": {},
   "outputs": [
    {
     "data": {
      "text/plain": [
       "repo               0\n",
       "language           0\n",
       "readme_contents    0\n",
       "dtype: int64"
      ]
     },
     "execution_count": 12,
     "metadata": {},
     "output_type": "execute_result"
    }
   ],
   "source": [
    "#making sutre no nulls present in dataframe\n",
    "df.isnull().sum()"
   ]
  },
  {
   "cell_type": "code",
   "execution_count": 13,
   "id": "65181e98",
   "metadata": {},
   "outputs": [
    {
     "data": {
      "text/plain": [
       "JavaScript          232\n",
       "Python              114\n",
       "English             114\n",
       "TypeScript          109\n",
       "Go                   76\n",
       "Java                 70\n",
       "C++                  55\n",
       "C                    30\n",
       "HTML                 23\n",
       "Shell                22\n",
       "Rust                 21\n",
       "Swift                18\n",
       "Ruby                 18\n",
       "Jupyter Notebook     14\n",
       "PHP                  14\n",
       "C#                   13\n",
       "Kotlin               12\n",
       "CSS                  12\n",
       "Vue                   8\n",
       "Objective-C           5\n",
       "Lua                   4\n",
       "Dart                  4\n",
       "Vim script            3\n",
       "Haskell               3\n",
       "Markdown              3\n",
       "SCSS                  3\n",
       "TeX                   3\n",
       "Elixir                2\n",
       "Vim Script            2\n",
       "Clojure               2\n",
       "Makefile              2\n",
       "Zig                   1\n",
       "Emacs Lisp            1\n",
       "OCaml                 1\n",
       "Julia                 1\n",
       "CoffeeScript          1\n",
       "Objective-C++         1\n",
       "AsciiDoc              1\n",
       "Nunjucks              1\n",
       "Batchfile             1\n",
       "Scala                 1\n",
       "Jinja                 1\n",
       "Roff                  1\n",
       "Dockerfile            1\n",
       "Assembly              1\n",
       "V                     1\n",
       "Standard ML           1\n",
       "Name: language, dtype: int64"
      ]
     },
     "execution_count": 13,
     "metadata": {},
     "output_type": "execute_result"
    }
   ],
   "source": [
    "df['language'].value_counts()\n"
   ]
  },
  {
   "cell_type": "code",
   "execution_count": 14,
   "id": "d4cc5e2b",
   "metadata": {},
   "outputs": [
    {
     "data": {
      "text/plain": [
       "<AxesSubplot:>"
      ]
     },
     "execution_count": 14,
     "metadata": {},
     "output_type": "execute_result"
    },
    {
     "data": {
      "image/png": "[encoded data removed]",
      "text/plain": [
       "<Figure size 720x720 with 1 Axes>"
      ]
     },
     "metadata": {
      "needs_background": "light"
     },
     "output_type": "display_data"
    }
   ],
   "source": [
    "plt.figure(figsize=(10,10))\n",
    "df.language.value_counts().plot.bar()"
   ]
  },
  {
   "cell_type": "markdown",
   "id": "1b8aaf41",
   "metadata": {},
   "source": [
    "# Preparation\n",
    "\n",
    "###  keeping only the languages that occurs more than 10. ignore the languages that occurs least frequent.\n"
   ]
  },
  {
   "cell_type": "code",
   "execution_count": 15,
   "id": "28d0e447",
   "metadata": {},
   "outputs": [],
   "source": [
    "# determining remaining list of languages\n",
    "languages_shortlisted = df.language.value_counts()[df.language.value_counts() > 10].index"
   ]
  },
  {
   "cell_type": "code",
   "execution_count": 16,
   "id": "e0e05909",
   "metadata": {},
   "outputs": [],
   "source": [
    "df= df[df.language.isin(languages_shortlisted)]"
   ]
  },
  {
   "cell_type": "code",
   "execution_count": 17,
   "id": "0c205da0",
   "metadata": {},
   "outputs": [
    {
     "data": {
      "text/plain": [
       "JavaScript          232\n",
       "Python              114\n",
       "English             114\n",
       "TypeScript          109\n",
       "Go                   76\n",
       "Java                 70\n",
       "C++                  55\n",
       "C                    30\n",
       "HTML                 23\n",
       "Shell                22\n",
       "Rust                 21\n",
       "Ruby                 18\n",
       "Swift                18\n",
       "PHP                  14\n",
       "Jupyter Notebook     14\n",
       "C#                   13\n",
       "CSS                  12\n",
       "Kotlin               12\n",
       "Name: language, dtype: int64"
      ]
     },
     "execution_count": 17,
     "metadata": {},
     "output_type": "execute_result"
    }
   ],
   "source": [
    "df.language.value_counts()"
   ]
  },
  {
   "cell_type": "code",
   "execution_count": 18,
   "id": "6fe4bf34",
   "metadata": {},
   "outputs": [
    {
     "name": "stdout",
     "output_type": "stream",
     "text": [
      "<class 'pandas.core.frame.DataFrame'>\n",
      "Int64Index: 967 entries, 0 to 1030\n",
      "Data columns (total 3 columns):\n",
      " #   Column           Non-Null Count  Dtype \n",
      "---  ------           --------------  ----- \n",
      " 0   repo             967 non-null    object\n",
      " 1   language         967 non-null    object\n",
      " 2   readme_contents  967 non-null    object\n",
      "dtypes: object(3)\n",
      "memory usage: 30.2+ KB\n"
     ]
    }
   ],
   "source": [
    "df.info()"
   ]
  },
  {
   "cell_type": "code",
   "execution_count": 19,
   "id": "d5794589",
   "metadata": {},
   "outputs": [],
   "source": [
    "# changing to string type\n",
    "df['readme_contents'] =  df['readme_contents'].astype('string')"
   ]
  },
  {
   "cell_type": "code",
   "execution_count": 20,
   "id": "d7fec915",
   "metadata": {},
   "outputs": [
    {
     "data": {
      "text/plain": [
       "repo               object\n",
       "language           object\n",
       "readme_contents    string\n",
       "dtype: object"
      ]
     },
     "execution_count": 20,
     "metadata": {},
     "output_type": "execute_result"
    }
   ],
   "source": [
    "df.dtypes\n"
   ]
  },
  {
   "cell_type": "markdown",
   "id": "98aaf532",
   "metadata": {},
   "source": [
    "#### clean the data using prepare module that includes\n",
    "- clean\n",
    "- tokenize\n",
    "- stemming\n",
    "- lemmatizing"
   ]
  },
  {
   "cell_type": "code",
   "execution_count": 21,
   "id": "e9cf07e3",
   "metadata": {},
   "outputs": [],
   "source": [
    "#  basic cleaning, tokenize and removing stopwords from the  readme_contents column\n",
    "df['clean']= df['readme_contents'].apply(lambda x: prepare.remove_stopwords(prepare.tokenize(prepare.basic_clean(x))))"
   ]
  },
  {
   "cell_type": "code",
   "execution_count": 22,
   "id": "22a1ebc6",
   "metadata": {},
   "outputs": [],
   "source": [
    "# stemming the tokenized column\n",
    "df['stemmed'] = df['clean'].apply(lambda x: prepare.stem(x))"
   ]
  },
  {
   "cell_type": "code",
   "execution_count": 23,
   "id": "c118ae3d",
   "metadata": {},
   "outputs": [],
   "source": [
    "# lemmatizing the tokenized column\n",
    "df['lemmatized'] = df['clean'].apply(lambda x: prepare.lemmatize(x))"
   ]
  },
  {
   "cell_type": "code",
   "execution_count": 24,
   "id": "f190dd15",
   "metadata": {},
   "outputs": [
    {
     "data": {
      "text/html": [
       "<div>\n",
       "<style scoped>\n",
       "    .dataframe tbody tr th:only-of-type {\n",
       "        vertical-align: middle;\n",
       "    }\n",
       "\n",
       "    .dataframe tbody tr th {\n",
       "        vertical-align: top;\n",
       "    }\n",
       "\n",
       "    .dataframe thead th {\n",
       "        text-align: right;\n",
       "    }\n",
       "</style>\n",
       "<table border=\"1\" class=\"dataframe\">\n",
       "  <thead>\n",
       "    <tr style=\"text-align: right;\">\n",
       "      <th></th>\n",
       "      <th>repo</th>\n",
       "      <th>language</th>\n",
       "      <th>readme_contents</th>\n",
       "      <th>clean</th>\n",
       "      <th>stemmed</th>\n",
       "      <th>lemmatized</th>\n",
       "    </tr>\n",
       "  </thead>\n",
       "  <tbody>\n",
       "    <tr>\n",
       "      <th>0</th>\n",
       "      <td>freeCodeCamp/freeCodeCamp</td>\n",
       "      <td>TypeScript</td>\n",
       "      <td>[![freeCodeCamp Social Banner](https://s3.amaz...</td>\n",
       "      <td>freecodecamp social requests source freecodeca...</td>\n",
       "      <td>freecodecamp social request sourc freecodecamp...</td>\n",
       "      <td>freecodecamp social request source freecodecam...</td>\n",
       "    </tr>\n",
       "    <tr>\n",
       "      <th>1</th>\n",
       "      <td>996icu/996.ICU</td>\n",
       "      <td>English</td>\n",
       "      <td>[996.ICU](https://996.icu/#/en_US)\n",
       "=======\n",
       "**P...</td>\n",
       "      <td>note exists official account app merchandise e...</td>\n",
       "      <td>note exist offici account app merchandis excep...</td>\n",
       "      <td>note exists official account app merchandise e...</td>\n",
       "    </tr>\n",
       "    <tr>\n",
       "      <th>2</th>\n",
       "      <td>EbookFoundation/free-programming-books</td>\n",
       "      <td>English</td>\n",
       "      <td># List of Free Learning Resources In Many Lang...</td>\n",
       "      <td>list free learning resources many aligncenter ...</td>\n",
       "      <td>list free learn resourc mani aligncent cc hack...</td>\n",
       "      <td>list free learning resource many aligncenter c...</td>\n",
       "    </tr>\n",
       "    <tr>\n",
       "      <th>3</th>\n",
       "      <td>jwasham/coding-interview-university</td>\n",
       "      <td>English</td>\n",
       "      <td># Coding Interview University\n",
       "\n",
       "&gt; I originally ...</td>\n",
       "      <td>coding interview originally created short todo...</td>\n",
       "      <td>code interview origin creat short todo list st...</td>\n",
       "      <td>coding interview originally created short todo...</td>\n",
       "    </tr>\n",
       "    <tr>\n",
       "      <th>4</th>\n",
       "      <td>kamranahmedse/developer-roadmap</td>\n",
       "      <td>TypeScript</td>\n",
       "      <td>&lt;p align=\"center\"&gt;\n",
       "  &lt;img src=\"public/brand.pn...</td>\n",
       "      <td>p img srcpublicbrandpng h2 p aligncentercommun...</td>\n",
       "      <td>p img srcpublicbrandpng h2 p aligncentercommun...</td>\n",
       "      <td>p img srcpublicbrandpng h2 p aligncentercommun...</td>\n",
       "    </tr>\n",
       "  </tbody>\n",
       "</table>\n",
       "</div>"
      ],
      "text/plain": [
       "                                     repo    language  \\\n",
       "0               freeCodeCamp/freeCodeCamp  TypeScript   \n",
       "1                          996icu/996.ICU     English   \n",
       "2  EbookFoundation/free-programming-books     English   \n",
       "3     jwasham/coding-interview-university     English   \n",
       "4         kamranahmedse/developer-roadmap  TypeScript   \n",
       "\n",
       "                                     readme_contents  \\\n",
       "0  [![freeCodeCamp Social Banner](https://s3.amaz...   \n",
       "1  [996.ICU](https://996.icu/#/en_US)\n",
       "=======\n",
       "**P...   \n",
       "2  # List of Free Learning Resources In Many Lang...   \n",
       "3  # Coding Interview University\n",
       "\n",
       "> I originally ...   \n",
       "4  <p align=\"center\">\n",
       "  <img src=\"public/brand.pn...   \n",
       "\n",
       "                                               clean  \\\n",
       "0  freecodecamp social requests source freecodeca...   \n",
       "1  note exists official account app merchandise e...   \n",
       "2  list free learning resources many aligncenter ...   \n",
       "3  coding interview originally created short todo...   \n",
       "4  p img srcpublicbrandpng h2 p aligncentercommun...   \n",
       "\n",
       "                                             stemmed  \\\n",
       "0  freecodecamp social request sourc freecodecamp...   \n",
       "1  note exist offici account app merchandis excep...   \n",
       "2  list free learn resourc mani aligncent cc hack...   \n",
       "3  code interview origin creat short todo list st...   \n",
       "4  p img srcpublicbrandpng h2 p aligncentercommun...   \n",
       "\n",
       "                                          lemmatized  \n",
       "0  freecodecamp social request source freecodecam...  \n",
       "1  note exists official account app merchandise e...  \n",
       "2  list free learning resource many aligncenter c...  \n",
       "3  coding interview originally created short todo...  \n",
       "4  p img srcpublicbrandpng h2 p aligncentercommun...  "
      ]
     },
     "execution_count": 24,
     "metadata": {},
     "output_type": "execute_result"
    }
   ],
   "source": [
    "df.head()"
   ]
  },
  {
   "cell_type": "code",
   "execution_count": 28,
   "id": "d3430aa9",
   "metadata": {},
   "outputs": [],
   "source": [
    "import warnings\n",
    "warnings.filterwarnings(\"ignore\")\n",
    "from wordcloud import WordCloud"
   ]
  },
  {
   "cell_type": "markdown",
   "id": "b31726c4",
   "metadata": {},
   "source": [
    "# Exploration"
   ]
  },
  {
   "cell_type": "code",
   "execution_count": null,
   "id": "aa470074",
   "metadata": {},
   "outputs": [],
   "source": [
    "jscript_words = list(' '.join(df.lemmatized[df.language == 'JavaScript']))\n",
    "python_words = list(' '.join(df.lemmatized[df.language == 'Python']))\n",
    "c_words = list(' '.join(df.lemmatized[df.language == 'C']))\n",
    "typescript_words = list(' '.join(df.lemmatized[df.language == 'TypeScript']))\n",
    "c_sharp_words = list(' '.join(df.lemmatized[df.language == 'C#']))"
   ]
  },
  {
   "cell_type": "code",
   "execution_count": null,
   "id": "4a09b41a",
   "metadata": {},
   "outputs": [],
   "source": []
  }
 ],
 "metadata": {
  "kernelspec": {
   "display_name": "Python 3 (ipykernel)",
   "language": "python",
   "name": "python3"
  },
  "language_info": {
   "codemirror_mode": {
    "name": "ipython",
    "version": 3
   },
   "file_extension": ".py",
   "mimetype": "text/x-python",
   "name": "python",
   "nbconvert_exporter": "python",
   "pygments_lexer": "ipython3",
   "version": "3.9.12"
  }
 },
 "nbformat": 4,
 "nbformat_minor": 5
}
