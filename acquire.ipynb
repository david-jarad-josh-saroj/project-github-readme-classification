{
 "cells": [
  {
   "cell_type": "code",
   "execution_count": 1,
   "metadata": {},
   "outputs": [],
   "source": [
    "import os\n",
    "import json\n",
    "from typing import Dict, List, Optional, Union, cast\n",
    "import requests\n",
    "\n",
    "# Data Science libraries\n",
    "import pandas as pd\n",
    "\n",
    "import time\n",
    "from requests import get\n",
    "\n",
    "from env import github_token, github_username\n",
    "\n",
    "# TODO: Make a github personal access token.\n",
    "#     1. Go here and generate a personal access token https://github.com/settings/tokens\n",
    "#        You do _not_ need select any scopes, i.e. leave all the checkboxes unchecked\n",
    "#     2. Save it in your env.py file under the variable `github_token`\n",
    "# TODO: Add your github username to your env.py file under the variable `github_username`\n",
    "# TODO: Add more repositories to the `REPOS` list below.\n",
    "\n",
    "headers = {\"Authorization\": f\"token {github_token}\", \"User-Agent\": github_username}\n",
    "\n",
    "if headers[\"Authorization\"] == \"token \" or headers[\"User-Agent\"] == \"\":\n",
    "    raise Exception(\n",
    "        \"You need to follow the instructions marked TODO in this script before trying to use it\"\n",
    "    )\n"
   ]
  },
  {
   "cell_type": "code",
   "execution_count": 2,
   "metadata": {},
   "outputs": [],
   "source": [
    "API = 'https://api.github.com/'"
   ]
  },
  {
   "cell_type": "code",
   "execution_count": 3,
   "metadata": {},
   "outputs": [],
   "source": [
    "import requests\n",
    "def get_page(url, headers=headers):\n",
    "    response = requests.get(url, headers=headers)\n",
    "    return response.json()"
   ]
  },
  {
   "cell_type": "code",
   "execution_count": 4,
   "metadata": {},
   "outputs": [
    {
     "data": {
      "text/plain": [
       "'https://api.github.com/rate_limit'"
      ]
     },
     "execution_count": 4,
     "metadata": {},
     "output_type": "execute_result"
    }
   ],
   "source": [
    "response = requests.get(API, headers=headers).json()\n",
    "response['rate_limit_url']"
   ]
  },
  {
   "cell_type": "code",
   "execution_count": 5,
   "metadata": {},
   "outputs": [
    {
     "data": {
      "text/plain": [
       "{'repository_search_url': 'https://api.github.com/search/repositories?q={query}{&page,per_page,sort,order}',\n",
       " 'topic_search_url': 'https://api.github.com/search/topics?q={query}{&page,per_page}',\n",
       " 'repository_url': 'https://api.github.com/repos/{owner}/{repo}',\n",
       " 'rate_limit_url': 'https://api.github.com/rate_limit'}"
      ]
     },
     "execution_count": 5,
     "metadata": {},
     "output_type": "execute_result"
    }
   ],
   "source": [
    "{'repository_search_url': 'https://api.github.com/search/repositories?q={query}{&page,per_page,sort,order}',\n",
    " 'topic_search_url': 'https://api.github.com/search/topics?q={query}{&page,per_page}',\n",
    " 'repository_url': 'https://api.github.com/repos/{owner}/{repo}',\n",
    "  'rate_limit_url': 'https://api.github.com/rate_limit',\n",
    "}"
   ]
  },
  {
   "cell_type": "code",
   "execution_count": 6,
   "metadata": {},
   "outputs": [
    {
     "data": {
      "text/plain": [
       "{'resources': {'core': {'limit': 5000,\n",
       "   'used': 3861,\n",
       "   'remaining': 1139,\n",
       "   'reset': 1662164289},\n",
       "  'search': {'limit': 30, 'used': 0, 'remaining': 30, 'reset': 1662163212},\n",
       "  'graphql': {'limit': 5000,\n",
       "   'used': 0,\n",
       "   'remaining': 5000,\n",
       "   'reset': 1662166752},\n",
       "  'integration_manifest': {'limit': 5000,\n",
       "   'used': 0,\n",
       "   'remaining': 5000,\n",
       "   'reset': 1662166752},\n",
       "  'source_import': {'limit': 100,\n",
       "   'used': 0,\n",
       "   'remaining': 100,\n",
       "   'reset': 1662163212},\n",
       "  'code_scanning_upload': {'limit': 1000,\n",
       "   'used': 0,\n",
       "   'remaining': 1000,\n",
       "   'reset': 1662166752},\n",
       "  'actions_runner_registration': {'limit': 10000,\n",
       "   'used': 0,\n",
       "   'remaining': 10000,\n",
       "   'reset': 1662166752},\n",
       "  'scim': {'limit': 15000, 'used': 0, 'remaining': 15000, 'reset': 1662166752},\n",
       "  'dependency_snapshots': {'limit': 100,\n",
       "   'used': 0,\n",
       "   'remaining': 100,\n",
       "   'reset': 1662163212}},\n",
       " 'rate': {'limit': 5000, 'used': 3861, 'remaining': 1139, 'reset': 1662164289}}"
      ]
     },
     "execution_count": 6,
     "metadata": {},
     "output_type": "execute_result"
    }
   ],
   "source": [
    "requests.get(response['rate_limit_url'], headers=headers).json()"
   ]
  },
  {
   "cell_type": "code",
   "execution_count": 7,
   "metadata": {},
   "outputs": [],
   "source": [
    "base_url = 'https://api.github.com/'\n",
    "query = 'stars%3A%3E1&s=forks&type=Repositories'\n",
    "page = 1\n",
    "url = f\"{base_url}search/repositories?q={query}&page={page}\"\n",
    "response = requests.get(url, headers=headers)"
   ]
  },
  {
   "cell_type": "code",
   "execution_count": 8,
   "metadata": {},
   "outputs": [
    {
     "name": "stdout",
     "output_type": "stream",
     "text": [
      "Server: GitHub.com\n",
      "Date: Fri, 02 Sep 2022 23:59:13 GMT\n",
      "Content-Type: application/json; charset=utf-8\n",
      "Transfer-Encoding: chunked\n",
      "Cache-Control: no-cache\n",
      "Vary: Accept, Authorization, Cookie, X-GitHub-OTP, Accept-Encoding, Accept, X-Requested-With\n",
      "X-OAuth-Scopes: \n",
      "X-Accepted-OAuth-Scopes: \n",
      "github-authentication-token-expiration: 2022-10-02 15:09:16 UTC\n",
      "X-GitHub-Media-Type: github.v3; format=json\n",
      "Link: <https://api.github.com/search/repositories?q=stars%3A%3E1&s=forks&type=Repositories&page=2>; rel=\"next\", <https://api.github.com/search/repositories?q=stars%3A%3E1&s=forks&type=Repositories&page=34>; rel=\"last\"\n",
      "X-RateLimit-Limit: 30\n",
      "X-RateLimit-Remaining: 29\n",
      "X-RateLimit-Reset: 1662163213\n",
      "X-RateLimit-Used: 1\n",
      "X-RateLimit-Resource: search\n",
      "Access-Control-Expose-Headers: ETag, Link, Location, Retry-After, X-GitHub-OTP, X-RateLimit-Limit, X-RateLimit-Remaining, X-RateLimit-Used, X-RateLimit-Resource, X-RateLimit-Reset, X-OAuth-Scopes, X-Accepted-OAuth-Scopes, X-Poll-Interval, X-GitHub-Media-Type, X-GitHub-SSO, X-GitHub-Request-Id, Deprecation, Sunset\n",
      "Access-Control-Allow-Origin: *\n",
      "Strict-Transport-Security: max-age=31536000; includeSubdomains; preload\n",
      "X-Frame-Options: deny\n",
      "X-Content-Type-Options: nosniff\n",
      "X-XSS-Protection: 0\n",
      "Referrer-Policy: origin-when-cross-origin, strict-origin-when-cross-origin\n",
      "Content-Security-Policy: default-src 'none'\n",
      "Content-Encoding: gzip\n",
      "X-GitHub-Request-Id: 066F:4393:1D89F:66DC1:631298D0\n"
     ]
    }
   ],
   "source": [
    "for k, v in response.headers.items():\n",
    "    print(f\"{k}: {v}\")"
   ]
  },
  {
   "cell_type": "code",
   "execution_count": 9,
   "metadata": {},
   "outputs": [
    {
     "data": {
      "text/plain": [
       "('29', 200)"
      ]
     },
     "execution_count": 9,
     "metadata": {},
     "output_type": "execute_result"
    }
   ],
   "source": [
    "response.headers['X-RateLimit-Remaining'], response.status_code"
   ]
  },
  {
   "cell_type": "code",
   "execution_count": 10,
   "metadata": {},
   "outputs": [],
   "source": [
    "def github_search(query, page):\n",
    "    # topic_search_url': 'https://api.github.com/search/topics?q={query}{&page,per_page}',\n",
    "    base_url = 'https://api.github.com/'\n",
    "    url = f\"{base_url}search/repositories?q={query}&page={page}&per_page=100\"\n",
    "    time.sleep(2)\n",
    "    response = requests.get(url, headers=headers)\n",
    "    if response.status_code != 200:\n",
    "        raise Exception(f'Something went wrong. Status {response.status_code}')\n",
    "    else:\n",
    "        return response.json()"
   ]
  },
  {
   "cell_type": "code",
   "execution_count": 11,
   "metadata": {},
   "outputs": [
    {
     "data": {
      "application/vnd.jupyter.widget-view+json": {
       "model_id": "0f698ae0effe45dea40df41477a9d870",
       "version_major": 2,
       "version_minor": 0
      },
      "text/plain": [
       "IntProgress(value=0, description='Loading')"
      ]
     },
     "metadata": {},
     "output_type": "display_data"
    }
   ],
   "source": [
    "from ipywidgets import IntProgress\n",
    "import time\n",
    "\n",
    "max_count = 100\n",
    "\n",
    "f = IntProgress(min=0, max=max_count, description='Loading') # instantiate the bar\n",
    "display(f) # display the bar\n",
    "\n",
    "count = 0\n",
    "while count <= max_count:\n",
    "    f.value += 1 # signal to increment the progress bar\n",
    "    time.sleep(.01)\n",
    "    count += 1"
   ]
  },
  {
   "cell_type": "code",
   "execution_count": 12,
   "metadata": {},
   "outputs": [],
   "source": [
    "def get_github_urls():\n",
    "    from ipywidgets import IntProgress\n",
    "    urls = []\n",
    "    page = 0\n",
    "    f = IntProgress(min=0, max=1000, description='Getting URLs')\n",
    "    display(f)\n",
    "    while len(urls) <+ 900:\n",
    "        f.value = len(urls)\n",
    "        page += 1\n",
    "        items = github_search('stars%3A%3E1&s=forks&type=Repositories', page)['items']\n",
    "        for item in items:\n",
    "            urls.append(item['full_name'])\n",
    "    return urls\n"
   ]
  },
  {
   "cell_type": "code",
   "execution_count": 14,
   "metadata": {},
   "outputs": [
    {
     "data": {
      "application/vnd.jupyter.widget-view+json": {
       "model_id": "00757e0751ff484d86946d2e5032660f",
       "version_major": 2,
       "version_minor": 0
      },
      "text/plain": [
       "IntProgress(value=0, description='Getting URLs', max=1000)"
      ]
     },
     "metadata": {},
     "output_type": "display_data"
    }
   ],
   "source": [
    "urls = get_github_urls()"
   ]
  },
  {
   "cell_type": "code",
   "execution_count": 15,
   "metadata": {},
   "outputs": [
    {
     "data": {
      "text/plain": [
       "(1000, (1000, 1))"
      ]
     },
     "execution_count": 15,
     "metadata": {},
     "output_type": "execute_result"
    }
   ],
   "source": [
    "df = pd.DataFrame(urls, columns=['repos'])\n",
    "df.repos.nunique(), df.shape"
   ]
  },
  {
   "cell_type": "code",
   "execution_count": 16,
   "metadata": {},
   "outputs": [],
   "source": [
    "df.to_csv('git_urls.csv', index=False)"
   ]
  },
  {
   "cell_type": "code",
   "execution_count": null,
   "metadata": {},
   "outputs": [],
   "source": [
    "github_search('stars%3A%3E1&s=forks&type=Repositories', 35)"
   ]
  },
  {
   "cell_type": "code",
   "execution_count": 18,
   "metadata": {},
   "outputs": [],
   "source": [
    "import acquire"
   ]
  },
  {
   "cell_type": "code",
   "execution_count": 19,
   "metadata": {},
   "outputs": [],
   "source": [
    "df = acquire.wrangle_data()"
   ]
  },
  {
   "cell_type": "code",
   "execution_count": null,
   "metadata": {},
   "outputs": [
    {
     "data": {
      "text/plain": [
       "804"
      ]
     },
     "execution_count": 4,
     "metadata": {},
     "output_type": "execute_result"
    }
   ],
   "source": [
    "df.repo.nunique()"
   ]
  },
  {
   "cell_type": "code",
   "execution_count": 20,
   "metadata": {},
   "outputs": [
    {
     "data": {
      "text/plain": [
       "1000"
      ]
     },
     "execution_count": 20,
     "metadata": {},
     "output_type": "execute_result"
    }
   ],
   "source": [
    "import pandas as pd\n",
    "xs = pd.DataFrame(acquire.REPOS, columns=['repos'])\n",
    "xs.repos.nunique()"
   ]
  },
  {
   "cell_type": "code",
   "execution_count": 21,
   "metadata": {},
   "outputs": [],
   "source": [
    "repos = acquire.REPOS\n",
    "\n",
    "df = df.drop_duplicates()"
   ]
  },
  {
   "cell_type": "code",
   "execution_count": 27,
   "metadata": {},
   "outputs": [],
   "source": [
    "skip = df.repo.tolist()"
   ]
  },
  {
   "cell_type": "code",
   "execution_count": 29,
   "metadata": {},
   "outputs": [],
   "source": [
    "to_get = [repo for repo in repos if repo not in skip]"
   ]
  },
  {
   "cell_type": "code",
   "execution_count": 30,
   "metadata": {},
   "outputs": [
    {
     "data": {
      "text/plain": [
       "227"
      ]
     },
     "execution_count": 30,
     "metadata": {},
     "output_type": "execute_result"
    }
   ],
   "source": [
    "len(to_get)"
   ]
  },
  {
   "cell_type": "code",
   "execution_count": 31,
   "metadata": {},
   "outputs": [],
   "source": [
    "acquire.REPOS = to_get"
   ]
  },
  {
   "cell_type": "code",
   "execution_count": 33,
   "metadata": {},
   "outputs": [
    {
     "data": {
      "application/vnd.jupyter.widget-view+json": {
       "model_id": "fcf3373f144c458e891bb91f0c48002e",
       "version_major": 2,
       "version_minor": 0
      },
      "text/plain": [
       "IntProgress(value=0, description='Downloading Data', max=227)"
      ]
     },
     "metadata": {},
     "output_type": "display_data"
    },
    {
     "name": "stdout",
     "output_type": "stream",
     "text": [
      "https://api.github.com/repos/sindresorhus/awesome/contents/\n",
      "https://api.github.com/repos/sindresorhus/awesome\n",
      "https://api.github.com/repos/donnemartin/system-design-primer/contents/\n",
      "https://api.github.com/repos/donnemartin/system-design-primer\n",
      "https://api.github.com/repos/codecrafters-io/build-your-own-x/contents/\n",
      "https://api.github.com/repos/codecrafters-io/build-your-own-x\n",
      "https://api.github.com/repos/nodejs/node/contents/\n",
      "https://api.github.com/repos/nodejs/node\n",
      "https://api.github.com/repos/mrdoob/three.js/contents/\n",
      "https://api.github.com/repos/mrdoob/three.js\n",
      "https://api.github.com/repos/goldbergyoni/nodebestpractices/contents/\n",
      "https://api.github.com/repos/goldbergyoni/nodebestpractices\n",
      "https://api.github.com/repos/puppeteer/puppeteer/contents/\n",
      "https://api.github.com/repos/puppeteer/puppeteer\n",
      "https://api.github.com/repos/iluwatar/java-design-patterns/contents/\n",
      "https://api.github.com/repos/iluwatar/java-design-patterns\n",
      "https://api.github.com/repos/nvbn/thefuck/contents/\n",
      "https://api.github.com/repos/nvbn/thefuck\n",
      "https://api.github.com/repos/Genymobile/scrcpy/contents/\n",
      "https://api.github.com/repos/Genymobile/scrcpy\n",
      "https://api.github.com/repos/fatedier/frp/contents/\n",
      "https://api.github.com/repos/fatedier/frp\n",
      "https://api.github.com/repos/danielmiessler/SecLists/contents/\n",
      "https://api.github.com/repos/danielmiessler/SecLists\n",
      "https://api.github.com/repos/android/architecture-samples/contents/\n",
      "https://api.github.com/repos/android/architecture-samples\n",
      "https://api.github.com/repos/ColorlibHQ/AdminLTE/contents/\n",
      "https://api.github.com/repos/ColorlibHQ/AdminLTE\n",
      "https://api.github.com/repos/babel/babel/contents/\n",
      "https://api.github.com/repos/babel/babel\n",
      "https://api.github.com/repos/microsoft/ML-For-Beginners/contents/\n",
      "https://api.github.com/repos/microsoft/ML-For-Beginners\n",
      "https://api.github.com/repos/parcel-bundler/parcel/contents/\n",
      "https://api.github.com/repos/parcel-bundler/parcel\n",
      "https://api.github.com/repos/nuxt/nuxt.js/contents/\n",
      "https://api.github.com/repos/nuxt/nuxt.js\n",
      "https://api.github.com/repos/obsproject/obs-studio/contents/\n",
      "https://api.github.com/repos/obsproject/obs-studio\n",
      "https://api.github.com/repos/etcd-io/etcd/contents/\n",
      "https://api.github.com/repos/etcd-io/etcd\n",
      "https://api.github.com/repos/TryGhost/Ghost/contents/\n",
      "https://api.github.com/repos/TryGhost/Ghost\n",
      "https://api.github.com/repos/ocornut/imgui/contents/\n",
      "https://api.github.com/repos/ocornut/imgui\n",
      "https://api.github.com/repos/astaxie/build-web-application-with-golang/contents/\n",
      "https://api.github.com/repos/astaxie/build-web-application-with-golang\n",
      "https://api.github.com/repos/yarnpkg/yarn/contents/\n",
      "https://api.github.com/repos/yarnpkg/yarn\n",
      "https://api.github.com/repos/gogs/gogs/contents/\n",
      "https://api.github.com/repos/gogs/gogs\n",
      "https://api.github.com/repos/swisskyrepo/PayloadsAllTheThings/contents/\n",
      "https://api.github.com/repos/swisskyrepo/PayloadsAllTheThings\n",
      "https://api.github.com/repos/DefinitelyTyped/DefinitelyTyped/contents/\n",
      "https://api.github.com/repos/DefinitelyTyped/DefinitelyTyped\n",
      "https://api.github.com/repos/square/retrofit/contents/\n",
      "https://api.github.com/repos/square/retrofit\n",
      "https://api.github.com/repos/binhnguyennus/awesome-scalability/contents/\n",
      "https://api.github.com/repos/binhnguyennus/awesome-scalability\n",
      "https://api.github.com/repos/vsouza/awesome-ios/contents/\n",
      "https://api.github.com/repos/vsouza/awesome-ios\n",
      "https://api.github.com/repos/cypress-io/cypress/contents/\n",
      "https://api.github.com/repos/cypress-io/cypress\n",
      "https://api.github.com/repos/JuliaLang/julia/contents/\n",
      "https://api.github.com/repos/JuliaLang/julia\n",
      "https://api.github.com/repos/v2ray/v2ray-core/contents/\n",
      "https://api.github.com/repos/v2ray/v2ray-core\n",
      "https://api.github.com/repos/iamkun/dayjs/contents/\n",
      "https://api.github.com/repos/iamkun/dayjs\n",
      "https://api.github.com/repos/tldr-pages/tldr/contents/\n",
      "https://api.github.com/repos/tldr-pages/tldr\n",
      "https://api.github.com/repos/facebook/jest/contents/\n",
      "https://api.github.com/repos/facebook/jest\n",
      "https://api.github.com/repos/fffaraz/awesome-cpp/contents/\n",
      "https://api.github.com/repos/fffaraz/awesome-cpp\n",
      "https://api.github.com/repos/mozilla/pdf.js/contents/\n",
      "https://api.github.com/repos/mozilla/pdf.js\n",
      "https://api.github.com/repos/karan/Projects/contents/\n",
      "https://api.github.com/repos/karan/Projects\n",
      "https://api.github.com/repos/traefik/traefik/contents/\n",
      "https://api.github.com/repos/traefik/traefik\n",
      "https://api.github.com/repos/Textualize/rich/contents/\n",
      "https://api.github.com/repos/Textualize/rich\n",
      "https://api.github.com/repos/k88hudson/git-flight-rules/contents/\n",
      "https://api.github.com/repos/k88hudson/git-flight-rules\n",
      "https://api.github.com/repos/vercel/hyper/contents/\n",
      "https://api.github.com/repos/vercel/hyper\n",
      "https://api.github.com/repos/nwjs/nw.js/contents/\n",
      "https://api.github.com/repos/nwjs/nw.js\n",
      "https://api.github.com/repos/ethereum/go-ethereum/contents/\n",
      "https://api.github.com/repos/ethereum/go-ethereum\n",
      "https://api.github.com/repos/x64dbg/x64dbg/contents/\n",
      "https://api.github.com/repos/x64dbg/x64dbg\n",
      "https://api.github.com/repos/bailicangdu/vue2-elm/contents/\n",
      "https://api.github.com/repos/bailicangdu/vue2-elm\n",
      "https://api.github.com/repos/algorithm-visualizer/algorithm-visualizer/contents/\n",
      "https://api.github.com/repos/algorithm-visualizer/algorithm-visualizer\n",
      "https://api.github.com/repos/ventoy/Ventoy/contents/\n",
      "https://api.github.com/repos/ventoy/Ventoy\n",
      "https://api.github.com/repos/Dogfalo/materialize/contents/\n",
      "https://api.github.com/repos/Dogfalo/materialize\n",
      "https://api.github.com/repos/justjavac/awesome-wechat-weapp/contents/\n",
      "https://api.github.com/repos/justjavac/awesome-wechat-weapp\n",
      "https://api.github.com/repos/pi-hole/pi-hole/contents/\n",
      "https://api.github.com/repos/pi-hole/pi-hole\n",
      "https://api.github.com/repos/supabase/supabase/contents/\n",
      "https://api.github.com/repos/supabase/supabase\n",
      "https://api.github.com/repos/Avik-Jain/100-Days-Of-ML-Code/contents/\n",
      "https://api.github.com/repos/Avik-Jain/100-Days-Of-ML-Code\n",
      "https://api.github.com/repos/Unitech/pm2/contents/\n",
      "https://api.github.com/repos/Unitech/pm2\n",
      "https://api.github.com/repos/Eugeny/tabby/contents/\n",
      "https://api.github.com/repos/Eugeny/tabby\n",
      "https://api.github.com/repos/tiimgreen/github-cheat-sheet/contents/\n",
      "https://api.github.com/repos/tiimgreen/github-cheat-sheet\n",
      "https://api.github.com/repos/commaai/openpilot/contents/\n",
      "https://api.github.com/repos/commaai/openpilot\n",
      "https://api.github.com/repos/fastlane/fastlane/contents/\n",
      "https://api.github.com/repos/fastlane/fastlane\n",
      "https://api.github.com/repos/marktext/marktext/contents/\n",
      "https://api.github.com/repos/marktext/marktext\n",
      "https://api.github.com/repos/PhilJay/MPAndroidChart/contents/\n",
      "https://api.github.com/repos/PhilJay/MPAndroidChart\n",
      "https://api.github.com/repos/minio/minio/contents/\n",
      "https://api.github.com/repos/minio/minio\n",
      "https://api.github.com/repos/sherlock-project/sherlock/contents/\n",
      "https://api.github.com/repos/sherlock-project/sherlock\n",
      "https://api.github.com/repos/yangshun/front-end-interview-handbook/contents/\n",
      "https://api.github.com/repos/yangshun/front-end-interview-handbook\n",
      "https://api.github.com/repos/kamranahmedse/design-patterns-for-humans/contents/\n",
      "https://api.github.com/repos/kamranahmedse/design-patterns-for-humans\n",
      "https://api.github.com/repos/quilljs/quill/contents/\n",
      "https://api.github.com/repos/quilljs/quill\n",
      "https://api.github.com/repos/sahat/hackathon-starter/contents/\n",
      "https://api.github.com/repos/sahat/hackathon-starter\n",
      "https://api.github.com/repos/lerna/lerna/contents/\n",
      "https://api.github.com/repos/lerna/lerna\n",
      "https://api.github.com/repos/akullpp/awesome-java/contents/\n",
      "https://api.github.com/repos/akullpp/awesome-java\n",
      "https://api.github.com/repos/jgraph/drawio-desktop/contents/\n",
      "https://api.github.com/repos/jgraph/drawio-desktop\n",
      "https://api.github.com/repos/bumptech/glide/contents/\n",
      "https://api.github.com/repos/bumptech/glide\n",
      "https://api.github.com/repos/shadowsocks/shadowsocks-android/contents/\n",
      "https://api.github.com/repos/shadowsocks/shadowsocks-android\n",
      "https://api.github.com/repos/BVLC/caffe/contents/\n",
      "https://api.github.com/repos/BVLC/caffe\n",
      "https://api.github.com/repos/zenorocha/clipboard.js/contents/\n",
      "https://api.github.com/repos/zenorocha/clipboard.js\n",
      "https://api.github.com/repos/kelseyhightower/kubernetes-the-hard-way/contents/\n",
      "https://api.github.com/repos/kelseyhightower/kubernetes-the-hard-way\n",
      "https://api.github.com/repos/immutable-js/immutable-js/contents/\n",
      "https://api.github.com/repos/immutable-js/immutable-js\n",
      "https://api.github.com/repos/brillout/awesome-react-components/contents/\n",
      "https://api.github.com/repos/brillout/awesome-react-components\n",
      "https://api.github.com/repos/go-gitea/gitea/contents/\n",
      "https://api.github.com/repos/go-gitea/gitea\n",
      "https://api.github.com/repos/google-research/bert/contents/\n",
      "https://api.github.com/repos/google-research/bert\n",
      "https://api.github.com/repos/gorhill/uBlock/contents/\n",
      "https://api.github.com/repos/gorhill/uBlock\n",
      "https://api.github.com/repos/streamich/react-use/contents/\n",
      "https://api.github.com/repos/streamich/react-use\n",
      "https://api.github.com/repos/2dust/v2rayN/contents/\n",
      "https://api.github.com/repos/2dust/v2rayN\n",
      "https://api.github.com/repos/formulahendry/955.WLB/contents/\n",
      "https://api.github.com/repos/formulahendry/955.WLB\n",
      "https://api.github.com/repos/unknwon/the-way-to-go_ZH_CN/contents/\n",
      "https://api.github.com/repos/unknwon/the-way-to-go_ZH_CN\n",
      "https://api.github.com/repos/shadowsocks/ShadowsocksX-NG/contents/\n",
      "https://api.github.com/repos/shadowsocks/ShadowsocksX-NG\n",
      "https://api.github.com/repos/cli/cli/contents/\n",
      "https://api.github.com/repos/cli/cli\n",
      "https://api.github.com/repos/date-fns/date-fns/contents/\n",
      "https://api.github.com/repos/date-fns/date-fns\n",
      "https://api.github.com/repos/dotnet/aspnetcore/contents/\n",
      "https://api.github.com/repos/dotnet/aspnetcore\n",
      "https://api.github.com/repos/bayandin/awesome-awesomeness/contents/\n",
      "https://api.github.com/repos/bayandin/awesome-awesomeness\n",
      "https://api.github.com/repos/ariya/phantomjs/contents/\n",
      "https://api.github.com/repos/ariya/phantomjs\n",
      "https://api.github.com/repos/openai/gym/contents/\n",
      "https://api.github.com/repos/openai/gym\n",
      "https://api.github.com/repos/typicode/husky/contents/\n",
      "https://api.github.com/repos/typicode/husky\n",
      "https://api.github.com/repos/google/googletest/contents/\n",
      "https://api.github.com/repos/google/googletest\n",
      "https://api.github.com/repos/standard/standard/contents/\n",
      "https://api.github.com/repos/standard/standard\n",
      "https://api.github.com/repos/naptha/tesseract.js/contents/\n",
      "https://api.github.com/repos/naptha/tesseract.js\n",
      "https://api.github.com/repos/symfony/symfony/contents/\n",
      "https://api.github.com/repos/symfony/symfony\n",
      "https://api.github.com/repos/airbnb/lottie-web/contents/\n",
      "https://api.github.com/repos/airbnb/lottie-web\n",
      "https://api.github.com/repos/aria2/aria2/contents/\n",
      "https://api.github.com/repos/aria2/aria2\n",
      "https://api.github.com/repos/elsewhencode/project-guidelines/contents/\n",
      "https://api.github.com/repos/elsewhencode/project-guidelines\n",
      "https://api.github.com/repos/Asabeneh/30-Days-Of-JavaScript/contents/\n",
      "https://api.github.com/repos/Asabeneh/30-Days-Of-JavaScript\n",
      "https://api.github.com/repos/crossoverJie/JCSprout/contents/\n",
      "https://api.github.com/repos/crossoverJie/JCSprout\n",
      "https://api.github.com/repos/Tencent/weui/contents/\n",
      "https://api.github.com/repos/Tencent/weui\n",
      "https://api.github.com/repos/halfrost/LeetCode-Go/contents/\n",
      "https://api.github.com/repos/halfrost/LeetCode-Go\n",
      "https://api.github.com/repos/curl/curl/contents/\n",
      "https://api.github.com/repos/curl/curl\n",
      "https://api.github.com/repos/ruanyf/weekly/contents/\n",
      "https://api.github.com/repos/ruanyf/weekly\n",
      "https://api.github.com/repos/fengdu78/Coursera-ML-AndrewNg-Notes/contents/\n",
      "https://api.github.com/repos/fengdu78/Coursera-ML-AndrewNg-Notes\n",
      "https://api.github.com/repos/request/request/contents/\n",
      "https://api.github.com/repos/request/request\n",
      "https://api.github.com/repos/GoogleChrome/lighthouse/contents/\n",
      "https://api.github.com/repos/GoogleChrome/lighthouse\n",
      "https://api.github.com/repos/alibaba/easyexcel/contents/\n",
      "https://api.github.com/repos/alibaba/easyexcel\n",
      "https://api.github.com/repos/CMU-Perceptual-Computing-Lab/openpose/contents/\n",
      "https://api.github.com/repos/CMU-Perceptual-Computing-Lab/openpose\n",
      "https://api.github.com/repos/fastify/fastify/contents/\n",
      "https://api.github.com/repos/fastify/fastify\n",
      "https://api.github.com/repos/n8n-io/n8n/contents/\n",
      "https://api.github.com/repos/n8n-io/n8n\n",
      "https://api.github.com/repos/mbadolato/iTerm2-Color-Schemes/contents/\n",
      "https://api.github.com/repos/mbadolato/iTerm2-Color-Schemes\n",
      "https://api.github.com/repos/t4t5/sweetalert/contents/\n",
      "https://api.github.com/repos/t4t5/sweetalert\n",
      "https://api.github.com/repos/openfaas/faas/contents/\n",
      "https://api.github.com/repos/openfaas/faas\n",
      "https://api.github.com/repos/guzzle/guzzle/contents/\n",
      "https://api.github.com/repos/guzzle/guzzle\n",
      "https://api.github.com/repos/inconshreveable/ngrok/contents/\n",
      "https://api.github.com/repos/inconshreveable/ngrok\n",
      "https://api.github.com/repos/harvesthq/chosen/contents/\n",
      "https://api.github.com/repos/harvesthq/chosen\n",
      "https://api.github.com/repos/vapor/vapor/contents/\n",
      "https://api.github.com/repos/vapor/vapor\n",
      "https://api.github.com/repos/MostlyAdequate/mostly-adequate-guide/contents/\n",
      "https://api.github.com/repos/MostlyAdequate/mostly-adequate-guide\n",
      "https://api.github.com/repos/kilimchoi/engineering-blogs/contents/\n",
      "https://api.github.com/repos/kilimchoi/engineering-blogs\n",
      "https://api.github.com/repos/github/hub/contents/\n",
      "https://api.github.com/repos/github/hub\n",
      "https://api.github.com/repos/facebook/draft-js/contents/\n",
      "https://api.github.com/repos/facebook/draft-js\n",
      "https://api.github.com/repos/photoprism/photoprism/contents/\n",
      "https://api.github.com/repos/photoprism/photoprism\n",
      "https://api.github.com/repos/haizlin/fe-interview/contents/\n",
      "https://api.github.com/repos/haizlin/fe-interview\n",
      "https://api.github.com/repos/coder2gwy/coder2gwy/contents/\n",
      "https://api.github.com/repos/coder2gwy/coder2gwy\n",
      "https://api.github.com/repos/TheAlgorithms/JavaScript/contents/\n",
      "https://api.github.com/repos/TheAlgorithms/JavaScript\n",
      "https://api.github.com/repos/quasarframework/quasar/contents/\n",
      "https://api.github.com/repos/quasarframework/quasar\n",
      "https://api.github.com/repos/Tencent/wepy/contents/\n",
      "https://api.github.com/repos/Tencent/wepy\n",
      "https://api.github.com/repos/vercel/pkg/contents/\n",
      "https://api.github.com/repos/vercel/pkg\n",
      "https://api.github.com/repos/ray-project/ray/contents/\n",
      "https://api.github.com/repos/ray-project/ray\n",
      "https://api.github.com/repos/Polymer/polymer/contents/\n",
      "https://api.github.com/repos/Polymer/polymer\n",
      "https://api.github.com/repos/facebook/flow/contents/\n",
      "https://api.github.com/repos/facebook/flow\n",
      "https://api.github.com/repos/solidjs/solid/contents/\n",
      "https://api.github.com/repos/solidjs/solid\n",
      "https://api.github.com/repos/TencentARC/GFPGAN/contents/\n",
      "https://api.github.com/repos/TencentARC/GFPGAN\n",
      "https://api.github.com/repos/markerikson/react-redux-links/contents/\n",
      "https://api.github.com/repos/markerikson/react-redux-links\n",
      "https://api.github.com/repos/zhongyang219/TrafficMonitor/contents/\n",
      "https://api.github.com/repos/zhongyang219/TrafficMonitor\n",
      "https://api.github.com/repos/datasciencemasters/go/contents/\n",
      "https://api.github.com/repos/datasciencemasters/go\n",
      "https://api.github.com/repos/getredash/redash/contents/\n",
      "https://api.github.com/repos/getredash/redash\n",
      "https://api.github.com/repos/google/iosched/contents/\n",
      "https://api.github.com/repos/google/iosched\n",
      "https://api.github.com/repos/mochajs/mocha/contents/\n",
      "https://api.github.com/repos/mochajs/mocha\n",
      "https://api.github.com/repos/react-navigation/react-navigation/contents/\n",
      "https://api.github.com/repos/react-navigation/react-navigation\n",
      "https://api.github.com/repos/dnSpy/dnSpy/contents/\n",
      "https://api.github.com/repos/dnSpy/dnSpy\n",
      "https://api.github.com/repos/alpinejs/alpine/contents/\n",
      "https://api.github.com/repos/alpinejs/alpine\n",
      "https://api.github.com/repos/NativeScript/NativeScript/contents/\n",
      "https://api.github.com/repos/NativeScript/NativeScript\n",
      "https://api.github.com/repos/komeiji-satori/Dress/contents/\n",
      "https://api.github.com/repos/komeiji-satori/Dress\n",
      "https://api.github.com/repos/SwiftyJSON/SwiftyJSON/contents/\n",
      "https://api.github.com/repos/SwiftyJSON/SwiftyJSON\n",
      "https://api.github.com/repos/docsifyjs/docsify/contents/\n",
      "https://api.github.com/repos/docsifyjs/docsify\n",
      "https://api.github.com/repos/servo/servo/contents/\n",
      "https://api.github.com/repos/servo/servo\n",
      "https://api.github.com/repos/keon/algorithms/contents/\n",
      "https://api.github.com/repos/keon/algorithms\n",
      "https://api.github.com/repos/yuzu-emu/yuzu/contents/\n",
      "https://api.github.com/repos/yuzu-emu/yuzu\n",
      "https://api.github.com/repos/OWASP/CheatSheetSeries/contents/\n",
      "https://api.github.com/repos/OWASP/CheatSheetSeries\n",
      "https://api.github.com/repos/ApolloAuto/apollo/contents/\n",
      "https://api.github.com/repos/ApolloAuto/apollo\n",
      "https://api.github.com/repos/Pierian-Data/Complete-Python-3-Bootcamp/contents/\n",
      "https://api.github.com/repos/Pierian-Data/Complete-Python-3-Bootcamp\n",
      "https://api.github.com/repos/usablica/intro.js/contents/\n",
      "https://api.github.com/repos/usablica/intro.js\n",
      "https://api.github.com/repos/kriasoft/react-starter-kit/contents/\n",
      "https://api.github.com/repos/kriasoft/react-starter-kit\n",
      "https://api.github.com/repos/qianguyihao/Web/contents/\n",
      "https://api.github.com/repos/qianguyihao/Web\n",
      "https://api.github.com/repos/ShareX/ShareX/contents/\n",
      "https://api.github.com/repos/ShareX/ShareX\n",
      "https://api.github.com/repos/bilibili/flv.js/contents/\n",
      "https://api.github.com/repos/bilibili/flv.js\n",
      "https://api.github.com/repos/dotnet-architecture/eShopOnContainers/contents/\n",
      "https://api.github.com/repos/dotnet-architecture/eShopOnContainers\n",
      "https://api.github.com/repos/eriklindernoren/ML-From-Scratch/contents/\n",
      "https://api.github.com/repos/eriklindernoren/ML-From-Scratch\n",
      "https://api.github.com/repos/StevenBlack/hosts/contents/\n",
      "https://api.github.com/repos/StevenBlack/hosts\n",
      "https://api.github.com/repos/python-poetry/poetry/contents/\n",
      "https://api.github.com/repos/python-poetry/poetry\n",
      "https://api.github.com/repos/github/copilot-docs/contents/\n",
      "https://api.github.com/repos/github/copilot-docs\n",
      "https://api.github.com/repos/nicolargo/glances/contents/\n",
      "https://api.github.com/repos/nicolargo/glances\n",
      "https://api.github.com/repos/numpy/numpy/contents/\n",
      "https://api.github.com/repos/numpy/numpy\n",
      "https://api.github.com/repos/google/gson/contents/\n",
      "https://api.github.com/repos/google/gson\n",
      "https://api.github.com/repos/AMAI-GmbH/AI-Expert-Roadmap/contents/\n",
      "https://api.github.com/repos/AMAI-GmbH/AI-Expert-Roadmap\n",
      "https://api.github.com/repos/bevacqua/dragula/contents/\n",
      "https://api.github.com/repos/bevacqua/dragula\n",
      "https://api.github.com/repos/eugeneyan/applied-ml/contents/\n",
      "https://api.github.com/repos/eugeneyan/applied-ml\n",
      "https://api.github.com/repos/wangzheng0822/algo/contents/\n",
      "https://api.github.com/repos/wangzheng0822/algo\n",
      "https://api.github.com/repos/michalsnik/aos/contents/\n",
      "https://api.github.com/repos/michalsnik/aos\n",
      "https://api.github.com/repos/sirupsen/logrus/contents/\n",
      "https://api.github.com/repos/sirupsen/logrus\n",
      "https://api.github.com/repos/conwnet/github1s/contents/\n",
      "https://api.github.com/repos/conwnet/github1s\n",
      "https://api.github.com/repos/eslint/eslint/contents/\n",
      "https://api.github.com/repos/eslint/eslint\n",
      "https://api.github.com/repos/statelyai/xstate/contents/\n",
      "https://api.github.com/repos/statelyai/xstate\n",
      "https://api.github.com/repos/pmndrs/zustand/contents/\n",
      "https://api.github.com/repos/pmndrs/zustand\n",
      "https://api.github.com/repos/ipfs/ipfs/contents/\n",
      "https://api.github.com/repos/ipfs/ipfs\n",
      "https://api.github.com/repos/open-mmlab/mmdetection/contents/\n",
      "https://api.github.com/repos/open-mmlab/mmdetection\n",
      "https://api.github.com/repos/chenglou/react-motion/contents/\n",
      "https://api.github.com/repos/chenglou/react-motion\n",
      "https://api.github.com/repos/ascoders/weekly/contents/\n",
      "https://api.github.com/repos/ascoders/weekly\n",
      "https://api.github.com/repos/wsargent/docker-cheat-sheet/contents/\n",
      "https://api.github.com/repos/wsargent/docker-cheat-sheet\n",
      "https://api.github.com/repos/DIYgod/RSSHub/contents/\n",
      "https://api.github.com/repos/DIYgod/RSSHub\n",
      "https://api.github.com/repos/yeasy/docker_practice/contents/\n",
      "https://api.github.com/repos/yeasy/docker_practice\n",
      "https://api.github.com/repos/react-bootstrap/react-bootstrap/contents/\n",
      "https://api.github.com/repos/react-bootstrap/react-bootstrap\n",
      "https://api.github.com/repos/HeroTransitions/Hero/contents/\n",
      "https://api.github.com/repos/HeroTransitions/Hero\n",
      "https://api.github.com/repos/jlmakes/scrollreveal/contents/\n",
      "https://api.github.com/repos/jlmakes/scrollreveal\n",
      "https://api.github.com/repos/neoclide/coc.nvim/contents/\n",
      "https://api.github.com/repos/neoclide/coc.nvim\n",
      "https://api.github.com/repos/viatsko/awesome-vscode/contents/\n",
      "https://api.github.com/repos/viatsko/awesome-vscode\n",
      "https://api.github.com/repos/localForage/localForage/contents/\n",
      "https://api.github.com/repos/localForage/localForage\n",
      "https://api.github.com/repos/paularmstrong/normalizr/contents/\n",
      "https://api.github.com/repos/paularmstrong/normalizr\n",
      "https://api.github.com/repos/pugjs/pug/contents/\n",
      "https://api.github.com/repos/pugjs/pug\n",
      "https://api.github.com/repos/microsoft/cascadia-code/contents/\n",
      "https://api.github.com/repos/microsoft/cascadia-code\n",
      "https://api.github.com/repos/SerenityOS/serenity/contents/\n",
      "https://api.github.com/repos/SerenityOS/serenity\n",
      "https://api.github.com/repos/bradtraversy/50projects50days/contents/\n",
      "https://api.github.com/repos/bradtraversy/50projects50days\n",
      "https://api.github.com/repos/k3s-io/k3s/contents/\n",
      "https://api.github.com/repos/k3s-io/k3s\n",
      "https://api.github.com/repos/rwaldron/idiomatic.js/contents/\n",
      "https://api.github.com/repos/rwaldron/idiomatic.js\n",
      "https://api.github.com/repos/googlehosts/hosts/contents/\n",
      "https://api.github.com/repos/googlehosts/hosts\n",
      "https://api.github.com/repos/sebastianruder/NLP-progress/contents/\n",
      "https://api.github.com/repos/sebastianruder/NLP-progress\n",
      "https://api.github.com/repos/appsmithorg/appsmith/contents/\n",
      "https://api.github.com/repos/appsmithorg/appsmith\n",
      "https://api.github.com/repos/WerWolv/ImHex/contents/\n",
      "https://api.github.com/repos/WerWolv/ImHex\n",
      "https://api.github.com/repos/wesbos/JavaScript30/contents/\n",
      "https://api.github.com/repos/wesbos/JavaScript30\n",
      "https://api.github.com/repos/vuejs/vuepress/contents/\n",
      "https://api.github.com/repos/vuejs/vuepress\n",
      "https://api.github.com/repos/DesignPatternsPHP/DesignPatternsPHP/contents/\n",
      "https://api.github.com/repos/DesignPatternsPHP/DesignPatternsPHP\n",
      "https://api.github.com/repos/TeamNewPipe/NewPipe/contents/\n",
      "https://api.github.com/repos/TeamNewPipe/NewPipe\n",
      "https://api.github.com/repos/uglide/RedisDesktopManager/contents/\n",
      "https://api.github.com/repos/uglide/RedisDesktopManager\n",
      "https://api.github.com/repos/discordjs/discord.js/contents/\n",
      "https://api.github.com/repos/discordjs/discord.js\n",
      "https://api.github.com/repos/louislam/uptime-kuma/contents/\n",
      "https://api.github.com/repos/louislam/uptime-kuma\n",
      "https://api.github.com/repos/tornadoweb/tornado/contents/\n",
      "https://api.github.com/repos/tornadoweb/tornado\n",
      "https://api.github.com/repos/rwightman/pytorch-image-models/contents/\n",
      "https://api.github.com/repos/rwightman/pytorch-image-models\n",
      "https://api.github.com/repos/homebridge/homebridge/contents/\n",
      "https://api.github.com/repos/homebridge/homebridge\n",
      "https://api.github.com/repos/goldfire/howler.js/contents/\n",
      "https://api.github.com/repos/goldfire/howler.js\n",
      "https://api.github.com/repos/ColorlibHQ/gentelella/contents/\n",
      "https://api.github.com/repos/ColorlibHQ/gentelella\n",
      "https://api.github.com/repos/julycoding/The-Art-Of-Programming-By-July/contents/\n",
      "https://api.github.com/repos/julycoding/The-Art-Of-Programming-By-July\n",
      "https://api.github.com/repos/zeromicro/go-zero/contents/\n",
      "https://api.github.com/repos/zeromicro/go-zero\n",
      "https://api.github.com/repos/notable/notable/contents/\n",
      "https://api.github.com/repos/notable/notable\n",
      "https://api.github.com/repos/necolas/react-native-web/contents/\n",
      "https://api.github.com/repos/necolas/react-native-web\n",
      "https://api.github.com/repos/JohnCoates/Aerial/contents/\n",
      "https://api.github.com/repos/JohnCoates/Aerial\n",
      "https://api.github.com/repos/petkaantonov/bluebird/contents/\n",
      "https://api.github.com/repos/petkaantonov/bluebird\n",
      "https://api.github.com/repos/vant-ui/vant/contents/\n",
      "https://api.github.com/repos/vant-ui/vant\n",
      "https://api.github.com/repos/electron-react-boilerplate/electron-react-boilerplate/contents/\n",
      "https://api.github.com/repos/electron-react-boilerplate/electron-react-boilerplate\n",
      "https://api.github.com/repos/tsenart/vegeta/contents/\n",
      "https://api.github.com/repos/tsenart/vegeta\n",
      "https://api.github.com/repos/gfwlist/gfwlist/contents/\n",
      "https://api.github.com/repos/gfwlist/gfwlist\n",
      "https://api.github.com/repos/microsoft/api-guidelines/contents/\n",
      "https://api.github.com/repos/microsoft/api-guidelines\n",
      "https://api.github.com/repos/enzymejs/enzyme/contents/\n",
      "https://api.github.com/repos/enzymejs/enzyme\n",
      "https://api.github.com/repos/mpv-player/mpv/contents/\n",
      "https://api.github.com/repos/mpv-player/mpv\n",
      "https://api.github.com/repos/lutzroeder/netron/contents/\n",
      "https://api.github.com/repos/lutzroeder/netron\n"
     ]
    }
   ],
   "source": [
    "temp = acquire.wrangle_data()"
   ]
  },
  {
   "cell_type": "code",
   "execution_count": 34,
   "metadata": {},
   "outputs": [
    {
     "data": {
      "text/plain": [
       "(227, 3)"
      ]
     },
     "execution_count": 34,
     "metadata": {},
     "output_type": "execute_result"
    }
   ],
   "source": [
    "temp.shape"
   ]
  },
  {
   "cell_type": "code",
   "execution_count": 35,
   "metadata": {},
   "outputs": [
    {
     "data": {
      "text/plain": [
       "(1031, 3)"
      ]
     },
     "execution_count": 35,
     "metadata": {},
     "output_type": "execute_result"
    }
   ],
   "source": [
    "pd.concat([df, temp]).shape"
   ]
  },
  {
   "cell_type": "code",
   "execution_count": 36,
   "metadata": {},
   "outputs": [],
   "source": [
    "final = pd.concat([df, temp])"
   ]
  },
  {
   "cell_type": "code",
   "execution_count": 39,
   "metadata": {},
   "outputs": [],
   "source": [
    "final.drop_duplicates().to_csv('data.csv', index=False)"
   ]
  }
 ],
 "metadata": {
  "kernelspec": {
   "display_name": "Python 3.10.4 64-bit",
   "language": "python",
   "name": "python3"
  },
  "language_info": {
   "codemirror_mode": {
    "name": "ipython",
    "version": 3
   },
   "file_extension": ".py",
   "mimetype": "text/x-python",
   "name": "python",
   "nbconvert_exporter": "python",
   "pygments_lexer": "ipython3",
   "version": "3.10.4"
  },
  "orig_nbformat": 4,
  "vscode": {
   "interpreter": {
    "hash": "37b4e1d782780d9803a775659fc8b81e9cc61a0899d4564192c1f7cc3c556e45"
   }
  }
 },
 "nbformat": 4,
 "nbformat_minor": 2
}
