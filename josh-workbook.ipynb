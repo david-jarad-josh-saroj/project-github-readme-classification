{
 "cells": [
  {
   "cell_type": "code",
   "execution_count": 25,
   "metadata": {},
   "outputs": [],
   "source": [
    "import requests\n",
    "import json\n",
    "from typing import Dict, List, Optional, Union, cast\n",
    "from env import github_username, github_token\n",
    "import time\n",
    "\n",
    "base_api_url='https://api.github.com/'\n",
    "\n",
    "headers = {\"Authorization\": f\"token {github_token}\", \"User-Agent\": github_username}\n",
    "\n",
    "if headers[\"Authorization\"] == \"token \" or headers[\"User-Agent\"] == \"\":\n",
    "    raise Exception(\n",
    "        \"You need to follow the instructions marked TODO in this script before trying to use it\"\n",
    "    )\n",
    "\n",
    "page=1\n"
   ]
  },
  {
   "cell_type": "code",
   "execution_count": null,
   "metadata": {},
   "outputs": [],
   "source": [
    "\n",
    "# Building the Search API URL\n",
    "# search_final_url = base_api_url + 'search/repositories?q=' + \\\n",
    "#         query + '&page=' + str(page) + '&' + token\n"
   ]
  },
  {
   "cell_type": "code",
   "execution_count": 4,
   "metadata": {},
   "outputs": [],
   "source": [
    "def github_api_request(url: str) -> Union[List, Dict]:\n",
    "    response = requests.get(url, headers=headers)\n",
    "    response_data = response.json()\n",
    "    if response.status_code != 200:\n",
    "        raise Exception(\n",
    "            f\"Error response from github api! status code: {response.status_code}, \"\n",
    "            f\"response: {json.dumps(response_data)}\"\n",
    "        )\n",
    "    return response_data"
   ]
  },
  {
   "cell_type": "code",
   "execution_count": 15,
   "metadata": {},
   "outputs": [
    {
     "data": {
      "text/plain": [
       "'https://api.github.com/search/repositories?q={query}{&page,per_page,sort,order}'"
      ]
     },
     "execution_count": 15,
     "metadata": {},
     "output_type": "execute_result"
    }
   ],
   "source": [
    "github_api_request(base_api_url)['repository_search_url']"
   ]
  },
  {
   "cell_type": "code",
   "execution_count": 26,
   "metadata": {},
   "outputs": [
    {
     "data": {
      "text/plain": [
       "1500"
      ]
     },
     "execution_count": 26,
     "metadata": {},
     "output_type": "execute_result"
    }
   ],
   "source": [
    "l = []\n",
    "page = 0\n",
    "# query = 'CodeUp'\n",
    "# url = f'https://api.github.com/search/repositories?q={query}&p=1&per_page=1500'\n",
    "while len(l) < 1499:\n",
    "    time.sleep(2) # Rate limited to 30/min\n",
    "    page += 1\n",
    "    url = f'https://api.github.com/search/repositories?q=stars%3A%3E1&s=forks&type=Repositories&p={page}&per_page=100'\n",
    "    response = requests.get(url, headers=headers)\n",
    "    for item in response.json()['items']:\n",
    "        l.append(item['full_name'])\n",
    "len(l)"
   ]
  },
  {
   "cell_type": "code",
   "execution_count": 21,
   "metadata": {},
   "outputs": [
    {
     "data": {
      "text/plain": [
       "['freeCodeCamp/freeCodeCamp',\n",
       " '996icu/996.ICU',\n",
       " 'EbookFoundation/free-programming-books',\n",
       " 'jwasham/coding-interview-university',\n",
       " 'kamranahmedse/developer-roadmap',\n",
       " 'public-apis/public-apis',\n",
       " 'donnemartin/system-design-primer',\n",
       " 'facebook/react',\n",
       " 'twbs/bootstrap',\n",
       " 'getify/You-Dont-Know-JS',\n",
       " 'CyC2018/CS-Notes',\n",
       " 'trekhleb/javascript-algorithms',\n",
       " 'ohmyzsh/ohmyzsh',\n",
       " 'flutter/flutter',\n",
       " 'TheAlgorithms/Python',\n",
       " 'vinta/awesome-python',\n",
       " 'github/gitignore',\n",
       " 'torvalds/linux',\n",
       " 'microsoft/vscode',\n",
       " 'jackfrued/Python-100-Days',\n",
       " 'ossu/computer-science',\n",
       " 'ytdl-org/youtube-dl',\n",
       " 'labuladong/fucking-algorithm',\n",
       " 'jlevy/the-art-of-command-line',\n",
       " 'golang/go',\n",
       " 'd3/d3',\n",
       " '30-seconds/30-seconds-of-code',\n",
       " 'awesome-selfhosted/awesome-selfhosted',\n",
       " 'facebook/create-react-app',\n",
       " 'axios/axios',\n",
       " 'vercel/next.js',\n",
       " 'kubernetes/kubernetes',\n",
       " 'nodejs/node',\n",
       " 'avelino/awesome-go',\n",
       " 'denoland/deno',\n",
       " 'mrdoob/three.js',\n",
       " 'angular/angular',\n",
       " 'ant-design/ant-design',\n",
       " 'goldbergyoni/nodebestpractices',\n",
       " 'mui/material-ui',\n",
       " 'PanJiaChen/vue-element-admin',\n",
       " 'yangshun/tech-interview-handbook',\n",
       " 'microsoft/PowerToys',\n",
       " 'practical-tutorials/project-based-learning',\n",
       " 'tensorflow/models',\n",
       " 'storybookjs/storybook',\n",
       " 'nvbn/thefuck',\n",
       " 'ryanmcdermott/clean-code-javascript',\n",
       " 'rust-lang/rust',\n",
       " 'MisterBooo/LeetCodeAnimation',\n",
       " 'laravel/laravel',\n",
       " 'FortAwesome/Font-Awesome',\n",
       " 'Genymobile/scrcpy',\n",
       " 'huggingface/transformers',\n",
       " 'gothinkster/realworld',\n",
       " 'vuejs/awesome-vue',\n",
       " 'django/django',\n",
       " 'tonsky/FiraCode',\n",
       " 'doocs/advanced-java',\n",
       " 'moby/moby',\n",
       " 'typicode/json-server',\n",
       " 'gin-gonic/gin',\n",
       " 'sveltejs/svelte',\n",
       " 'webpack/webpack',\n",
       " 'hakimel/reveal.js',\n",
       " 'thedaviddias/Front-End-Checklist',\n",
       " 'gohugoio/hugo',\n",
       " 'elastic/elasticsearch',\n",
       " 'macrozheng/mall',\n",
       " 'nvm-sh/nvm',\n",
       " 'apple/swift',\n",
       " 'pallets/flask',\n",
       " 'tailwindlabs/tailwindcss',\n",
       " 'angular/angular.js',\n",
       " 'ripienaar/free-for-dev',\n",
       " '521xueweihan/HelloGitHub',\n",
       " 'reduxjs/redux',\n",
       " 'pytorch/pytorch',\n",
       " 'kdn251/interviews',\n",
       " 'chartjs/Chart.js',\n",
       " 'neovim/neovim',\n",
       " 'xingshaocheng/architect-awesome',\n",
       " 'jquery/jquery',\n",
       " 'redis/redis',\n",
       " 'adam-p/markdown-here',\n",
       " 'protocolbuffers/protobuf',\n",
       " 'josephmisiti/awesome-machine-learning',\n",
       " 'Hack-with-Github/Awesome-Hacking',\n",
       " 'shadowsocks/shadowsocks-windows',\n",
       " 'iptv-org/iptv',\n",
       " 'ansible/ansible',\n",
       " 'gatsbyjs/gatsby',\n",
       " 'chrislgarry/Apollo-11',\n",
       " 'leonardomso/33-js-concepts',\n",
       " 'Semantic-Org/Semantic-UI',\n",
       " 'tauri-apps/tauri',\n",
       " 'DopplerHQ/awesome-interview-questions',\n",
       " 'azl397985856/leetcode',\n",
       " 'spring-projects/spring-framework',\n",
       " 'tiangolo/fastapi']"
      ]
     },
     "execution_count": 21,
     "metadata": {},
     "output_type": "execute_result"
    }
   ],
   "source": [
    "l"
   ]
  },
  {
   "cell_type": "code",
   "execution_count": 28,
   "metadata": {},
   "outputs": [],
   "source": [
    "import pandas as pd\n",
    "pd.DataFrame(l).to_csv('git_urls.csv', index=False)"
   ]
  }
 ],
 "metadata": {
  "kernelspec": {
   "display_name": "Python 3.10.4 64-bit",
   "language": "python",
   "name": "python3"
  },
  "language_info": {
   "codemirror_mode": {
    "name": "ipython",
    "version": 3
   },
   "file_extension": ".py",
   "mimetype": "text/x-python",
   "name": "python",
   "nbconvert_exporter": "python",
   "pygments_lexer": "ipython3",
   "version": "3.10.4"
  },
  "orig_nbformat": 4,
  "vscode": {
   "interpreter": {
    "hash": "37b4e1d782780d9803a775659fc8b81e9cc61a0899d4564192c1f7cc3c556e45"
   }
  }
 },
 "nbformat": 4,
 "nbformat_minor": 2
}
