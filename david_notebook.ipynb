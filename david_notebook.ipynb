<<<<<<< HEAD
{
 "cells": [
  {
   "cell_type": "markdown",
   "metadata": {},
   "source": [
    "# NLP Group Project\n",
    "### David's Personal Notebook"
   ]
  },
  {
   "cell_type": "code",
   "execution_count": 1,
   "metadata": {},
   "outputs": [],
   "source": [
    "import pandas as pd\n",
    "import numpy as np\n",
    "import os\n",
    "import json\n",
    "import csv\n",
    "import requests\n",
    "\n",
    "import unicodedata\n",
    "import string\n",
    "import time\n",
    "import random\n",
    "from bs4 import BeautifulSoup\n",
    "from requests import get\n",
    "import re\n",
    "\n",
    "from nltk.tokenize import word_tokenize\n",
    "from nltk.corpus import stopwords\n",
    "import matplotlib.pyplot as plt\n",
    "\n",
    "import env\n",
    "import acquire\n",
    "import prepare"
   ]
  },
  {
   "cell_type": "markdown",
   "metadata": {},
   "source": [
    "## Acquire\n",
    "Was not able to acquire dataset utilizing acquire.py due to computational limitations. \\\n",
    "Team member Josh acquired and uploaded the dataset as a csv for our team's convenience."
   ]
  },
  {
   "cell_type": "code",
   "execution_count": 2,
   "metadata": {},
   "outputs": [],
   "source": [
    "# Reading csv into notebook as df\n",
    "df = pd.read_csv('~/codeup/data.csv')"
   ]
  },
  {
   "cell_type": "code",
   "execution_count": 3,
   "metadata": {},
   "outputs": [
    {
     "data": {
      "text/html": [
       "<div>\n",
       "<style scoped>\n",
       "    .dataframe tbody tr th:only-of-type {\n",
       "        vertical-align: middle;\n",
       "    }\n",
       "\n",
       "    .dataframe tbody tr th {\n",
       "        vertical-align: top;\n",
       "    }\n",
       "\n",
       "    .dataframe thead th {\n",
       "        text-align: right;\n",
       "    }\n",
       "</style>\n",
       "<table border=\"1\" class=\"dataframe\">\n",
       "  <thead>\n",
       "    <tr style=\"text-align: right;\">\n",
       "      <th></th>\n",
       "      <th>repo</th>\n",
       "      <th>language</th>\n",
       "      <th>readme_contents</th>\n",
       "    </tr>\n",
       "  </thead>\n",
       "  <tbody>\n",
       "    <tr>\n",
       "      <th>0</th>\n",
       "      <td>freeCodeCamp/freeCodeCamp</td>\n",
       "      <td>TypeScript</td>\n",
       "      <td>[![freeCodeCamp Social Banner](https://s3.amaz...</td>\n",
       "    </tr>\n",
       "    <tr>\n",
       "      <th>1</th>\n",
       "      <td>996icu/996.ICU</td>\n",
       "      <td>NaN</td>\n",
       "      <td>[996.ICU](https://996.icu/#/en_US)\\n=======\\n*...</td>\n",
       "    </tr>\n",
       "    <tr>\n",
       "      <th>2</th>\n",
       "      <td>EbookFoundation/free-programming-books</td>\n",
       "      <td>NaN</td>\n",
       "      <td># List of Free Learning Resources In Many Lang...</td>\n",
       "    </tr>\n",
       "    <tr>\n",
       "      <th>3</th>\n",
       "      <td>jwasham/coding-interview-university</td>\n",
       "      <td>NaN</td>\n",
       "      <td># Coding Interview University\\n\\n&gt; I originall...</td>\n",
       "    </tr>\n",
       "    <tr>\n",
       "      <th>4</th>\n",
       "      <td>kamranahmedse/developer-roadmap</td>\n",
       "      <td>TypeScript</td>\n",
       "      <td>&lt;p align=\"center\"&gt;\\n  &lt;img src=\"public/brand.p...</td>\n",
       "    </tr>\n",
       "  </tbody>\n",
       "</table>\n",
       "</div>"
      ],
      "text/plain": [
       "                                     repo    language  \\\n",
       "0               freeCodeCamp/freeCodeCamp  TypeScript   \n",
       "1                          996icu/996.ICU         NaN   \n",
       "2  EbookFoundation/free-programming-books         NaN   \n",
       "3     jwasham/coding-interview-university         NaN   \n",
       "4         kamranahmedse/developer-roadmap  TypeScript   \n",
       "\n",
       "                                     readme_contents  \n",
       "0  [![freeCodeCamp Social Banner](https://s3.amaz...  \n",
       "1  [996.ICU](https://996.icu/#/en_US)\\n=======\\n*...  \n",
       "2  # List of Free Learning Resources In Many Lang...  \n",
       "3  # Coding Interview University\\n\\n> I originall...  \n",
       "4  <p align=\"center\">\\n  <img src=\"public/brand.p...  "
      ]
     },
     "execution_count": 3,
     "metadata": {},
     "output_type": "execute_result"
    }
   ],
   "source": [
    "df.head()"
   ]
  },
  {
   "cell_type": "code",
   "execution_count": 4,
   "metadata": {},
   "outputs": [
    {
     "data": {
      "text/plain": [
       "(1031, 3)"
      ]
     },
     "execution_count": 4,
     "metadata": {},
     "output_type": "execute_result"
    }
   ],
   "source": [
    "df.shape"
   ]
  },
  {
   "cell_type": "code",
   "execution_count": 5,
   "metadata": {},
   "outputs": [
    {
     "name": "stdout",
     "output_type": "stream",
     "text": [
      "<class 'pandas.core.frame.DataFrame'>\n",
      "RangeIndex: 1031 entries, 0 to 1030\n",
      "Data columns (total 3 columns):\n",
      " #   Column           Non-Null Count  Dtype \n",
      "---  ------           --------------  ----- \n",
      " 0   repo             1031 non-null   object\n",
      " 1   language         917 non-null    object\n",
      " 2   readme_contents  1027 non-null   object\n",
      "dtypes: object(3)\n",
      "memory usage: 24.3+ KB\n"
     ]
    }
   ],
   "source": [
    "df.info()"
   ]
  },
  {
   "cell_type": "markdown",
   "metadata": {},
   "source": [
    "## Prepare"
   ]
  },
  {
   "cell_type": "code",
   "execution_count": 6,
   "metadata": {},
   "outputs": [
    {
     "data": {
      "text/plain": [
       "False    917\n",
       "True     114\n",
       "Name: language, dtype: int64"
      ]
     },
     "execution_count": 6,
     "metadata": {},
     "output_type": "execute_result"
    }
   ],
   "source": [
    "df.language.isnull().value_counts()"
   ]
  },
  {
   "cell_type": "code",
   "execution_count": 7,
   "metadata": {},
   "outputs": [],
   "source": [
    "# Team concludes languages that are null be labeled \"English\"\n",
    "df.language = df.language.fillna('English')"
   ]
  },
  {
   "cell_type": "code",
   "execution_count": 8,
   "metadata": {},
   "outputs": [
    {
     "data": {
      "text/plain": [
       "JavaScript          232\n",
       "Python              114\n",
       "English             114\n",
       "TypeScript          110\n",
       "Go                   78\n",
       "Java                 70\n",
       "C++                  56\n",
       "C                    30\n",
       "HTML                 23\n",
       "Shell                22\n",
       "Rust                 21\n",
       "Swift                18\n",
       "Ruby                 18\n",
       "Jupyter Notebook     14\n",
       "PHP                  14\n",
       "C#                   13\n",
       "Kotlin               12\n",
       "CSS                  12\n",
       "Vue                   8\n",
       "Objective-C           5\n",
       "Lua                   4\n",
       "Dart                  4\n",
       "Vim script            3\n",
       "Haskell               3\n",
       "Markdown              3\n",
       "SCSS                  3\n",
       "TeX                   3\n",
       "Elixir                2\n",
       "Vim Script            2\n",
       "Clojure               2\n",
       "Makefile              2\n",
       "Zig                   1\n",
       "Emacs Lisp            1\n",
       "OCaml                 1\n",
       "Julia                 1\n",
       "CoffeeScript          1\n",
       "Objective-C++         1\n",
       "AsciiDoc              1\n",
       "Nunjucks              1\n",
       "Batchfile             1\n",
       "Scala                 1\n",
       "Jinja                 1\n",
       "Roff                  1\n",
       "Dockerfile            1\n",
       "Assembly              1\n",
       "V                     1\n",
       "Standard ML           1\n",
       "Name: language, dtype: int64"
      ]
     },
     "execution_count": 8,
     "metadata": {},
     "output_type": "execute_result"
    }
   ],
   "source": [
    "df.language.value_counts()"
   ]
  },
  {
   "cell_type": "code",
   "execution_count": 9,
   "metadata": {},
   "outputs": [
    {
     "data": {
      "text/plain": [
       "repo               0\n",
       "language           0\n",
       "readme_contents    4\n",
       "dtype: int64"
      ]
     },
     "execution_count": 9,
     "metadata": {},
     "output_type": "execute_result"
    }
   ],
   "source": [
    "df.isnull().sum()"
   ]
  },
  {
   "cell_type": "markdown",
   "metadata": {},
   "source": [
    "Number of nulls in readme_contents is negligable. Thus, I'll drop these rows."
   ]
  },
  {
   "cell_type": "code",
   "execution_count": 10,
   "metadata": {},
   "outputs": [],
   "source": [
    "# Dropping 4 null rows\n",
    "df = df.dropna()"
   ]
  },
  {
   "cell_type": "code",
   "execution_count": 11,
   "metadata": {},
   "outputs": [
    {
     "data": {
      "text/plain": [
       "repo               0\n",
       "language           0\n",
       "readme_contents    0\n",
       "dtype: int64"
      ]
     },
     "execution_count": 11,
     "metadata": {},
     "output_type": "execute_result"
    }
   ],
   "source": [
    "df.isnull().sum()"
   ]
  },
  {
   "cell_type": "markdown",
   "metadata": {},
   "source": [
    "In order to avoid data imbalance, we limit languages to those who have at least 10 repo instances within our dataset."
   ]
  },
  {
   "cell_type": "code",
   "execution_count": 12,
   "metadata": {},
   "outputs": [],
   "source": [
    "# determining remaining list of languages\n",
    "languages_kept = df.language.value_counts()[df.language.value_counts() > 10].index"
   ]
  },
  {
   "cell_type": "code",
   "execution_count": 13,
   "metadata": {},
   "outputs": [
    {
     "data": {
      "text/plain": [
       "Index(['JavaScript', 'Python', 'English', 'TypeScript', 'Go', 'Java', 'C++',\n",
       "       'C', 'HTML', 'Shell', 'Rust', 'Swift', 'Ruby', 'Jupyter Notebook',\n",
       "       'PHP', 'C#', 'Kotlin', 'CSS'],\n",
       "      dtype='object')"
      ]
     },
     "execution_count": 13,
     "metadata": {},
     "output_type": "execute_result"
    }
   ],
   "source": [
    "languages_kept"
   ]
  },
  {
   "cell_type": "code",
   "execution_count": 14,
   "metadata": {},
   "outputs": [],
   "source": [
    "# Removing languages not kept\n",
    "df = df[df.language.isin(languages_kept)]"
   ]
  },
  {
   "cell_type": "code",
   "execution_count": 15,
   "metadata": {},
   "outputs": [
    {
     "name": "stdout",
     "output_type": "stream",
     "text": [
      "<class 'pandas.core.frame.DataFrame'>\n",
      "Int64Index: 967 entries, 0 to 1030\n",
      "Data columns (total 3 columns):\n",
      " #   Column           Non-Null Count  Dtype \n",
      "---  ------           --------------  ----- \n",
      " 0   repo             967 non-null    object\n",
      " 1   language         967 non-null    object\n",
      " 2   readme_contents  967 non-null    object\n",
      "dtypes: object(3)\n",
      "memory usage: 30.2+ KB\n"
     ]
    }
   ],
   "source": [
    "df.info()"
   ]
  },
  {
   "cell_type": "code",
   "execution_count": 16,
   "metadata": {},
   "outputs": [],
   "source": [
    "df['readme_contents'] =  df['readme_contents'].astype('string')"
   ]
  },
  {
   "cell_type": "code",
   "execution_count": 17,
   "metadata": {},
   "outputs": [
    {
     "data": {
      "text/html": [
       "<div>\n",
       "<style scoped>\n",
       "    .dataframe tbody tr th:only-of-type {\n",
       "        vertical-align: middle;\n",
       "    }\n",
       "\n",
       "    .dataframe tbody tr th {\n",
       "        vertical-align: top;\n",
       "    }\n",
       "\n",
       "    .dataframe thead th {\n",
       "        text-align: right;\n",
       "    }\n",
       "</style>\n",
       "<table border=\"1\" class=\"dataframe\">\n",
       "  <thead>\n",
       "    <tr style=\"text-align: right;\">\n",
       "      <th></th>\n",
       "      <th>repo</th>\n",
       "      <th>language</th>\n",
       "      <th>readme_contents</th>\n",
       "    </tr>\n",
       "  </thead>\n",
       "  <tbody>\n",
       "    <tr>\n",
       "      <th>0</th>\n",
       "      <td>freeCodeCamp/freeCodeCamp</td>\n",
       "      <td>TypeScript</td>\n",
       "      <td>[![freeCodeCamp Social Banner](https://s3.amaz...</td>\n",
       "    </tr>\n",
       "    <tr>\n",
       "      <th>1</th>\n",
       "      <td>996icu/996.ICU</td>\n",
       "      <td>English</td>\n",
       "      <td>[996.ICU](https://996.icu/#/en_US)\n",
       "=======\n",
       "**P...</td>\n",
       "    </tr>\n",
       "    <tr>\n",
       "      <th>2</th>\n",
       "      <td>EbookFoundation/free-programming-books</td>\n",
       "      <td>English</td>\n",
       "      <td># List of Free Learning Resources In Many Lang...</td>\n",
       "    </tr>\n",
       "    <tr>\n",
       "      <th>3</th>\n",
       "      <td>jwasham/coding-interview-university</td>\n",
       "      <td>English</td>\n",
       "      <td># Coding Interview University\n",
       "\n",
       "&gt; I originally ...</td>\n",
       "    </tr>\n",
       "    <tr>\n",
       "      <th>4</th>\n",
       "      <td>kamranahmedse/developer-roadmap</td>\n",
       "      <td>TypeScript</td>\n",
       "      <td>&lt;p align=\"center\"&gt;\n",
       "  &lt;img src=\"public/brand.pn...</td>\n",
       "    </tr>\n",
       "  </tbody>\n",
       "</table>\n",
       "</div>"
      ],
      "text/plain": [
       "                                     repo    language  \\\n",
       "0               freeCodeCamp/freeCodeCamp  TypeScript   \n",
       "1                          996icu/996.ICU     English   \n",
       "2  EbookFoundation/free-programming-books     English   \n",
       "3     jwasham/coding-interview-university     English   \n",
       "4         kamranahmedse/developer-roadmap  TypeScript   \n",
       "\n",
       "                                     readme_contents  \n",
       "0  [![freeCodeCamp Social Banner](https://s3.amaz...  \n",
       "1  [996.ICU](https://996.icu/#/en_US)\n",
       "=======\n",
       "**P...  \n",
       "2  # List of Free Learning Resources In Many Lang...  \n",
       "3  # Coding Interview University\n",
       "\n",
       "> I originally ...  \n",
       "4  <p align=\"center\">\n",
       "  <img src=\"public/brand.pn...  "
      ]
     },
     "execution_count": 17,
     "metadata": {},
     "output_type": "execute_result"
    }
   ],
   "source": [
    "df.head()"
   ]
  },
  {
   "cell_type": "code",
   "execution_count": 18,
   "metadata": {},
   "outputs": [],
   "source": [
    "test_clean = df['readme_contents'].map(lambda x: prepare.basic_clean(x))"
   ]
  },
  {
   "cell_type": "code",
   "execution_count": 19,
   "metadata": {},
   "outputs": [
    {
     "data": {
      "text/plain": [
       "0"
      ]
     },
     "execution_count": 19,
     "metadata": {},
     "output_type": "execute_result"
    }
   ],
   "source": [
    "test_clean.isnull().sum()"
   ]
  },
  {
   "cell_type": "markdown",
   "metadata": {},
   "source": [
    "Below, I utilize our prepare.py in order to clean, tokenize, and stem our `readme_contents` "
   ]
  },
  {
   "cell_type": "code",
   "execution_count": 20,
   "metadata": {},
   "outputs": [],
   "source": [
    "df['readme_contents'] = df['readme_contents'].map(lambda x: prepare.basic_clean(x))"
   ]
  },
  {
   "cell_type": "code",
   "execution_count": 21,
   "metadata": {},
   "outputs": [],
   "source": [
    "df['readme_contents'] = df['readme_contents'].map(lambda x: prepare.tokenize(x))"
   ]
  },
  {
   "cell_type": "code",
   "execution_count": 22,
   "metadata": {},
   "outputs": [],
   "source": [
    "df['stemmed'] = df['readme_contents'].map(lambda x: prepare.stem(x))"
   ]
  },
  {
   "cell_type": "code",
   "execution_count": 23,
   "metadata": {},
   "outputs": [],
   "source": [
    "df['lemma'] = df['readme_contents'].map(lambda x: prepare.lemmatize(x))"
   ]
  },
  {
   "cell_type": "code",
   "execution_count": 24,
   "metadata": {},
   "outputs": [
    {
     "name": "stdout",
     "output_type": "stream",
     "text": [
      "<class 'pandas.core.frame.DataFrame'>\n",
      "Int64Index: 967 entries, 0 to 1030\n",
      "Data columns (total 5 columns):\n",
      " #   Column           Non-Null Count  Dtype \n",
      "---  ------           --------------  ----- \n",
      " 0   repo             967 non-null    object\n",
      " 1   language         967 non-null    object\n",
      " 2   readme_contents  967 non-null    object\n",
      " 3   stemmed          967 non-null    object\n",
      " 4   lemma            967 non-null    object\n",
      "dtypes: object(5)\n",
      "memory usage: 45.3+ KB\n"
     ]
    }
   ],
   "source": [
    "df.info()"
   ]
  },
  {
   "cell_type": "code",
   "execution_count": 25,
   "metadata": {},
   "outputs": [
    {
     "data": {
      "text/html": [
       "<div>\n",
       "<style scoped>\n",
       "    .dataframe tbody tr th:only-of-type {\n",
       "        vertical-align: middle;\n",
       "    }\n",
       "\n",
       "    .dataframe tbody tr th {\n",
       "        vertical-align: top;\n",
       "    }\n",
       "\n",
       "    .dataframe thead th {\n",
       "        text-align: right;\n",
       "    }\n",
       "</style>\n",
       "<table border=\"1\" class=\"dataframe\">\n",
       "  <thead>\n",
       "    <tr style=\"text-align: right;\">\n",
       "      <th></th>\n",
       "      <th>repo</th>\n",
       "      <th>language</th>\n",
       "      <th>readme_contents</th>\n",
       "      <th>stemmed</th>\n",
       "      <th>lemma</th>\n",
       "    </tr>\n",
       "  </thead>\n",
       "  <tbody>\n",
       "    <tr>\n",
       "      <th>0</th>\n",
       "      <td>freeCodeCamp/freeCodeCamp</td>\n",
       "      <td>TypeScript</td>\n",
       "      <td>freecodecamp social bannerhttpss3amazonawscomf...</td>\n",
       "      <td>freecodecamp social bannerhttpss3amazonawscomf...</td>\n",
       "      <td>freecodecamp social bannerhttpss3amazonawscomf...</td>\n",
       "    </tr>\n",
       "    <tr>\n",
       "      <th>1</th>\n",
       "      <td>996icu/996.ICU</td>\n",
       "      <td>English</td>\n",
       "      <td>996icuhttps996icuen_us\\n\\nplease note that the...</td>\n",
       "      <td>996icuhttps996icuen_u pleas note that there ex...</td>\n",
       "      <td>996icuhttps996icuen_us please note that there ...</td>\n",
       "    </tr>\n",
       "    <tr>\n",
       "      <th>2</th>\n",
       "      <td>EbookFoundation/free-programming-books</td>\n",
       "      <td>English</td>\n",
       "      <td>list of free learning resources in many langua...</td>\n",
       "      <td>list of free learn resourc in mani languag div...</td>\n",
       "      <td>list of free learning resource in many languag...</td>\n",
       "    </tr>\n",
       "    <tr>\n",
       "      <th>3</th>\n",
       "      <td>jwasham/coding-interview-university</td>\n",
       "      <td>English</td>\n",
       "      <td>coding interview university\\n\\n i originally c...</td>\n",
       "      <td>code interview univers i origin creat thi as a...</td>\n",
       "      <td>coding interview university i originally creat...</td>\n",
       "    </tr>\n",
       "    <tr>\n",
       "      <th>4</th>\n",
       "      <td>kamranahmedse/developer-roadmap</td>\n",
       "      <td>TypeScript</td>\n",
       "      <td>p aligncenter\\n img srcpublicbrandpng height12...</td>\n",
       "      <td>p aligncent img srcpublicbrandpng height128 h2...</td>\n",
       "      <td>p aligncenter img srcpublicbrandpng height128 ...</td>\n",
       "    </tr>\n",
       "  </tbody>\n",
       "</table>\n",
       "</div>"
      ],
      "text/plain": [
       "                                     repo    language  \\\n",
       "0               freeCodeCamp/freeCodeCamp  TypeScript   \n",
       "1                          996icu/996.ICU     English   \n",
       "2  EbookFoundation/free-programming-books     English   \n",
       "3     jwasham/coding-interview-university     English   \n",
       "4         kamranahmedse/developer-roadmap  TypeScript   \n",
       "\n",
       "                                     readme_contents  \\\n",
       "0  freecodecamp social bannerhttpss3amazonawscomf...   \n",
       "1  996icuhttps996icuen_us\\n\\nplease note that the...   \n",
       "2  list of free learning resources in many langua...   \n",
       "3  coding interview university\\n\\n i originally c...   \n",
       "4  p aligncenter\\n img srcpublicbrandpng height12...   \n",
       "\n",
       "                                             stemmed  \\\n",
       "0  freecodecamp social bannerhttpss3amazonawscomf...   \n",
       "1  996icuhttps996icuen_u pleas note that there ex...   \n",
       "2  list of free learn resourc in mani languag div...   \n",
       "3  code interview univers i origin creat thi as a...   \n",
       "4  p aligncent img srcpublicbrandpng height128 h2...   \n",
       "\n",
       "                                               lemma  \n",
       "0  freecodecamp social bannerhttpss3amazonawscomf...  \n",
       "1  996icuhttps996icuen_us please note that there ...  \n",
       "2  list of free learning resource in many languag...  \n",
       "3  coding interview university i originally creat...  \n",
       "4  p aligncenter img srcpublicbrandpng height128 ...  "
      ]
     },
     "execution_count": 25,
     "metadata": {},
     "output_type": "execute_result"
    }
   ],
   "source": [
    "df.head()"
   ]
  },
  {
   "cell_type": "code",
   "execution_count": 31,
   "metadata": {},
   "outputs": [
    {
     "data": {
      "text/plain": [
       "JavaScript          232\n",
       "Python              114\n",
       "English             114\n",
       "TypeScript          109\n",
       "Go                   76\n",
       "Java                 70\n",
       "C++                  55\n",
       "C                    30\n",
       "HTML                 23\n",
       "Shell                22\n",
       "Rust                 21\n",
       "Ruby                 18\n",
       "Swift                18\n",
       "PHP                  14\n",
       "Jupyter Notebook     14\n",
       "C#                   13\n",
       "CSS                  12\n",
       "Kotlin               12\n",
       "Name: language, dtype: int64"
      ]
     },
     "execution_count": 31,
     "metadata": {},
     "output_type": "execute_result"
    }
   ],
   "source": [
    "df.language.value_counts()"
   ]
  },
  {
   "cell_type": "code",
   "execution_count": 32,
   "metadata": {},
   "outputs": [],
   "source": [
    "df_explore = df"
   ]
  },
  {
   "cell_type": "code",
   "execution_count": 33,
   "metadata": {},
   "outputs": [
    {
     "data": {
      "text/plain": [
       "(967, 5)"
      ]
     },
     "execution_count": 33,
     "metadata": {},
     "output_type": "execute_result"
    }
   ],
   "source": [
    "df_explore.shape"
   ]
  },
  {
   "cell_type": "code",
   "execution_count": 34,
   "metadata": {},
   "outputs": [],
   "source": [
    "df_explore['language'] =  df_explore['language'].astype('string')"
   ]
  },
  {
   "cell_type": "code",
   "execution_count": 35,
   "metadata": {},
   "outputs": [
    {
     "name": "stdout",
     "output_type": "stream",
     "text": [
      "<class 'pandas.core.frame.DataFrame'>\n",
      "Int64Index: 967 entries, 0 to 1030\n",
      "Data columns (total 5 columns):\n",
      " #   Column           Non-Null Count  Dtype \n",
      "---  ------           --------------  ----- \n",
      " 0   repo             967 non-null    object\n",
      " 1   language         967 non-null    string\n",
      " 2   readme_contents  967 non-null    object\n",
      " 3   stemmed          967 non-null    object\n",
      " 4   lemma            967 non-null    object\n",
      "dtypes: object(4), string(1)\n",
      "memory usage: 45.3+ KB\n"
     ]
    }
   ],
   "source": [
    "df_explore.info()"
   ]
  },
  {
   "cell_type": "code",
   "execution_count": 39,
   "metadata": {},
   "outputs": [
    {
     "data": {
      "text/plain": [
       "JavaScript          232\n",
       "Python              114\n",
       "English             114\n",
       "TypeScript          109\n",
       "Go                   76\n",
       "Java                 70\n",
       "C++                  55\n",
       "C                    30\n",
       "HTML                 23\n",
       "Shell                22\n",
       "Rust                 21\n",
       "Ruby                 18\n",
       "Swift                18\n",
       "PHP                  14\n",
       "Jupyter Notebook     14\n",
       "C#                   13\n",
       "CSS                  12\n",
       "Kotlin               12\n",
       "Name: language, dtype: Int64"
      ]
     },
     "execution_count": 39,
     "metadata": {},
     "output_type": "execute_result"
    }
   ],
   "source": [
    "df_explore.language.value_counts()"
   ]
  },
  {
   "cell_type": "code",
   "execution_count": null,
   "metadata": {},
   "outputs": [],
   "source": [
    "df_explore.lemma"
   ]
  },
  {
   "cell_type": "code",
   "execution_count": 43,
   "metadata": {},
   "outputs": [
    {
     "ename": "AttributeError",
     "evalue": "'Series' object has no attribute 'text'",
     "output_type": "error",
     "traceback": [
      "\u001b[0;31m---------------------------------------------------------------------------\u001b[0m",
      "\u001b[0;31mAttributeError\u001b[0m                            Traceback (most recent call last)",
      "\u001b[1;32m/Users/davidschneemann/codeup/project-github-readme-classification/david_notebook.ipynb Cell 39\u001b[0m in \u001b[0;36m<cell line: 1>\u001b[0;34m()\u001b[0m\n\u001b[0;32m----> <a href='vscode-notebook-cell:/Users/davidschneemann/codeup/project-github-readme-classification/david_notebook.ipynb#Y103sZmlsZQ%3D%3D?line=0'>1</a>\u001b[0m java \u001b[39m=\u001b[39m df_explore\u001b[39m.\u001b[39mlemma(\u001b[39m'\u001b[39m\u001b[39m \u001b[39m\u001b[39m'\u001b[39m\u001b[39m.\u001b[39mjoin(df_explore[\u001b[39m'\u001b[39;49m\u001b[39mlemma\u001b[39;49m\u001b[39m'\u001b[39;49m][df_explore\u001b[39m.\u001b[39;49mlanguage \u001b[39m==\u001b[39;49m \u001b[39m'\u001b[39;49m\u001b[39mJavaScript\u001b[39;49m\u001b[39m'\u001b[39;49m]\u001b[39m.\u001b[39;49mtext))\n",
      "File \u001b[0;32m/usr/local/anaconda3/lib/python3.9/site-packages/pandas/core/generic.py:5575\u001b[0m, in \u001b[0;36mNDFrame.__getattr__\u001b[0;34m(self, name)\u001b[0m\n\u001b[1;32m   5568\u001b[0m \u001b[39mif\u001b[39;00m (\n\u001b[1;32m   5569\u001b[0m     name \u001b[39mnot\u001b[39;00m \u001b[39min\u001b[39;00m \u001b[39mself\u001b[39m\u001b[39m.\u001b[39m_internal_names_set\n\u001b[1;32m   5570\u001b[0m     \u001b[39mand\u001b[39;00m name \u001b[39mnot\u001b[39;00m \u001b[39min\u001b[39;00m \u001b[39mself\u001b[39m\u001b[39m.\u001b[39m_metadata\n\u001b[1;32m   5571\u001b[0m     \u001b[39mand\u001b[39;00m name \u001b[39mnot\u001b[39;00m \u001b[39min\u001b[39;00m \u001b[39mself\u001b[39m\u001b[39m.\u001b[39m_accessors\n\u001b[1;32m   5572\u001b[0m     \u001b[39mand\u001b[39;00m \u001b[39mself\u001b[39m\u001b[39m.\u001b[39m_info_axis\u001b[39m.\u001b[39m_can_hold_identifiers_and_holds_name(name)\n\u001b[1;32m   5573\u001b[0m ):\n\u001b[1;32m   5574\u001b[0m     \u001b[39mreturn\u001b[39;00m \u001b[39mself\u001b[39m[name]\n\u001b[0;32m-> 5575\u001b[0m \u001b[39mreturn\u001b[39;00m \u001b[39mobject\u001b[39;49m\u001b[39m.\u001b[39;49m\u001b[39m__getattribute__\u001b[39;49m(\u001b[39mself\u001b[39;49m, name)\n",
      "\u001b[0;31mAttributeError\u001b[0m: 'Series' object has no attribute 'text'"
     ]
    }
   ],
   "source": [
    "java = df_explore.lemma(' '.join(df_explore['lemma'][df_explore.language == 'JavaScript'].text))"
   ]
  },
  {
   "cell_type": "code",
   "execution_count": null,
   "metadata": {},
   "outputs": [],
   "source": []
  },
  {
   "cell_type": "code",
   "execution_count": null,
   "metadata": {},
   "outputs": [],
   "source": []
  },
  {
   "cell_type": "code",
   "execution_count": null,
   "metadata": {},
   "outputs": [],
   "source": [
    "labels = pd.concat([df.label.value_counts(),\n",
    "                    df.label.value_counts(normalize=True)], axis=1)\n",
    "labels.columns = ['n', 'percent']\n",
    "labels"
   ]
  }
 ],
 "metadata": {
  "kernelspec": {
   "display_name": "Python 3.9.12 ('base')",
   "language": "python",
   "name": "python3"
  },
  "language_info": {
   "codemirror_mode": {
    "name": "ipython",
    "version": 3
   },
   "file_extension": ".py",
   "mimetype": "text/x-python",
   "name": "python",
   "nbconvert_exporter": "python",
   "pygments_lexer": "ipython3",
   "version": "3.9.12"
  },
  "orig_nbformat": 4,
  "vscode": {
   "interpreter": {
    "hash": "3067ead486e059ec00ffe7555bdb889e6e264a24dc711bf108106cc7baee8d5d"
   }
  }
 },
 "nbformat": 4,
 "nbformat_minor": 2
}
=======
{
 "cells": [
  {
   "cell_type": "markdown",
   "metadata": {},
   "source": [
    "# NLP Group Project\n",
    "### David's Personal Notebook"
   ]
  },
  {
   "cell_type": "code",
   "execution_count": 1,
   "metadata": {},
   "outputs": [
    {
     "data": {
      "application/vnd.jupyter.widget-view+json": {
       "model_id": "f046b4e4e31d487a812100f99d391d27",
       "version_major": 2,
       "version_minor": 0
      },
      "text/plain": [
       "IntProgress(value=0, description='Getting URLs', max=1000)"
      ]
     },
     "metadata": {},
     "output_type": "display_data"
    }
   ],
   "source": [
    "import pandas as pd\n",
    "import numpy as np\n",
    "import os\n",
    "import json\n",
    "import csv\n",
    "import requests\n",
    "\n",
    "import unicodedata\n",
    "import string\n",
    "import time\n",
    "import random\n",
    "from bs4 import BeautifulSoup\n",
    "from requests import get\n",
    "import re\n",
    "\n",
    "from nltk.tokenize import word_tokenize\n",
    "from nltk.corpus import stopwords\n",
    "import matplotlib.pyplot as plt\n",
    "\n",
    "import env\n",
    "import acquire\n",
    "import prepare"
   ]
  },
  {
   "cell_type": "markdown",
   "metadata": {},
   "source": [
    "## Acquire\n",
    "Was not able to acquire dataset utilizing acquire.py due to computational limitations. \\\n",
    "Team member Josh acquired and uploaded the dataset as a csv for our team's convenience."
   ]
  },
  {
   "cell_type": "code",
   "execution_count": 2,
   "metadata": {},
   "outputs": [],
   "source": [
    "# Reading csv into notebook as df\n",
    "df = pd.read_csv('~/codeup/data.csv')"
   ]
  },
  {
   "cell_type": "code",
   "execution_count": 3,
   "metadata": {},
   "outputs": [
    {
     "data": {
      "text/html": [
       "<div>\n",
       "<style scoped>\n",
       "    .dataframe tbody tr th:only-of-type {\n",
       "        vertical-align: middle;\n",
       "    }\n",
       "\n",
       "    .dataframe tbody tr th {\n",
       "        vertical-align: top;\n",
       "    }\n",
       "\n",
       "    .dataframe thead th {\n",
       "        text-align: right;\n",
       "    }\n",
       "</style>\n",
       "<table border=\"1\" class=\"dataframe\">\n",
       "  <thead>\n",
       "    <tr style=\"text-align: right;\">\n",
       "      <th></th>\n",
       "      <th>repo</th>\n",
       "      <th>language</th>\n",
       "      <th>readme_contents</th>\n",
       "    </tr>\n",
       "  </thead>\n",
       "  <tbody>\n",
       "    <tr>\n",
       "      <th>0</th>\n",
       "      <td>freeCodeCamp/freeCodeCamp</td>\n",
       "      <td>TypeScript</td>\n",
       "      <td>[![freeCodeCamp Social Banner](https://s3.amaz...</td>\n",
       "    </tr>\n",
       "    <tr>\n",
       "      <th>1</th>\n",
       "      <td>996icu/996.ICU</td>\n",
       "      <td>NaN</td>\n",
       "      <td>[996.ICU](https://996.icu/#/en_US)\\n=======\\n*...</td>\n",
       "    </tr>\n",
       "    <tr>\n",
       "      <th>2</th>\n",
       "      <td>EbookFoundation/free-programming-books</td>\n",
       "      <td>NaN</td>\n",
       "      <td># List of Free Learning Resources In Many Lang...</td>\n",
       "    </tr>\n",
       "    <tr>\n",
       "      <th>3</th>\n",
       "      <td>jwasham/coding-interview-university</td>\n",
       "      <td>NaN</td>\n",
       "      <td># Coding Interview University\\n\\n&gt; I originall...</td>\n",
       "    </tr>\n",
       "    <tr>\n",
       "      <th>4</th>\n",
       "      <td>kamranahmedse/developer-roadmap</td>\n",
       "      <td>TypeScript</td>\n",
       "      <td>&lt;p align=\"center\"&gt;\\n  &lt;img src=\"public/brand.p...</td>\n",
       "    </tr>\n",
       "  </tbody>\n",
       "</table>\n",
       "</div>"
      ],
      "text/plain": [
       "                                     repo    language  \\\n",
       "0               freeCodeCamp/freeCodeCamp  TypeScript   \n",
       "1                          996icu/996.ICU         NaN   \n",
       "2  EbookFoundation/free-programming-books         NaN   \n",
       "3     jwasham/coding-interview-university         NaN   \n",
       "4         kamranahmedse/developer-roadmap  TypeScript   \n",
       "\n",
       "                                     readme_contents  \n",
       "0  [![freeCodeCamp Social Banner](https://s3.amaz...  \n",
       "1  [996.ICU](https://996.icu/#/en_US)\\n=======\\n*...  \n",
       "2  # List of Free Learning Resources In Many Lang...  \n",
       "3  # Coding Interview University\\n\\n> I originall...  \n",
       "4  <p align=\"center\">\\n  <img src=\"public/brand.p...  "
      ]
     },
     "execution_count": 3,
     "metadata": {},
     "output_type": "execute_result"
    }
   ],
   "source": [
    "df.head()"
   ]
  },
  {
   "cell_type": "code",
   "execution_count": 4,
   "metadata": {},
   "outputs": [
    {
     "data": {
      "text/plain": [
       "(1031, 3)"
      ]
     },
     "execution_count": 4,
     "metadata": {},
     "output_type": "execute_result"
    }
   ],
   "source": [
    "df.shape"
   ]
  },
  {
   "cell_type": "code",
   "execution_count": 5,
   "metadata": {},
   "outputs": [
    {
     "name": "stdout",
     "output_type": "stream",
     "text": [
      "<class 'pandas.core.frame.DataFrame'>\n",
      "RangeIndex: 1031 entries, 0 to 1030\n",
      "Data columns (total 3 columns):\n",
      " #   Column           Non-Null Count  Dtype \n",
      "---  ------           --------------  ----- \n",
      " 0   repo             1031 non-null   object\n",
      " 1   language         917 non-null    object\n",
      " 2   readme_contents  1027 non-null   object\n",
      "dtypes: object(3)\n",
      "memory usage: 24.3+ KB\n"
     ]
    }
   ],
   "source": [
    "df.info()"
   ]
  },
  {
   "cell_type": "markdown",
   "metadata": {},
   "source": [
    "## Prepare"
   ]
  },
  {
   "cell_type": "code",
   "execution_count": 6,
   "metadata": {},
   "outputs": [
    {
     "data": {
      "text/plain": [
       "False    917\n",
       "True     114\n",
       "Name: language, dtype: int64"
      ]
     },
     "execution_count": 6,
     "metadata": {},
     "output_type": "execute_result"
    }
   ],
   "source": [
    "df.language.isnull().value_counts()"
   ]
  },
  {
   "cell_type": "code",
   "execution_count": 7,
   "metadata": {},
   "outputs": [],
   "source": [
    "# Team concludes languages that are null be labeled \"English\"\n",
    "df.language = df.language.fillna('English')"
   ]
  },
  {
   "cell_type": "code",
   "execution_count": 8,
   "metadata": {},
   "outputs": [
    {
     "data": {
      "text/plain": [
       "JavaScript          232\n",
       "Python              114\n",
       "English             114\n",
       "TypeScript          110\n",
       "Go                   78\n",
       "Java                 70\n",
       "C++                  56\n",
       "C                    30\n",
       "HTML                 23\n",
       "Shell                22\n",
       "Rust                 21\n",
       "Swift                18\n",
       "Ruby                 18\n",
       "Jupyter Notebook     14\n",
       "PHP                  14\n",
       "C#                   13\n",
       "Kotlin               12\n",
       "CSS                  12\n",
       "Vue                   8\n",
       "Objective-C           5\n",
       "Lua                   4\n",
       "Dart                  4\n",
       "Vim script            3\n",
       "Haskell               3\n",
       "Markdown              3\n",
       "SCSS                  3\n",
       "TeX                   3\n",
       "Elixir                2\n",
       "Vim Script            2\n",
       "Clojure               2\n",
       "Makefile              2\n",
       "Zig                   1\n",
       "Emacs Lisp            1\n",
       "OCaml                 1\n",
       "Julia                 1\n",
       "CoffeeScript          1\n",
       "Objective-C++         1\n",
       "AsciiDoc              1\n",
       "Nunjucks              1\n",
       "Batchfile             1\n",
       "Scala                 1\n",
       "Jinja                 1\n",
       "Roff                  1\n",
       "Dockerfile            1\n",
       "Assembly              1\n",
       "V                     1\n",
       "Standard ML           1\n",
       "Name: language, dtype: int64"
      ]
     },
     "execution_count": 8,
     "metadata": {},
     "output_type": "execute_result"
    }
   ],
   "source": [
    "df.language.value_counts()"
   ]
  },
  {
   "cell_type": "code",
   "execution_count": 9,
   "metadata": {},
   "outputs": [
    {
     "data": {
      "text/plain": [
       "repo               0\n",
       "language           0\n",
       "readme_contents    4\n",
       "dtype: int64"
      ]
     },
     "execution_count": 9,
     "metadata": {},
     "output_type": "execute_result"
    }
   ],
   "source": [
    "df.isnull().sum()"
   ]
  },
  {
   "cell_type": "markdown",
   "metadata": {},
   "source": [
    "Number of nulls in readme_contents is negligable. Thus, I'll drop these rows."
   ]
  },
  {
   "cell_type": "code",
   "execution_count": 10,
   "metadata": {},
   "outputs": [],
   "source": [
    "# Dropping 4 null rows\n",
    "df = df.dropna()"
   ]
  },
  {
   "cell_type": "code",
   "execution_count": 11,
   "metadata": {},
   "outputs": [
    {
     "data": {
      "text/plain": [
       "repo               0\n",
       "language           0\n",
       "readme_contents    0\n",
       "dtype: int64"
      ]
     },
     "execution_count": 11,
     "metadata": {},
     "output_type": "execute_result"
    }
   ],
   "source": [
    "df.isnull().sum()"
   ]
  },
  {
   "cell_type": "markdown",
   "metadata": {},
   "source": [
    "In order to avoid data imbalance, we limit languages to those who have at least 10 repo instances within our dataset."
   ]
  },
  {
   "cell_type": "code",
   "execution_count": 12,
   "metadata": {},
   "outputs": [],
   "source": [
    "# determining remaining list of languages\n",
    "languages_kept = df.language.value_counts()[df.language.value_counts() > 10].index"
   ]
  },
  {
   "cell_type": "code",
   "execution_count": 13,
   "metadata": {},
   "outputs": [
    {
     "data": {
      "text/plain": [
       "Index(['JavaScript', 'Python', 'English', 'TypeScript', 'Go', 'Java', 'C++',\n",
       "       'C', 'HTML', 'Shell', 'Rust', 'Swift', 'Ruby', 'Jupyter Notebook',\n",
       "       'PHP', 'C#', 'Kotlin', 'CSS'],\n",
       "      dtype='object')"
      ]
     },
     "execution_count": 13,
     "metadata": {},
     "output_type": "execute_result"
    }
   ],
   "source": [
    "languages_kept"
   ]
  },
  {
   "cell_type": "code",
   "execution_count": 14,
   "metadata": {},
   "outputs": [],
   "source": [
    "# Removing languages not kept\n",
    "df = df[df.language.isin(languages_kept)]"
   ]
  },
  {
   "cell_type": "code",
   "execution_count": 15,
   "metadata": {},
   "outputs": [
    {
     "name": "stdout",
     "output_type": "stream",
     "text": [
      "<class 'pandas.core.frame.DataFrame'>\n",
      "Int64Index: 967 entries, 0 to 1030\n",
      "Data columns (total 3 columns):\n",
      " #   Column           Non-Null Count  Dtype \n",
      "---  ------           --------------  ----- \n",
      " 0   repo             967 non-null    object\n",
      " 1   language         967 non-null    object\n",
      " 2   readme_contents  967 non-null    object\n",
      "dtypes: object(3)\n",
      "memory usage: 30.2+ KB\n"
     ]
    }
   ],
   "source": [
    "df.info()"
   ]
  },
  {
   "cell_type": "code",
   "execution_count": 16,
   "metadata": {},
   "outputs": [],
   "source": [
    "df['readme_contents'] =  df['readme_contents'].astype('string')"
   ]
  },
  {
   "cell_type": "code",
   "execution_count": 17,
   "metadata": {},
   "outputs": [
    {
     "data": {
      "text/html": [
       "<div>\n",
       "<style scoped>\n",
       "    .dataframe tbody tr th:only-of-type {\n",
       "        vertical-align: middle;\n",
       "    }\n",
       "\n",
       "    .dataframe tbody tr th {\n",
       "        vertical-align: top;\n",
       "    }\n",
       "\n",
       "    .dataframe thead th {\n",
       "        text-align: right;\n",
       "    }\n",
       "</style>\n",
       "<table border=\"1\" class=\"dataframe\">\n",
       "  <thead>\n",
       "    <tr style=\"text-align: right;\">\n",
       "      <th></th>\n",
       "      <th>repo</th>\n",
       "      <th>language</th>\n",
       "      <th>readme_contents</th>\n",
       "    </tr>\n",
       "  </thead>\n",
       "  <tbody>\n",
       "    <tr>\n",
       "      <th>0</th>\n",
       "      <td>freeCodeCamp/freeCodeCamp</td>\n",
       "      <td>TypeScript</td>\n",
       "      <td>[![freeCodeCamp Social Banner](https://s3.amaz...</td>\n",
       "    </tr>\n",
       "    <tr>\n",
       "      <th>1</th>\n",
       "      <td>996icu/996.ICU</td>\n",
       "      <td>English</td>\n",
       "      <td>[996.ICU](https://996.icu/#/en_US)\n",
       "=======\n",
       "**P...</td>\n",
       "    </tr>\n",
       "    <tr>\n",
       "      <th>2</th>\n",
       "      <td>EbookFoundation/free-programming-books</td>\n",
       "      <td>English</td>\n",
       "      <td># List of Free Learning Resources In Many Lang...</td>\n",
       "    </tr>\n",
       "    <tr>\n",
       "      <th>3</th>\n",
       "      <td>jwasham/coding-interview-university</td>\n",
       "      <td>English</td>\n",
       "      <td># Coding Interview University\n",
       "\n",
       "&gt; I originally ...</td>\n",
       "    </tr>\n",
       "    <tr>\n",
       "      <th>4</th>\n",
       "      <td>kamranahmedse/developer-roadmap</td>\n",
       "      <td>TypeScript</td>\n",
       "      <td>&lt;p align=\"center\"&gt;\n",
       "  &lt;img src=\"public/brand.pn...</td>\n",
       "    </tr>\n",
       "  </tbody>\n",
       "</table>\n",
       "</div>"
      ],
      "text/plain": [
       "                                     repo    language  \\\n",
       "0               freeCodeCamp/freeCodeCamp  TypeScript   \n",
       "1                          996icu/996.ICU     English   \n",
       "2  EbookFoundation/free-programming-books     English   \n",
       "3     jwasham/coding-interview-university     English   \n",
       "4         kamranahmedse/developer-roadmap  TypeScript   \n",
       "\n",
       "                                     readme_contents  \n",
       "0  [![freeCodeCamp Social Banner](https://s3.amaz...  \n",
       "1  [996.ICU](https://996.icu/#/en_US)\n",
       "=======\n",
       "**P...  \n",
       "2  # List of Free Learning Resources In Many Lang...  \n",
       "3  # Coding Interview University\n",
       "\n",
       "> I originally ...  \n",
       "4  <p align=\"center\">\n",
       "  <img src=\"public/brand.pn...  "
      ]
     },
     "execution_count": 17,
     "metadata": {},
     "output_type": "execute_result"
    }
   ],
   "source": [
    "df.head()"
   ]
  },
  {
   "cell_type": "code",
   "execution_count": 18,
   "metadata": {},
   "outputs": [],
   "source": [
    "test_clean = df['readme_contents'].map(lambda x: prepare.basic_clean(x))"
   ]
  },
  {
   "cell_type": "code",
   "execution_count": 19,
   "metadata": {},
   "outputs": [
    {
     "data": {
      "text/plain": [
       "0"
      ]
     },
     "execution_count": 19,
     "metadata": {},
     "output_type": "execute_result"
    }
   ],
   "source": [
    "test_clean.isnull().sum()"
   ]
  },
  {
   "cell_type": "markdown",
   "metadata": {},
   "source": [
    "Below, I utilize our prepare.py in order to clean, tokenize, and stem our `readme_contents` "
   ]
  },
  {
   "cell_type": "code",
   "execution_count": 20,
   "metadata": {},
   "outputs": [],
   "source": [
    "df['readme_contents'] = df['readme_contents'].map(lambda x: prepare.basic_clean(x))"
   ]
  },
  {
   "cell_type": "code",
   "execution_count": 21,
   "metadata": {},
   "outputs": [],
   "source": [
    "df['readme_contents'] = df['readme_contents'].map(lambda x: prepare.tokenize(x))"
   ]
  },
  {
   "cell_type": "code",
   "execution_count": 22,
   "metadata": {},
   "outputs": [],
   "source": [
    "df['stemmed'] = df['readme_contents'].map(lambda x: prepare.stem(x))"
   ]
  },
  {
   "cell_type": "code",
   "execution_count": 23,
   "metadata": {},
   "outputs": [],
   "source": [
    "df['lemma'] = df['readme_contents'].map(lambda x: prepare.lemmatize(x))"
   ]
  },
  {
   "cell_type": "code",
   "execution_count": 24,
   "metadata": {},
   "outputs": [
    {
     "name": "stdout",
     "output_type": "stream",
     "text": [
      "<class 'pandas.core.frame.DataFrame'>\n",
      "Int64Index: 967 entries, 0 to 1030\n",
      "Data columns (total 5 columns):\n",
      " #   Column           Non-Null Count  Dtype \n",
      "---  ------           --------------  ----- \n",
      " 0   repo             967 non-null    object\n",
      " 1   language         967 non-null    object\n",
      " 2   readme_contents  967 non-null    object\n",
      " 3   stemmed          967 non-null    object\n",
      " 4   lemma            967 non-null    object\n",
      "dtypes: object(5)\n",
      "memory usage: 45.3+ KB\n"
     ]
    }
   ],
   "source": [
    "df.info()"
   ]
  },
  {
   "cell_type": "code",
   "execution_count": 25,
   "metadata": {},
   "outputs": [
    {
     "data": {
      "text/html": [
       "<div>\n",
       "<style scoped>\n",
       "    .dataframe tbody tr th:only-of-type {\n",
       "        vertical-align: middle;\n",
       "    }\n",
       "\n",
       "    .dataframe tbody tr th {\n",
       "        vertical-align: top;\n",
       "    }\n",
       "\n",
       "    .dataframe thead th {\n",
       "        text-align: right;\n",
       "    }\n",
       "</style>\n",
       "<table border=\"1\" class=\"dataframe\">\n",
       "  <thead>\n",
       "    <tr style=\"text-align: right;\">\n",
       "      <th></th>\n",
       "      <th>repo</th>\n",
       "      <th>language</th>\n",
       "      <th>readme_contents</th>\n",
       "      <th>stemmed</th>\n",
       "      <th>lemma</th>\n",
       "    </tr>\n",
       "  </thead>\n",
       "  <tbody>\n",
       "    <tr>\n",
       "      <th>0</th>\n",
       "      <td>freeCodeCamp/freeCodeCamp</td>\n",
       "      <td>TypeScript</td>\n",
       "      <td>freecodecamp social requests source freecodeca...</td>\n",
       "      <td>freecodecamp social request sourc freecodecamp...</td>\n",
       "      <td>freecodecamp social request source freecodecam...</td>\n",
       "    </tr>\n",
       "    <tr>\n",
       "      <th>1</th>\n",
       "      <td>996icu/996.ICU</td>\n",
       "      <td>English</td>\n",
       "      <td>note that there exists no other official accou...</td>\n",
       "      <td>note that there exist no other offici account ...</td>\n",
       "      <td>note that there exists no other official accou...</td>\n",
       "    </tr>\n",
       "    <tr>\n",
       "      <th>2</th>\n",
       "      <td>EbookFoundation/free-programming-books</td>\n",
       "      <td>English</td>\n",
       "      <td>list of free learning resources in many alignc...</td>\n",
       "      <td>list of free learn resourc in mani aligncent c...</td>\n",
       "      <td>list of free learning resource in many alignce...</td>\n",
       "    </tr>\n",
       "    <tr>\n",
       "      <th>3</th>\n",
       "      <td>jwasham/coding-interview-university</td>\n",
       "      <td>English</td>\n",
       "      <td>coding interview i originally created this as ...</td>\n",
       "      <td>code interview i origin creat thi as a short t...</td>\n",
       "      <td>coding interview i originally created this a a...</td>\n",
       "    </tr>\n",
       "    <tr>\n",
       "      <th>4</th>\n",
       "      <td>kamranahmedse/developer-roadmap</td>\n",
       "      <td>TypeScript</td>\n",
       "      <td>p img srcpublicbrandpng h2 p aligncentercommun...</td>\n",
       "      <td>p img srcpublicbrandpng h2 p aligncentercommun...</td>\n",
       "      <td>p img srcpublicbrandpng h2 p aligncentercommun...</td>\n",
       "    </tr>\n",
       "  </tbody>\n",
       "</table>\n",
       "</div>"
      ],
      "text/plain": [
       "                                     repo    language  \\\n",
       "0               freeCodeCamp/freeCodeCamp  TypeScript   \n",
       "1                          996icu/996.ICU     English   \n",
       "2  EbookFoundation/free-programming-books     English   \n",
       "3     jwasham/coding-interview-university     English   \n",
       "4         kamranahmedse/developer-roadmap  TypeScript   \n",
       "\n",
       "                                     readme_contents  \\\n",
       "0  freecodecamp social requests source freecodeca...   \n",
       "1  note that there exists no other official accou...   \n",
       "2  list of free learning resources in many alignc...   \n",
       "3  coding interview i originally created this as ...   \n",
       "4  p img srcpublicbrandpng h2 p aligncentercommun...   \n",
       "\n",
       "                                             stemmed  \\\n",
       "0  freecodecamp social request sourc freecodecamp...   \n",
       "1  note that there exist no other offici account ...   \n",
       "2  list of free learn resourc in mani aligncent c...   \n",
       "3  code interview i origin creat thi as a short t...   \n",
       "4  p img srcpublicbrandpng h2 p aligncentercommun...   \n",
       "\n",
       "                                               lemma  \n",
       "0  freecodecamp social request source freecodecam...  \n",
       "1  note that there exists no other official accou...  \n",
       "2  list of free learning resource in many alignce...  \n",
       "3  coding interview i originally created this a a...  \n",
       "4  p img srcpublicbrandpng h2 p aligncentercommun...  "
      ]
     },
     "execution_count": 25,
     "metadata": {},
     "output_type": "execute_result"
    }
   ],
   "source": [
    "df.head()"
   ]
  },
  {
   "cell_type": "code",
   "execution_count": 26,
   "metadata": {},
   "outputs": [
    {
     "data": {
      "text/plain": [
       "JavaScript          232\n",
       "Python              114\n",
       "English             114\n",
       "TypeScript          109\n",
       "Go                   76\n",
       "Java                 70\n",
       "C++                  55\n",
       "C                    30\n",
       "HTML                 23\n",
       "Shell                22\n",
       "Rust                 21\n",
       "Ruby                 18\n",
       "Swift                18\n",
       "PHP                  14\n",
       "Jupyter Notebook     14\n",
       "C#                   13\n",
       "CSS                  12\n",
       "Kotlin               12\n",
       "Name: language, dtype: int64"
      ]
     },
     "execution_count": 26,
     "metadata": {},
     "output_type": "execute_result"
    }
   ],
   "source": [
    "df.language.value_counts()"
   ]
  },
  {
   "cell_type": "code",
   "execution_count": 27,
   "metadata": {},
   "outputs": [],
   "source": [
    "df_explore = df"
   ]
  },
  {
   "cell_type": "code",
   "execution_count": 28,
   "metadata": {},
   "outputs": [
    {
     "data": {
      "text/plain": [
       "(967, 5)"
      ]
     },
     "execution_count": 28,
     "metadata": {},
     "output_type": "execute_result"
    }
   ],
   "source": [
    "df_explore.shape"
   ]
  },
  {
   "cell_type": "code",
   "execution_count": 29,
   "metadata": {},
   "outputs": [],
   "source": [
    "df_explore['language'] =  df_explore['language'].astype('string')"
   ]
  },
  {
   "cell_type": "code",
   "execution_count": 30,
   "metadata": {},
   "outputs": [
    {
     "name": "stdout",
     "output_type": "stream",
     "text": [
      "<class 'pandas.core.frame.DataFrame'>\n",
      "Int64Index: 967 entries, 0 to 1030\n",
      "Data columns (total 5 columns):\n",
      " #   Column           Non-Null Count  Dtype \n",
      "---  ------           --------------  ----- \n",
      " 0   repo             967 non-null    object\n",
      " 1   language         967 non-null    string\n",
      " 2   readme_contents  967 non-null    object\n",
      " 3   stemmed          967 non-null    object\n",
      " 4   lemma            967 non-null    object\n",
      "dtypes: object(4), string(1)\n",
      "memory usage: 45.3+ KB\n"
     ]
    }
   ],
   "source": [
    "df_explore.info()"
   ]
  },
  {
   "cell_type": "code",
   "execution_count": 31,
   "metadata": {},
   "outputs": [
    {
     "data": {
      "text/plain": [
       "JavaScript          232\n",
       "Python              114\n",
       "English             114\n",
       "TypeScript          109\n",
       "Go                   76\n",
       "Java                 70\n",
       "C++                  55\n",
       "C                    30\n",
       "HTML                 23\n",
       "Shell                22\n",
       "Rust                 21\n",
       "Ruby                 18\n",
       "Swift                18\n",
       "PHP                  14\n",
       "Jupyter Notebook     14\n",
       "C#                   13\n",
       "CSS                  12\n",
       "Kotlin               12\n",
       "Name: language, dtype: Int64"
      ]
     },
     "execution_count": 31,
     "metadata": {},
     "output_type": "execute_result"
    }
   ],
   "source": [
    "df_explore.language.value_counts()"
   ]
  },
  {
   "cell_type": "code",
   "execution_count": 32,
   "metadata": {},
   "outputs": [
    {
     "data": {
      "text/plain": [
       "0       freecodecamp social request source freecodecam...\n",
       "1       note that there exists no other official accou...\n",
       "2       list of free learning resource in many alignce...\n",
       "3       coding interview i originally created this a a...\n",
       "4       p img srcpublicbrandpng h2 p aligncentercommun...\n",
       "                              ...                        \n",
       "1026    a href src join the the tiny version of gfwlis...\n",
       "1027    microsoft rest api microsoft rest api guidelin...\n",
       "1028    the chat at version license build status cover...\n",
       "1029    mpv external system release bug external is a ...\n",
       "1030    div width400px height100px width400px height10...\n",
       "Name: lemma, Length: 967, dtype: object"
      ]
     },
     "execution_count": 32,
     "metadata": {},
     "output_type": "execute_result"
    }
   ],
   "source": [
    "df_explore.lemma"
   ]
  },
  {
   "cell_type": "markdown",
   "metadata": {},
   "source": []
  },
  {
   "cell_type": "markdown",
   "metadata": {},
   "source": []
  },
  {
   "cell_type": "code",
   "execution_count": null,
   "metadata": {},
   "outputs": [],
   "source": [
    "javascript_words = short_df.loc[short_df.language == 'JavaScript']\n",
    "python_words = short_df.loc[short_df.language == 'Python']\n",
    "typescript_words = short_df.loc[short_df.language == 'TypeScript']\n",
    "go_words = short_df.loc[short_df.language == 'Go']\n",
    "java_words = short_df.loc[short_df.language == 'Java']\n",
    "c_plus_words = short_df.loc[short_df.language == 'C++']\n",
    "c_words = short_df.loc[short_df.language == 'C']\n",
    "html_words = short_df.loc[short_df.language == 'HTML']\n",
    "shell_words = short_df.loc[short_df.language == 'Shell']\n",
    "rust_words = short_df.loc[short_df.language == 'Rust']\n",
    "swift_words = short_df.loc[short_df.language == 'Swift']\n",
    "ruby_words = short_df.loc[short_df.language == 'Ruby']\n",
    "juptyer_words = short_df.loc[short_df.language == 'Jupyter Notebook']\n",
    "c_sharp_words = short_df.loc[short_df.language == 'C#']\n",
    "css_words = short_df.loc[short_df.language == 'CSS']\n",
    "kotlin_words = short_df.loc[short_df.language == 'Kotlin']\n",
    "php_words = short_df.loc[short_df.language == 'PHP']"
   ]
  },
  {
   "cell_type": "code",
   "execution_count": null,
   "metadata": {},
   "outputs": [],
   "source": []
  },
  {
   "cell_type": "code",
   "execution_count": null,
   "metadata": {},
   "outputs": [],
   "source": [
    "labels = pd.concat([df.label.value_counts(),\n",
    "                    df.label.value_counts(normalize=True)], axis=1)\n",
    "labels.columns = ['n', 'percent']\n",
    "labels"
   ]
  }
 ],
 "metadata": {
  "kernelspec": {
   "display_name": "Python 3.9.12 ('base')",
   "language": "python",
   "name": "python3"
  },
  "language_info": {
   "codemirror_mode": {
    "name": "ipython",
    "version": 3
   },
   "file_extension": ".py",
   "mimetype": "text/x-python",
   "name": "python",
   "nbconvert_exporter": "python",
   "pygments_lexer": "ipython3",
   "version": "3.9.12"
  },
  "orig_nbformat": 4,
  "vscode": {
   "interpreter": {
    "hash": "3067ead486e059ec00ffe7555bdb889e6e264a24dc711bf108106cc7baee8d5d"
   }
  }
 },
 "nbformat": 4,
 "nbformat_minor": 2
}
>>>>>>> e01ded123f4f164f6b8bfb1a49e21eda456a6817
