<<<<<<< HEAD
{
 "cells": [
  {
   "cell_type": "markdown",
   "metadata": {},
   "source": [
    "# NLP Group Project\n",
    "### David's Personal Notebook"
   ]
  },
  {
   "cell_type": "code",
   "execution_count": 1,
   "metadata": {},
   "outputs": [],
   "source": [
    "import pandas as pd\n",
    "import numpy as np\n",
    "import os\n",
    "import json\n",
    "import csv\n",
    "import requests\n",
    "\n",
    "import unicodedata\n",
    "import string\n",
    "import time\n",
    "import random\n",
    "from bs4 import BeautifulSoup\n",
    "from requests import get\n",
    "import re\n",
    "\n",
    "from nltk.tokenize import word_tokenize\n",
    "from nltk.corpus import stopwords\n",
    "import matplotlib.pyplot as plt\n",
    "\n",
    "import env\n",
    "import acquire\n",
    "import prepare"
   ]
  },
  {
   "cell_type": "markdown",
   "metadata": {},
   "source": [
    "## Acquire\n",
    "Was not able to acquire dataset utilizing acquire.py due to computational limitations. \\\n",
    "Team member Josh acquired and uploaded the dataset as a csv for our team's convenience."
   ]
  },
  {
   "cell_type": "code",
   "execution_count": 2,
   "metadata": {},
   "outputs": [],
   "source": [
    "# Reading csv into notebook as df\n",
    "df = pd.read_csv('~/codeup/data.csv')"
   ]
  },
  {
   "cell_type": "code",
   "execution_count": 3,
   "metadata": {},
   "outputs": [
    {
     "data": {
      "text/html": [
       "<div>\n",
       "<style scoped>\n",
       "    .dataframe tbody tr th:only-of-type {\n",
       "        vertical-align: middle;\n",
       "    }\n",
       "\n",
       "    .dataframe tbody tr th {\n",
       "        vertical-align: top;\n",
       "    }\n",
       "\n",
       "    .dataframe thead th {\n",
       "        text-align: right;\n",
       "    }\n",
       "</style>\n",
       "<table border=\"1\" class=\"dataframe\">\n",
       "  <thead>\n",
       "    <tr style=\"text-align: right;\">\n",
       "      <th></th>\n",
       "      <th>repo</th>\n",
       "      <th>language</th>\n",
       "      <th>readme_contents</th>\n",
       "    </tr>\n",
       "  </thead>\n",
       "  <tbody>\n",
       "    <tr>\n",
       "      <th>0</th>\n",
       "      <td>freeCodeCamp/freeCodeCamp</td>\n",
       "      <td>TypeScript</td>\n",
       "      <td>[![freeCodeCamp Social Banner](https://s3.amaz...</td>\n",
       "    </tr>\n",
       "    <tr>\n",
       "      <th>1</th>\n",
       "      <td>996icu/996.ICU</td>\n",
       "      <td>NaN</td>\n",
       "      <td>[996.ICU](https://996.icu/#/en_US)\\n=======\\n*...</td>\n",
       "    </tr>\n",
       "    <tr>\n",
       "      <th>2</th>\n",
       "      <td>EbookFoundation/free-programming-books</td>\n",
       "      <td>NaN</td>\n",
       "      <td># List of Free Learning Resources In Many Lang...</td>\n",
       "    </tr>\n",
       "    <tr>\n",
       "      <th>3</th>\n",
       "      <td>jwasham/coding-interview-university</td>\n",
       "      <td>NaN</td>\n",
       "      <td># Coding Interview University\\n\\n&gt; I originall...</td>\n",
       "    </tr>\n",
       "    <tr>\n",
       "      <th>4</th>\n",
       "      <td>kamranahmedse/developer-roadmap</td>\n",
       "      <td>TypeScript</td>\n",
       "      <td>&lt;p align=\"center\"&gt;\\n  &lt;img src=\"public/brand.p...</td>\n",
       "    </tr>\n",
       "  </tbody>\n",
       "</table>\n",
       "</div>"
      ],
      "text/plain": [
       "                                     repo    language  \\\n",
       "0               freeCodeCamp/freeCodeCamp  TypeScript   \n",
       "1                          996icu/996.ICU         NaN   \n",
       "2  EbookFoundation/free-programming-books         NaN   \n",
       "3     jwasham/coding-interview-university         NaN   \n",
       "4         kamranahmedse/developer-roadmap  TypeScript   \n",
       "\n",
       "                                     readme_contents  \n",
       "0  [![freeCodeCamp Social Banner](https://s3.amaz...  \n",
       "1  [996.ICU](https://996.icu/#/en_US)\\n=======\\n*...  \n",
       "2  # List of Free Learning Resources In Many Lang...  \n",
       "3  # Coding Interview University\\n\\n> I originall...  \n",
       "4  <p align=\"center\">\\n  <img src=\"public/brand.p...  "
      ]
     },
     "execution_count": 3,
     "metadata": {},
     "output_type": "execute_result"
    }
   ],
   "source": [
    "df.head()"
   ]
  },
  {
   "cell_type": "code",
   "execution_count": 4,
   "metadata": {},
   "outputs": [
    {
     "data": {
      "text/plain": [
       "(1031, 3)"
      ]
     },
     "execution_count": 4,
     "metadata": {},
     "output_type": "execute_result"
    }
   ],
   "source": [
    "df.shape"
   ]
  },
  {
   "cell_type": "code",
   "execution_count": 5,
   "metadata": {},
   "outputs": [
    {
     "name": "stdout",
     "output_type": "stream",
     "text": [
      "<class 'pandas.core.frame.DataFrame'>\n",
      "RangeIndex: 1031 entries, 0 to 1030\n",
      "Data columns (total 3 columns):\n",
      " #   Column           Non-Null Count  Dtype \n",
      "---  ------           --------------  ----- \n",
      " 0   repo             1031 non-null   object\n",
      " 1   language         917 non-null    object\n",
      " 2   readme_contents  1027 non-null   object\n",
      "dtypes: object(3)\n",
      "memory usage: 24.3+ KB\n"
     ]
    }
   ],
   "source": [
    "df.info()"
   ]
  },
  {
   "cell_type": "markdown",
   "metadata": {},
   "source": [
    "## Prepare"
   ]
  },
  {
   "cell_type": "code",
   "execution_count": 6,
   "metadata": {},
   "outputs": [
    {
     "data": {
      "text/plain": [
       "False    917\n",
       "True     114\n",
       "Name: language, dtype: int64"
      ]
     },
     "execution_count": 6,
     "metadata": {},
     "output_type": "execute_result"
    }
   ],
   "source": [
    "df.language.isnull().value_counts()"
   ]
  },
  {
   "cell_type": "code",
   "execution_count": 7,
   "metadata": {},
   "outputs": [],
   "source": [
    "# Team concludes languages that are null be labeled \"English\"\n",
    "df.language = df.language.fillna('English')"
   ]
  },
  {
   "cell_type": "code",
   "execution_count": 8,
   "metadata": {},
   "outputs": [
    {
     "data": {
      "text/plain": [
       "JavaScript          232\n",
       "Python              114\n",
       "English             114\n",
       "TypeScript          110\n",
       "Go                   78\n",
       "Java                 70\n",
       "C++                  56\n",
       "C                    30\n",
       "HTML                 23\n",
       "Shell                22\n",
       "Rust                 21\n",
       "Swift                18\n",
       "Ruby                 18\n",
       "Jupyter Notebook     14\n",
       "PHP                  14\n",
       "C#                   13\n",
       "Kotlin               12\n",
       "CSS                  12\n",
       "Vue                   8\n",
       "Objective-C           5\n",
       "Lua                   4\n",
       "Dart                  4\n",
       "Vim script            3\n",
       "Haskell               3\n",
       "Markdown              3\n",
       "SCSS                  3\n",
       "TeX                   3\n",
       "Elixir                2\n",
       "Vim Script            2\n",
       "Clojure               2\n",
       "Makefile              2\n",
       "Zig                   1\n",
       "Emacs Lisp            1\n",
       "OCaml                 1\n",
       "Julia                 1\n",
       "CoffeeScript          1\n",
       "Objective-C++         1\n",
       "AsciiDoc              1\n",
       "Nunjucks              1\n",
       "Batchfile             1\n",
       "Scala                 1\n",
       "Jinja                 1\n",
       "Roff                  1\n",
       "Dockerfile            1\n",
       "Assembly              1\n",
       "V                     1\n",
       "Standard ML           1\n",
       "Name: language, dtype: int64"
      ]
     },
     "execution_count": 8,
     "metadata": {},
     "output_type": "execute_result"
    }
   ],
   "source": [
    "df.language.value_counts()"
   ]
  },
  {
   "cell_type": "code",
   "execution_count": 9,
   "metadata": {},
   "outputs": [
    {
     "data": {
      "text/plain": [
       "repo               0\n",
       "language           0\n",
       "readme_contents    4\n",
       "dtype: int64"
      ]
     },
     "execution_count": 9,
     "metadata": {},
     "output_type": "execute_result"
    }
   ],
   "source": [
    "df.isnull().sum()"
   ]
  },
  {
   "cell_type": "markdown",
   "metadata": {},
   "source": [
    "Number of nulls in readme_contents is negligable. Thus, I'll drop these rows."
   ]
  },
  {
   "cell_type": "code",
   "execution_count": 10,
   "metadata": {},
   "outputs": [],
   "source": [
    "# Dropping 4 null rows\n",
    "df = df.dropna()"
   ]
  },
  {
   "cell_type": "code",
   "execution_count": 11,
   "metadata": {},
   "outputs": [
    {
     "data": {
      "text/plain": [
       "repo               0\n",
       "language           0\n",
       "readme_contents    0\n",
       "dtype: int64"
      ]
     },
     "execution_count": 11,
     "metadata": {},
     "output_type": "execute_result"
    }
   ],
   "source": [
    "df.isnull().sum()"
   ]
  },
  {
   "cell_type": "markdown",
   "metadata": {},
   "source": [
    "In order to avoid data imbalance, we limit languages to those who have at least 10 repo instances within our dataset."
   ]
  },
  {
   "cell_type": "code",
   "execution_count": 12,
   "metadata": {},
   "outputs": [],
   "source": [
    "# determining remaining list of languages\n",
    "languages_kept = df.language.value_counts()[df.language.value_counts() > 10].index"
   ]
  },
  {
   "cell_type": "code",
   "execution_count": 13,
   "metadata": {},
   "outputs": [
    {
     "data": {
      "text/plain": [
       "Index(['JavaScript', 'Python', 'English', 'TypeScript', 'Go', 'Java', 'C++',\n",
       "       'C', 'HTML', 'Shell', 'Rust', 'Swift', 'Ruby', 'Jupyter Notebook',\n",
       "       'PHP', 'C#', 'Kotlin', 'CSS'],\n",
       "      dtype='object')"
      ]
     },
     "execution_count": 13,
     "metadata": {},
     "output_type": "execute_result"
    }
   ],
   "source": [
    "languages_kept"
   ]
  },
  {
   "cell_type": "code",
   "execution_count": 14,
   "metadata": {},
   "outputs": [],
   "source": [
    "# Removing languages not kept\n",
    "df = df[df.language.isin(languages_kept)]"
   ]
  },
  {
   "cell_type": "code",
   "execution_count": 15,
   "metadata": {},
   "outputs": [
    {
     "name": "stdout",
     "output_type": "stream",
     "text": [
      "<class 'pandas.core.frame.DataFrame'>\n",
      "Int64Index: 967 entries, 0 to 1030\n",
      "Data columns (total 3 columns):\n",
      " #   Column           Non-Null Count  Dtype \n",
      "---  ------           --------------  ----- \n",
      " 0   repo             967 non-null    object\n",
      " 1   language         967 non-null    object\n",
      " 2   readme_contents  967 non-null    object\n",
      "dtypes: object(3)\n",
      "memory usage: 30.2+ KB\n"
     ]
    }
   ],
   "source": [
    "df.info()"
   ]
  },
  {
   "cell_type": "code",
   "execution_count": 16,
   "metadata": {},
   "outputs": [],
   "source": [
    "df['readme_contents'] =  df['readme_contents'].astype('string')"
   ]
  },
  {
   "cell_type": "code",
   "execution_count": 17,
   "metadata": {},
   "outputs": [
    {
     "data": {
      "text/html": [
       "<div>\n",
       "<style scoped>\n",
       "    .dataframe tbody tr th:only-of-type {\n",
       "        vertical-align: middle;\n",
       "    }\n",
       "\n",
       "    .dataframe tbody tr th {\n",
       "        vertical-align: top;\n",
       "    }\n",
       "\n",
       "    .dataframe thead th {\n",
       "        text-align: right;\n",
       "    }\n",
       "</style>\n",
       "<table border=\"1\" class=\"dataframe\">\n",
       "  <thead>\n",
       "    <tr style=\"text-align: right;\">\n",
       "      <th></th>\n",
       "      <th>repo</th>\n",
       "      <th>language</th>\n",
       "      <th>readme_contents</th>\n",
       "    </tr>\n",
       "  </thead>\n",
       "  <tbody>\n",
       "    <tr>\n",
       "      <th>0</th>\n",
       "      <td>freeCodeCamp/freeCodeCamp</td>\n",
       "      <td>TypeScript</td>\n",
       "      <td>[![freeCodeCamp Social Banner](https://s3.amaz...</td>\n",
       "    </tr>\n",
       "    <tr>\n",
       "      <th>1</th>\n",
       "      <td>996icu/996.ICU</td>\n",
       "      <td>English</td>\n",
       "      <td>[996.ICU](https://996.icu/#/en_US)\n",
       "=======\n",
       "**P...</td>\n",
       "    </tr>\n",
       "    <tr>\n",
       "      <th>2</th>\n",
       "      <td>EbookFoundation/free-programming-books</td>\n",
       "      <td>English</td>\n",
       "      <td># List of Free Learning Resources In Many Lang...</td>\n",
       "    </tr>\n",
       "    <tr>\n",
       "      <th>3</th>\n",
       "      <td>jwasham/coding-interview-university</td>\n",
       "      <td>English</td>\n",
       "      <td># Coding Interview University\n",
       "\n",
       "&gt; I originally ...</td>\n",
       "    </tr>\n",
       "    <tr>\n",
       "      <th>4</th>\n",
       "      <td>kamranahmedse/developer-roadmap</td>\n",
       "      <td>TypeScript</td>\n",
       "      <td>&lt;p align=\"center\"&gt;\n",
       "  &lt;img src=\"public/brand.pn...</td>\n",
       "    </tr>\n",
       "  </tbody>\n",
       "</table>\n",
       "</div>"
      ],
      "text/plain": [
       "                                     repo    language  \\\n",
       "0               freeCodeCamp/freeCodeCamp  TypeScript   \n",
       "1                          996icu/996.ICU     English   \n",
       "2  EbookFoundation/free-programming-books     English   \n",
       "3     jwasham/coding-interview-university     English   \n",
       "4         kamranahmedse/developer-roadmap  TypeScript   \n",
       "\n",
       "                                     readme_contents  \n",
       "0  [![freeCodeCamp Social Banner](https://s3.amaz...  \n",
       "1  [996.ICU](https://996.icu/#/en_US)\n",
       "=======\n",
       "**P...  \n",
       "2  # List of Free Learning Resources In Many Lang...  \n",
       "3  # Coding Interview University\n",
       "\n",
       "> I originally ...  \n",
       "4  <p align=\"center\">\n",
       "  <img src=\"public/brand.pn...  "
      ]
     },
     "execution_count": 17,
     "metadata": {},
     "output_type": "execute_result"
    }
   ],
   "source": [
    "df.head()"
   ]
  },
  {
   "cell_type": "code",
   "execution_count": 18,
   "metadata": {},
   "outputs": [],
   "source": [
    "test_clean = df['readme_contents'].map(lambda x: prepare.basic_clean(x))"
   ]
  },
  {
   "cell_type": "code",
   "execution_count": 19,
   "metadata": {},
   "outputs": [
    {
     "data": {
      "text/plain": [
       "0"
      ]
     },
     "execution_count": 19,
     "metadata": {},
     "output_type": "execute_result"
    }
   ],
   "source": [
    "test_clean.isnull().sum()"
   ]
  },
  {
   "cell_type": "markdown",
   "metadata": {},
   "source": [
    "Below, I utilize our prepare.py in order to clean, tokenize, and stem our `readme_contents` "
   ]
  },
  {
   "cell_type": "code",
   "execution_count": 20,
   "metadata": {},
   "outputs": [],
   "source": [
    "df['readme_contents'] = df['readme_contents'].map(lambda x: prepare.basic_clean(x))"
   ]
  },
  {
   "cell_type": "code",
   "execution_count": 21,
   "metadata": {},
   "outputs": [],
   "source": [
    "df['readme_contents'] = df['readme_contents'].map(lambda x: prepare.tokenize(x))"
   ]
  },
  {
   "cell_type": "code",
   "execution_count": 22,
   "metadata": {},
   "outputs": [],
   "source": [
    "df['stemmed'] = df['readme_contents'].map(lambda x: prepare.stem(x))"
   ]
  },
  {
   "cell_type": "code",
   "execution_count": 23,
   "metadata": {},
   "outputs": [],
   "source": [
    "df['lemma'] = df['readme_contents'].map(lambda x: prepare.lemmatize(x))"
   ]
  },
  {
   "cell_type": "code",
   "execution_count": 24,
   "metadata": {},
   "outputs": [
    {
     "name": "stdout",
     "output_type": "stream",
     "text": [
      "<class 'pandas.core.frame.DataFrame'>\n",
      "Int64Index: 967 entries, 0 to 1030\n",
      "Data columns (total 5 columns):\n",
      " #   Column           Non-Null Count  Dtype \n",
      "---  ------           --------------  ----- \n",
      " 0   repo             967 non-null    object\n",
      " 1   language         967 non-null    object\n",
      " 2   readme_contents  967 non-null    object\n",
      " 3   stemmed          967 non-null    object\n",
      " 4   lemma            967 non-null    object\n",
      "dtypes: object(5)\n",
      "memory usage: 45.3+ KB\n"
     ]
    }
   ],
   "source": [
    "df.info()"
   ]
  },
  {
   "cell_type": "code",
   "execution_count": 25,
   "metadata": {},
   "outputs": [
    {
     "data": {
      "text/html": [
       "<div>\n",
       "<style scoped>\n",
       "    .dataframe tbody tr th:only-of-type {\n",
       "        vertical-align: middle;\n",
       "    }\n",
       "\n",
       "    .dataframe tbody tr th {\n",
       "        vertical-align: top;\n",
       "    }\n",
       "\n",
       "    .dataframe thead th {\n",
       "        text-align: right;\n",
       "    }\n",
       "</style>\n",
       "<table border=\"1\" class=\"dataframe\">\n",
       "  <thead>\n",
       "    <tr style=\"text-align: right;\">\n",
       "      <th></th>\n",
       "      <th>repo</th>\n",
       "      <th>language</th>\n",
       "      <th>readme_contents</th>\n",
       "      <th>stemmed</th>\n",
       "      <th>lemma</th>\n",
       "    </tr>\n",
       "  </thead>\n",
       "  <tbody>\n",
       "    <tr>\n",
       "      <th>0</th>\n",
       "      <td>freeCodeCamp/freeCodeCamp</td>\n",
       "      <td>TypeScript</td>\n",
       "      <td>freecodecamp social bannerhttpss3amazonawscomf...</td>\n",
       "      <td>freecodecamp social bannerhttpss3amazonawscomf...</td>\n",
       "      <td>freecodecamp social bannerhttpss3amazonawscomf...</td>\n",
       "    </tr>\n",
       "    <tr>\n",
       "      <th>1</th>\n",
       "      <td>996icu/996.ICU</td>\n",
       "      <td>English</td>\n",
       "      <td>996icuhttps996icuen_us\\n\\nplease note that the...</td>\n",
       "      <td>996icuhttps996icuen_u pleas note that there ex...</td>\n",
       "      <td>996icuhttps996icuen_us please note that there ...</td>\n",
       "    </tr>\n",
       "    <tr>\n",
       "      <th>2</th>\n",
       "      <td>EbookFoundation/free-programming-books</td>\n",
       "      <td>English</td>\n",
       "      <td>list of free learning resources in many langua...</td>\n",
       "      <td>list of free learn resourc in mani languag div...</td>\n",
       "      <td>list of free learning resource in many languag...</td>\n",
       "    </tr>\n",
       "    <tr>\n",
       "      <th>3</th>\n",
       "      <td>jwasham/coding-interview-university</td>\n",
       "      <td>English</td>\n",
       "      <td>coding interview university\\n\\n i originally c...</td>\n",
       "      <td>code interview univers i origin creat thi as a...</td>\n",
       "      <td>coding interview university i originally creat...</td>\n",
       "    </tr>\n",
       "    <tr>\n",
       "      <th>4</th>\n",
       "      <td>kamranahmedse/developer-roadmap</td>\n",
       "      <td>TypeScript</td>\n",
       "      <td>p aligncenter\\n img srcpublicbrandpng height12...</td>\n",
       "      <td>p aligncent img srcpublicbrandpng height128 h2...</td>\n",
       "      <td>p aligncenter img srcpublicbrandpng height128 ...</td>\n",
       "    </tr>\n",
       "  </tbody>\n",
       "</table>\n",
       "</div>"
      ],
      "text/plain": [
       "                                     repo    language  \\\n",
       "0               freeCodeCamp/freeCodeCamp  TypeScript   \n",
       "1                          996icu/996.ICU     English   \n",
       "2  EbookFoundation/free-programming-books     English   \n",
       "3     jwasham/coding-interview-university     English   \n",
       "4         kamranahmedse/developer-roadmap  TypeScript   \n",
       "\n",
       "                                     readme_contents  \\\n",
       "0  freecodecamp social bannerhttpss3amazonawscomf...   \n",
       "1  996icuhttps996icuen_us\\n\\nplease note that the...   \n",
       "2  list of free learning resources in many langua...   \n",
       "3  coding interview university\\n\\n i originally c...   \n",
       "4  p aligncenter\\n img srcpublicbrandpng height12...   \n",
       "\n",
       "                                             stemmed  \\\n",
       "0  freecodecamp social bannerhttpss3amazonawscomf...   \n",
       "1  996icuhttps996icuen_u pleas note that there ex...   \n",
       "2  list of free learn resourc in mani languag div...   \n",
       "3  code interview univers i origin creat thi as a...   \n",
       "4  p aligncent img srcpublicbrandpng height128 h2...   \n",
       "\n",
       "                                               lemma  \n",
       "0  freecodecamp social bannerhttpss3amazonawscomf...  \n",
       "1  996icuhttps996icuen_us please note that there ...  \n",
       "2  list of free learning resource in many languag...  \n",
       "3  coding interview university i originally creat...  \n",
       "4  p aligncenter img srcpublicbrandpng height128 ...  "
      ]
     },
     "execution_count": 25,
     "metadata": {},
     "output_type": "execute_result"
    }
   ],
   "source": [
    "df.head()"
   ]
  },
  {
   "cell_type": "code",
   "execution_count": 31,
   "metadata": {},
   "outputs": [
    {
     "data": {
      "text/plain": [
       "JavaScript          232\n",
       "Python              114\n",
       "English             114\n",
       "TypeScript          109\n",
       "Go                   76\n",
       "Java                 70\n",
       "C++                  55\n",
       "C                    30\n",
       "HTML                 23\n",
       "Shell                22\n",
       "Rust                 21\n",
       "Ruby                 18\n",
       "Swift                18\n",
       "PHP                  14\n",
       "Jupyter Notebook     14\n",
       "C#                   13\n",
       "CSS                  12\n",
       "Kotlin               12\n",
       "Name: language, dtype: int64"
      ]
     },
     "execution_count": 31,
     "metadata": {},
     "output_type": "execute_result"
    }
   ],
   "source": [
    "df.language.value_counts()"
   ]
  },
  {
   "cell_type": "code",
   "execution_count": 32,
   "metadata": {},
   "outputs": [],
   "source": [
    "df_explore = df"
   ]
  },
  {
   "cell_type": "code",
   "execution_count": 33,
   "metadata": {},
   "outputs": [
    {
     "data": {
      "text/plain": [
       "(967, 5)"
      ]
     },
     "execution_count": 33,
     "metadata": {},
     "output_type": "execute_result"
    }
   ],
   "source": [
    "df_explore.shape"
   ]
  },
  {
   "cell_type": "code",
   "execution_count": 34,
   "metadata": {},
   "outputs": [],
   "source": [
    "df_explore['language'] =  df_explore['language'].astype('string')"
   ]
  },
  {
   "cell_type": "code",
   "execution_count": 35,
   "metadata": {},
   "outputs": [
    {
     "name": "stdout",
     "output_type": "stream",
     "text": [
      "<class 'pandas.core.frame.DataFrame'>\n",
      "Int64Index: 967 entries, 0 to 1030\n",
      "Data columns (total 5 columns):\n",
      " #   Column           Non-Null Count  Dtype \n",
      "---  ------           --------------  ----- \n",
      " 0   repo             967 non-null    object\n",
      " 1   language         967 non-null    string\n",
      " 2   readme_contents  967 non-null    object\n",
      " 3   stemmed          967 non-null    object\n",
      " 4   lemma            967 non-null    object\n",
      "dtypes: object(4), string(1)\n",
      "memory usage: 45.3+ KB\n"
     ]
    }
   ],
   "source": [
    "df_explore.info()"
   ]
  },
  {
   "cell_type": "code",
   "execution_count": 39,
   "metadata": {},
   "outputs": [
    {
     "data": {
      "text/plain": [
       "JavaScript          232\n",
       "Python              114\n",
       "English             114\n",
       "TypeScript          109\n",
       "Go                   76\n",
       "Java                 70\n",
       "C++                  55\n",
       "C                    30\n",
       "HTML                 23\n",
       "Shell                22\n",
       "Rust                 21\n",
       "Ruby                 18\n",
       "Swift                18\n",
       "PHP                  14\n",
       "Jupyter Notebook     14\n",
       "C#                   13\n",
       "CSS                  12\n",
       "Kotlin               12\n",
       "Name: language, dtype: Int64"
      ]
     },
     "execution_count": 39,
     "metadata": {},
     "output_type": "execute_result"
    }
   ],
   "source": [
    "df_explore.language.value_counts()"
   ]
  },
  {
   "cell_type": "code",
   "execution_count": null,
   "metadata": {},
   "outputs": [],
   "source": [
    "df_explore.lemma"
   ]
  },
  {
   "cell_type": "code",
   "execution_count": 43,
   "metadata": {},
   "outputs": [
    {
     "ename": "AttributeError",
     "evalue": "'Series' object has no attribute 'text'",
     "output_type": "error",
     "traceback": [
      "\u001b[0;31m---------------------------------------------------------------------------\u001b[0m",
      "\u001b[0;31mAttributeError\u001b[0m                            Traceback (most recent call last)",
      "\u001b[1;32m/Users/davidschneemann/codeup/project-github-readme-classification/david_notebook.ipynb Cell 39\u001b[0m in \u001b[0;36m<cell line: 1>\u001b[0;34m()\u001b[0m\n\u001b[0;32m----> <a href='vscode-notebook-cell:/Users/davidschneemann/codeup/project-github-readme-classification/david_notebook.ipynb#Y103sZmlsZQ%3D%3D?line=0'>1</a>\u001b[0m java \u001b[39m=\u001b[39m df_explore\u001b[39m.\u001b[39mlemma(\u001b[39m'\u001b[39m\u001b[39m \u001b[39m\u001b[39m'\u001b[39m\u001b[39m.\u001b[39mjoin(df_explore[\u001b[39m'\u001b[39;49m\u001b[39mlemma\u001b[39;49m\u001b[39m'\u001b[39;49m][df_explore\u001b[39m.\u001b[39;49mlanguage \u001b[39m==\u001b[39;49m \u001b[39m'\u001b[39;49m\u001b[39mJavaScript\u001b[39;49m\u001b[39m'\u001b[39;49m]\u001b[39m.\u001b[39;49mtext))\n",
      "File \u001b[0;32m/usr/local/anaconda3/lib/python3.9/site-packages/pandas/core/generic.py:5575\u001b[0m, in \u001b[0;36mNDFrame.__getattr__\u001b[0;34m(self, name)\u001b[0m\n\u001b[1;32m   5568\u001b[0m \u001b[39mif\u001b[39;00m (\n\u001b[1;32m   5569\u001b[0m     name \u001b[39mnot\u001b[39;00m \u001b[39min\u001b[39;00m \u001b[39mself\u001b[39m\u001b[39m.\u001b[39m_internal_names_set\n\u001b[1;32m   5570\u001b[0m     \u001b[39mand\u001b[39;00m name \u001b[39mnot\u001b[39;00m \u001b[39min\u001b[39;00m \u001b[39mself\u001b[39m\u001b[39m.\u001b[39m_metadata\n\u001b[1;32m   5571\u001b[0m     \u001b[39mand\u001b[39;00m name \u001b[39mnot\u001b[39;00m \u001b[39min\u001b[39;00m \u001b[39mself\u001b[39m\u001b[39m.\u001b[39m_accessors\n\u001b[1;32m   5572\u001b[0m     \u001b[39mand\u001b[39;00m \u001b[39mself\u001b[39m\u001b[39m.\u001b[39m_info_axis\u001b[39m.\u001b[39m_can_hold_identifiers_and_holds_name(name)\n\u001b[1;32m   5573\u001b[0m ):\n\u001b[1;32m   5574\u001b[0m     \u001b[39mreturn\u001b[39;00m \u001b[39mself\u001b[39m[name]\n\u001b[0;32m-> 5575\u001b[0m \u001b[39mreturn\u001b[39;00m \u001b[39mobject\u001b[39;49m\u001b[39m.\u001b[39;49m\u001b[39m__getattribute__\u001b[39;49m(\u001b[39mself\u001b[39;49m, name)\n",
      "\u001b[0;31mAttributeError\u001b[0m: 'Series' object has no attribute 'text'"
     ]
    }
   ],
   "source": [
    "java = df_explore.lemma(' '.join(df_explore['lemma'][df_explore.language == 'JavaScript'].text))"
   ]
  },
  {
   "cell_type": "code",
   "execution_count": null,
   "metadata": {},
   "outputs": [],
   "source": []
  },
  {
   "cell_type": "code",
   "execution_count": null,
   "metadata": {},
   "outputs": [],
   "source": []
  },
  {
   "cell_type": "code",
   "execution_count": null,
   "metadata": {},
   "outputs": [],
   "source": [
    "labels = pd.concat([df.label.value_counts(),\n",
    "                    df.label.value_counts(normalize=True)], axis=1)\n",
    "labels.columns = ['n', 'percent']\n",
    "labels"
   ]
  }
 ],
 "metadata": {
  "kernelspec": {
   "display_name": "Python 3.9.12 ('base')",
   "language": "python",
   "name": "python3"
  },
  "language_info": {
   "codemirror_mode": {
    "name": "ipython",
    "version": 3
   },
   "file_extension": ".py",
   "mimetype": "text/x-python",
   "name": "python",
   "nbconvert_exporter": "python",
   "pygments_lexer": "ipython3",
   "version": "3.9.12"
  },
  "orig_nbformat": 4,
  "vscode": {
   "interpreter": {
    "hash": "3067ead486e059ec00ffe7555bdb889e6e264a24dc711bf108106cc7baee8d5d"
   }
  }
 },
 "nbformat": 4,
 "nbformat_minor": 2
}
=======
{
 "cells": [
  {
   "cell_type": "markdown",
   "metadata": {},
   "source": [
    "# NLP Group Project\n",
    "### David's Personal Notebook"
   ]
  },
  {
   "cell_type": "code",
   "execution_count": 1,
   "metadata": {},
   "outputs": [],
   "source": [
    "import pandas as pd\n",
    "import numpy as np\n",
    "import os\n",
    "import json\n",
    "import csv\n",
    "import requests\n",
    "\n",
    "import unicodedata\n",
    "import string\n",
    "import time\n",
    "import random\n",
    "from bs4 import BeautifulSoup\n",
    "from requests import get\n",
    "import re\n",
    "\n",
    "from nltk.tokenize import word_tokenize\n",
    "from nltk.corpus import stopwords\n",
    "import matplotlib.pyplot as plt\n",
    "\n",
    "import env\n",
    "import acquire\n",
    "import prepare"
   ]
  },
  {
   "cell_type": "markdown",
   "metadata": {},
   "source": [
    "## Acquire\n",
    "Was not able to acquire dataset utilizing acquire.py due to computational limitations. \\\n",
    "Team member Josh acquired and uploaded the dataset as a csv for our team's convenience."
   ]
  },
  {
   "cell_type": "code",
   "execution_count": 2,
   "metadata": {},
   "outputs": [],
   "source": [
    "# Reading csv into notebook as df\n",
    "df = pd.read_csv('~/codeup/data.csv')"
   ]
  },
  {
   "cell_type": "code",
   "execution_count": 3,
   "metadata": {},
   "outputs": [
    {
     "data": {
      "text/html": [
       "<div>\n",
       "<style scoped>\n",
       "    .dataframe tbody tr th:only-of-type {\n",
       "        vertical-align: middle;\n",
       "    }\n",
       "\n",
       "    .dataframe tbody tr th {\n",
       "        vertical-align: top;\n",
       "    }\n",
       "\n",
       "    .dataframe thead th {\n",
       "        text-align: right;\n",
       "    }\n",
       "</style>\n",
       "<table border=\"1\" class=\"dataframe\">\n",
       "  <thead>\n",
       "    <tr style=\"text-align: right;\">\n",
       "      <th></th>\n",
       "      <th>repo</th>\n",
       "      <th>language</th>\n",
       "      <th>readme_contents</th>\n",
       "    </tr>\n",
       "  </thead>\n",
       "  <tbody>\n",
       "    <tr>\n",
       "      <th>0</th>\n",
       "      <td>freeCodeCamp/freeCodeCamp</td>\n",
       "      <td>TypeScript</td>\n",
       "      <td>[![freeCodeCamp Social Banner](https://s3.amaz...</td>\n",
       "    </tr>\n",
       "    <tr>\n",
       "      <th>1</th>\n",
       "      <td>996icu/996.ICU</td>\n",
       "      <td>NaN</td>\n",
       "      <td>[996.ICU](https://996.icu/#/en_US)\\n=======\\n*...</td>\n",
       "    </tr>\n",
       "    <tr>\n",
       "      <th>2</th>\n",
       "      <td>EbookFoundation/free-programming-books</td>\n",
       "      <td>NaN</td>\n",
       "      <td># List of Free Learning Resources In Many Lang...</td>\n",
       "    </tr>\n",
       "    <tr>\n",
       "      <th>3</th>\n",
       "      <td>jwasham/coding-interview-university</td>\n",
       "      <td>NaN</td>\n",
       "      <td># Coding Interview University\\n\\n&gt; I originall...</td>\n",
       "    </tr>\n",
       "    <tr>\n",
       "      <th>4</th>\n",
       "      <td>kamranahmedse/developer-roadmap</td>\n",
       "      <td>TypeScript</td>\n",
       "      <td>&lt;p align=\"center\"&gt;\\n  &lt;img src=\"public/brand.p...</td>\n",
       "    </tr>\n",
       "  </tbody>\n",
       "</table>\n",
       "</div>"
      ],
      "text/plain": [
       "                                     repo    language  \\\n",
       "0               freeCodeCamp/freeCodeCamp  TypeScript   \n",
       "1                          996icu/996.ICU         NaN   \n",
       "2  EbookFoundation/free-programming-books         NaN   \n",
       "3     jwasham/coding-interview-university         NaN   \n",
       "4         kamranahmedse/developer-roadmap  TypeScript   \n",
       "\n",
       "                                     readme_contents  \n",
       "0  [![freeCodeCamp Social Banner](https://s3.amaz...  \n",
       "1  [996.ICU](https://996.icu/#/en_US)\\n=======\\n*...  \n",
       "2  # List of Free Learning Resources In Many Lang...  \n",
       "3  # Coding Interview University\\n\\n> I originall...  \n",
       "4  <p align=\"center\">\\n  <img src=\"public/brand.p...  "
      ]
     },
     "execution_count": 3,
     "metadata": {},
     "output_type": "execute_result"
    }
   ],
   "source": [
    "df.head()"
   ]
  },
  {
   "cell_type": "code",
   "execution_count": 4,
   "metadata": {},
   "outputs": [
    {
     "data": {
      "text/plain": [
       "(1031, 3)"
      ]
     },
     "execution_count": 4,
     "metadata": {},
     "output_type": "execute_result"
    }
   ],
   "source": [
    "df.shape"
   ]
  },
  {
   "cell_type": "code",
   "execution_count": 5,
   "metadata": {},
   "outputs": [
    {
     "name": "stdout",
     "output_type": "stream",
     "text": [
      "<class 'pandas.core.frame.DataFrame'>\n",
      "RangeIndex: 1031 entries, 0 to 1030\n",
      "Data columns (total 3 columns):\n",
      " #   Column           Non-Null Count  Dtype \n",
      "---  ------           --------------  ----- \n",
      " 0   repo             1031 non-null   object\n",
      " 1   language         917 non-null    object\n",
      " 2   readme_contents  1027 non-null   object\n",
      "dtypes: object(3)\n",
      "memory usage: 24.3+ KB\n"
     ]
    }
   ],
   "source": [
    "df.info()"
   ]
  },
  {
   "cell_type": "markdown",
   "metadata": {},
   "source": [
    "## Prepare"
   ]
  },
  {
   "cell_type": "code",
   "execution_count": 6,
   "metadata": {},
   "outputs": [
    {
     "data": {
      "text/plain": [
       "False    917\n",
       "True     114\n",
       "Name: language, dtype: int64"
      ]
     },
     "execution_count": 6,
     "metadata": {},
     "output_type": "execute_result"
    }
   ],
   "source": [
    "df.language.isnull().value_counts()"
   ]
  },
  {
   "cell_type": "code",
   "execution_count": 7,
   "metadata": {},
   "outputs": [],
   "source": [
    "# Team concludes languages that are null be labeled \"English\"\n",
    "df.language = df.language.fillna('English')"
   ]
  },
  {
   "cell_type": "code",
   "execution_count": 8,
   "metadata": {},
   "outputs": [
    {
     "data": {
      "text/plain": [
       "JavaScript          232\n",
       "Python              114\n",
       "English             114\n",
       "TypeScript          110\n",
       "Go                   78\n",
       "Java                 70\n",
       "C++                  56\n",
       "C                    30\n",
       "HTML                 23\n",
       "Shell                22\n",
       "Rust                 21\n",
       "Swift                18\n",
       "Ruby                 18\n",
       "Jupyter Notebook     14\n",
       "PHP                  14\n",
       "C#                   13\n",
       "Kotlin               12\n",
       "CSS                  12\n",
       "Vue                   8\n",
       "Objective-C           5\n",
       "Lua                   4\n",
       "Dart                  4\n",
       "Vim script            3\n",
       "Haskell               3\n",
       "Markdown              3\n",
       "SCSS                  3\n",
       "TeX                   3\n",
       "Elixir                2\n",
       "Vim Script            2\n",
       "Clojure               2\n",
       "Makefile              2\n",
       "Zig                   1\n",
       "Emacs Lisp            1\n",
       "OCaml                 1\n",
       "Julia                 1\n",
       "CoffeeScript          1\n",
       "Objective-C++         1\n",
       "AsciiDoc              1\n",
       "Nunjucks              1\n",
       "Batchfile             1\n",
       "Scala                 1\n",
       "Jinja                 1\n",
       "Roff                  1\n",
       "Dockerfile            1\n",
       "Assembly              1\n",
       "V                     1\n",
       "Standard ML           1\n",
       "Name: language, dtype: int64"
      ]
     },
     "execution_count": 8,
     "metadata": {},
     "output_type": "execute_result"
    }
   ],
   "source": [
    "df.language.value_counts()"
   ]
  },
  {
   "cell_type": "code",
   "execution_count": 9,
   "metadata": {},
   "outputs": [
    {
     "data": {
      "text/plain": [
       "repo               0\n",
       "language           0\n",
       "readme_contents    4\n",
       "dtype: int64"
      ]
     },
     "execution_count": 9,
     "metadata": {},
     "output_type": "execute_result"
    }
   ],
   "source": [
    "df.isnull().sum()"
   ]
  },
  {
   "cell_type": "markdown",
   "metadata": {},
   "source": [
    "Number of nulls in readme_contents is negligable. Thus, I'll drop these rows."
   ]
  },
  {
   "cell_type": "code",
   "execution_count": 10,
   "metadata": {},
   "outputs": [],
   "source": [
    "# Dropping 4 null rows\n",
    "df = df.dropna()"
   ]
  },
  {
   "cell_type": "code",
   "execution_count": 11,
   "metadata": {},
   "outputs": [
    {
     "data": {
      "text/plain": [
       "repo               0\n",
       "language           0\n",
       "readme_contents    0\n",
       "dtype: int64"
      ]
     },
     "execution_count": 11,
     "metadata": {},
     "output_type": "execute_result"
    }
   ],
   "source": [
    "df.isnull().sum()"
   ]
  },
  {
   "cell_type": "markdown",
   "metadata": {},
   "source": [
    "In order to avoid data imbalance, we limit languages to those who have at least 10 repo instances within our dataset."
   ]
  },
  {
   "cell_type": "code",
   "execution_count": 12,
   "metadata": {},
   "outputs": [],
   "source": [
    "# determining remaining list of languages\n",
    "languages_kept = df.language.value_counts()[df.language.value_counts() > 10].index"
   ]
  },
  {
   "cell_type": "code",
   "execution_count": 13,
   "metadata": {},
   "outputs": [
    {
     "data": {
      "text/plain": [
       "Index(['JavaScript', 'Python', 'English', 'TypeScript', 'Go', 'Java', 'C++',\n",
       "       'C', 'HTML', 'Shell', 'Rust', 'Swift', 'Ruby', 'Jupyter Notebook',\n",
       "       'PHP', 'C#', 'Kotlin', 'CSS'],\n",
       "      dtype='object')"
      ]
     },
     "execution_count": 13,
     "metadata": {},
     "output_type": "execute_result"
    }
   ],
   "source": [
    "languages_kept"
   ]
  },
  {
   "cell_type": "code",
   "execution_count": 14,
   "metadata": {},
   "outputs": [],
   "source": [
    "# Removing languages not kept\n",
    "df = df[df.language.isin(languages_kept)]"
   ]
  },
  {
   "cell_type": "code",
   "execution_count": 15,
   "metadata": {},
   "outputs": [
    {
     "name": "stdout",
     "output_type": "stream",
     "text": [
      "<class 'pandas.core.frame.DataFrame'>\n",
      "Int64Index: 967 entries, 0 to 1030\n",
      "Data columns (total 3 columns):\n",
      " #   Column           Non-Null Count  Dtype \n",
      "---  ------           --------------  ----- \n",
      " 0   repo             967 non-null    object\n",
      " 1   language         967 non-null    object\n",
      " 2   readme_contents  967 non-null    object\n",
      "dtypes: object(3)\n",
      "memory usage: 30.2+ KB\n"
     ]
    }
   ],
   "source": [
    "df.info()"
   ]
  },
  {
   "cell_type": "code",
   "execution_count": 16,
   "metadata": {},
   "outputs": [],
   "source": [
    "df['readme_contents'] =  df['readme_contents'].astype('string')"
   ]
  },
  {
   "cell_type": "code",
   "execution_count": 17,
   "metadata": {},
   "outputs": [
    {
     "data": {
      "text/html": [
       "<div>\n",
       "<style scoped>\n",
       "    .dataframe tbody tr th:only-of-type {\n",
       "        vertical-align: middle;\n",
       "    }\n",
       "\n",
       "    .dataframe tbody tr th {\n",
       "        vertical-align: top;\n",
       "    }\n",
       "\n",
       "    .dataframe thead th {\n",
       "        text-align: right;\n",
       "    }\n",
       "</style>\n",
       "<table border=\"1\" class=\"dataframe\">\n",
       "  <thead>\n",
       "    <tr style=\"text-align: right;\">\n",
       "      <th></th>\n",
       "      <th>repo</th>\n",
       "      <th>language</th>\n",
       "      <th>readme_contents</th>\n",
       "    </tr>\n",
       "  </thead>\n",
       "  <tbody>\n",
       "    <tr>\n",
       "      <th>0</th>\n",
       "      <td>freeCodeCamp/freeCodeCamp</td>\n",
       "      <td>TypeScript</td>\n",
       "      <td>[![freeCodeCamp Social Banner](https://s3.amaz...</td>\n",
       "    </tr>\n",
       "    <tr>\n",
       "      <th>1</th>\n",
       "      <td>996icu/996.ICU</td>\n",
       "      <td>English</td>\n",
       "      <td>[996.ICU](https://996.icu/#/en_US)\n",
       "=======\n",
       "**P...</td>\n",
       "    </tr>\n",
       "    <tr>\n",
       "      <th>2</th>\n",
       "      <td>EbookFoundation/free-programming-books</td>\n",
       "      <td>English</td>\n",
       "      <td># List of Free Learning Resources In Many Lang...</td>\n",
       "    </tr>\n",
       "    <tr>\n",
       "      <th>3</th>\n",
       "      <td>jwasham/coding-interview-university</td>\n",
       "      <td>English</td>\n",
       "      <td># Coding Interview University\n",
       "\n",
       "&gt; I originally ...</td>\n",
       "    </tr>\n",
       "    <tr>\n",
       "      <th>4</th>\n",
       "      <td>kamranahmedse/developer-roadmap</td>\n",
       "      <td>TypeScript</td>\n",
       "      <td>&lt;p align=\"center\"&gt;\n",
       "  &lt;img src=\"public/brand.pn...</td>\n",
       "    </tr>\n",
       "  </tbody>\n",
       "</table>\n",
       "</div>"
      ],
      "text/plain": [
       "                                     repo    language  \\\n",
       "0               freeCodeCamp/freeCodeCamp  TypeScript   \n",
       "1                          996icu/996.ICU     English   \n",
       "2  EbookFoundation/free-programming-books     English   \n",
       "3     jwasham/coding-interview-university     English   \n",
       "4         kamranahmedse/developer-roadmap  TypeScript   \n",
       "\n",
       "                                     readme_contents  \n",
       "0  [![freeCodeCamp Social Banner](https://s3.amaz...  \n",
       "1  [996.ICU](https://996.icu/#/en_US)\n",
       "=======\n",
       "**P...  \n",
       "2  # List of Free Learning Resources In Many Lang...  \n",
       "3  # Coding Interview University\n",
       "\n",
       "> I originally ...  \n",
       "4  <p align=\"center\">\n",
       "  <img src=\"public/brand.pn...  "
      ]
     },
     "execution_count": 17,
     "metadata": {},
     "output_type": "execute_result"
    }
   ],
   "source": [
    "df.head()"
   ]
  },
  {
   "cell_type": "code",
   "execution_count": 18,
   "metadata": {},
   "outputs": [],
   "source": [
    "test_clean = df['readme_contents'].map(lambda x: prepare.basic_clean(x))"
   ]
  },
  {
   "cell_type": "code",
   "execution_count": 19,
   "metadata": {},
   "outputs": [
    {
     "data": {
      "text/plain": [
       "0"
      ]
     },
     "execution_count": 19,
     "metadata": {},
     "output_type": "execute_result"
    }
   ],
   "source": [
    "test_clean.isnull().sum()"
   ]
  },
  {
   "cell_type": "markdown",
   "metadata": {},
   "source": [
    "Below, I utilize our prepare.py in order to clean, tokenize, and stem our `readme_contents` "
   ]
  },
  {
   "cell_type": "code",
   "execution_count": 20,
   "metadata": {},
   "outputs": [],
   "source": [
    "df['readme_contents'] = df['readme_contents'].map(lambda x: prepare.basic_clean(x))"
   ]
  },
  {
   "cell_type": "code",
   "execution_count": 21,
   "metadata": {},
   "outputs": [],
   "source": [
    "df['readme_contents'] = df['readme_contents'].map(lambda x: prepare.tokenize(x))"
   ]
  },
  {
   "cell_type": "code",
   "execution_count": 22,
   "metadata": {},
   "outputs": [],
   "source": [
    "df['stemmed'] = df['readme_contents'].map(lambda x: prepare.stem(x))"
   ]
  },
  {
   "cell_type": "code",
   "execution_count": 23,
   "metadata": {},
   "outputs": [],
   "source": [
    "df['lemma'] = df['readme_contents'].map(lambda x: prepare.lemmatize(x))"
   ]
  },
  {
   "cell_type": "code",
   "execution_count": 24,
   "metadata": {},
   "outputs": [
    {
     "name": "stdout",
     "output_type": "stream",
     "text": [
      "<class 'pandas.core.frame.DataFrame'>\n",
      "Int64Index: 967 entries, 0 to 1030\n",
      "Data columns (total 5 columns):\n",
      " #   Column           Non-Null Count  Dtype \n",
      "---  ------           --------------  ----- \n",
      " 0   repo             967 non-null    object\n",
      " 1   language         967 non-null    object\n",
      " 2   readme_contents  967 non-null    object\n",
      " 3   stemmed          967 non-null    object\n",
      " 4   lemma            967 non-null    object\n",
      "dtypes: object(5)\n",
      "memory usage: 45.3+ KB\n"
     ]
    }
   ],
   "source": [
    "df.info()"
   ]
  },
  {
   "cell_type": "code",
   "execution_count": 25,
   "metadata": {},
   "outputs": [
    {
     "data": {
      "text/html": [
       "<div>\n",
       "<style scoped>\n",
       "    .dataframe tbody tr th:only-of-type {\n",
       "        vertical-align: middle;\n",
       "    }\n",
       "\n",
       "    .dataframe tbody tr th {\n",
       "        vertical-align: top;\n",
       "    }\n",
       "\n",
       "    .dataframe thead th {\n",
       "        text-align: right;\n",
       "    }\n",
       "</style>\n",
       "<table border=\"1\" class=\"dataframe\">\n",
       "  <thead>\n",
       "    <tr style=\"text-align: right;\">\n",
       "      <th></th>\n",
       "      <th>repo</th>\n",
       "      <th>language</th>\n",
       "      <th>readme_contents</th>\n",
       "      <th>stemmed</th>\n",
       "      <th>lemma</th>\n",
       "    </tr>\n",
       "  </thead>\n",
       "  <tbody>\n",
       "    <tr>\n",
       "      <th>0</th>\n",
       "      <td>freeCodeCamp/freeCodeCamp</td>\n",
       "      <td>TypeScript</td>\n",
       "      <td>freecodecamp social requests source freecodeca...</td>\n",
       "      <td>freecodecamp social request sourc freecodecamp...</td>\n",
       "      <td>freecodecamp social request source freecodecam...</td>\n",
       "    </tr>\n",
       "    <tr>\n",
       "      <th>1</th>\n",
       "      <td>996icu/996.ICU</td>\n",
       "      <td>English</td>\n",
       "      <td>note that there exists no other official accou...</td>\n",
       "      <td>note that there exist no other offici account ...</td>\n",
       "      <td>note that there exists no other official accou...</td>\n",
       "    </tr>\n",
       "    <tr>\n",
       "      <th>2</th>\n",
       "      <td>EbookFoundation/free-programming-books</td>\n",
       "      <td>English</td>\n",
       "      <td>list of free learning resources in many alignc...</td>\n",
       "      <td>list of free learn resourc in mani aligncent c...</td>\n",
       "      <td>list of free learning resource in many alignce...</td>\n",
       "    </tr>\n",
       "    <tr>\n",
       "      <th>3</th>\n",
       "      <td>jwasham/coding-interview-university</td>\n",
       "      <td>English</td>\n",
       "      <td>coding interview i originally created this as ...</td>\n",
       "      <td>code interview i origin creat thi as a short t...</td>\n",
       "      <td>coding interview i originally created this a a...</td>\n",
       "    </tr>\n",
       "    <tr>\n",
       "      <th>4</th>\n",
       "      <td>kamranahmedse/developer-roadmap</td>\n",
       "      <td>TypeScript</td>\n",
       "      <td>p img srcpublicbrandpng h2 p aligncentercommun...</td>\n",
       "      <td>p img srcpublicbrandpng h2 p aligncentercommun...</td>\n",
       "      <td>p img srcpublicbrandpng h2 p aligncentercommun...</td>\n",
       "    </tr>\n",
       "  </tbody>\n",
       "</table>\n",
       "</div>"
      ],
      "text/plain": [
       "                                     repo    language  \\\n",
       "0               freeCodeCamp/freeCodeCamp  TypeScript   \n",
       "1                          996icu/996.ICU     English   \n",
       "2  EbookFoundation/free-programming-books     English   \n",
       "3     jwasham/coding-interview-university     English   \n",
       "4         kamranahmedse/developer-roadmap  TypeScript   \n",
       "\n",
       "                                     readme_contents  \\\n",
       "0  freecodecamp social requests source freecodeca...   \n",
       "1  note that there exists no other official accou...   \n",
       "2  list of free learning resources in many alignc...   \n",
       "3  coding interview i originally created this as ...   \n",
       "4  p img srcpublicbrandpng h2 p aligncentercommun...   \n",
       "\n",
       "                                             stemmed  \\\n",
       "0  freecodecamp social request sourc freecodecamp...   \n",
       "1  note that there exist no other offici account ...   \n",
       "2  list of free learn resourc in mani aligncent c...   \n",
       "3  code interview i origin creat thi as a short t...   \n",
       "4  p img srcpublicbrandpng h2 p aligncentercommun...   \n",
       "\n",
       "                                               lemma  \n",
       "0  freecodecamp social request source freecodecam...  \n",
       "1  note that there exists no other official accou...  \n",
       "2  list of free learning resource in many alignce...  \n",
       "3  coding interview i originally created this a a...  \n",
       "4  p img srcpublicbrandpng h2 p aligncentercommun...  "
      ]
     },
     "execution_count": 25,
     "metadata": {},
     "output_type": "execute_result"
    }
   ],
   "source": [
    "df.head()"
   ]
  },
  {
   "cell_type": "code",
   "execution_count": 26,
   "metadata": {},
   "outputs": [
    {
     "data": {
      "text/plain": [
       "JavaScript          232\n",
       "Python              114\n",
       "English             114\n",
       "TypeScript          109\n",
       "Go                   76\n",
       "Java                 70\n",
       "C++                  55\n",
       "C                    30\n",
       "HTML                 23\n",
       "Shell                22\n",
       "Rust                 21\n",
       "Ruby                 18\n",
       "Swift                18\n",
       "PHP                  14\n",
       "Jupyter Notebook     14\n",
       "C#                   13\n",
       "CSS                  12\n",
       "Kotlin               12\n",
       "Name: language, dtype: int64"
      ]
     },
     "execution_count": 26,
     "metadata": {},
     "output_type": "execute_result"
    }
   ],
   "source": [
    "df.language.value_counts()"
   ]
  },
  {
   "cell_type": "code",
   "execution_count": 27,
   "metadata": {},
   "outputs": [],
   "source": [
    "df_explore = df"
   ]
  },
  {
   "cell_type": "code",
   "execution_count": 28,
   "metadata": {},
   "outputs": [
    {
     "data": {
      "text/plain": [
       "(967, 5)"
      ]
     },
     "execution_count": 28,
     "metadata": {},
     "output_type": "execute_result"
    }
   ],
   "source": [
    "df_explore.shape"
   ]
  },
  {
   "cell_type": "code",
   "execution_count": 29,
   "metadata": {},
   "outputs": [],
   "source": [
    "df_explore['language'] =  df_explore['language'].astype('string')"
   ]
  },
  {
   "cell_type": "code",
   "execution_count": 30,
   "metadata": {},
   "outputs": [
    {
     "name": "stdout",
     "output_type": "stream",
     "text": [
      "<class 'pandas.core.frame.DataFrame'>\n",
      "Int64Index: 967 entries, 0 to 1030\n",
      "Data columns (total 5 columns):\n",
      " #   Column           Non-Null Count  Dtype \n",
      "---  ------           --------------  ----- \n",
      " 0   repo             967 non-null    object\n",
      " 1   language         967 non-null    string\n",
      " 2   readme_contents  967 non-null    object\n",
      " 3   stemmed          967 non-null    object\n",
      " 4   lemma            967 non-null    object\n",
      "dtypes: object(4), string(1)\n",
      "memory usage: 45.3+ KB\n"
     ]
    }
   ],
   "source": [
    "df_explore.info()"
   ]
  },
  {
   "cell_type": "code",
   "execution_count": 31,
   "metadata": {},
   "outputs": [
    {
     "data": {
      "text/plain": [
       "JavaScript          232\n",
       "Python              114\n",
       "English             114\n",
       "TypeScript          109\n",
       "Go                   76\n",
       "Java                 70\n",
       "C++                  55\n",
       "C                    30\n",
       "HTML                 23\n",
       "Shell                22\n",
       "Rust                 21\n",
       "Ruby                 18\n",
       "Swift                18\n",
       "PHP                  14\n",
       "Jupyter Notebook     14\n",
       "C#                   13\n",
       "CSS                  12\n",
       "Kotlin               12\n",
       "Name: language, dtype: Int64"
      ]
     },
     "execution_count": 31,
     "metadata": {},
     "output_type": "execute_result"
    }
   ],
   "source": [
    "df_explore.language.value_counts()"
   ]
  },
  {
   "cell_type": "code",
   "execution_count": 32,
   "metadata": {},
   "outputs": [
    {
     "data": {
      "text/plain": [
       "0       freecodecamp social request source freecodecam...\n",
       "1       note that there exists no other official accou...\n",
       "2       list of free learning resource in many alignce...\n",
       "3       coding interview i originally created this a a...\n",
       "4       p img srcpublicbrandpng h2 p aligncentercommun...\n",
       "                              ...                        \n",
       "1026    a href src join the the tiny version of gfwlis...\n",
       "1027    microsoft rest api microsoft rest api guidelin...\n",
       "1028    the chat at version license build status cover...\n",
       "1029    mpv external system release bug external is a ...\n",
       "1030    div width400px height100px width400px height10...\n",
       "Name: lemma, Length: 967, dtype: object"
      ]
     },
     "execution_count": 32,
     "metadata": {},
     "output_type": "execute_result"
    }
   ],
   "source": [
    "df_explore.lemma"
   ]
  },
  {
   "cell_type": "markdown",
   "metadata": {},
   "source": []
  },
  {
   "cell_type": "code",
   "execution_count": 35,
   "metadata": {},
   "outputs": [
    {
     "ename": "AttributeError",
     "evalue": "'Series' object has no attribute 'string'",
     "output_type": "error",
     "traceback": [
      "\u001b[0;31m---------------------------------------------------------------------------\u001b[0m",
      "\u001b[0;31mAttributeError\u001b[0m                            Traceback (most recent call last)",
      "\u001b[1;32m/Users/davidschneemann/codeup/project-github-readme-classification/david_notebook.ipynb Cell 40\u001b[0m in \u001b[0;36m<cell line: 1>\u001b[0;34m()\u001b[0m\n\u001b[0;32m----> <a href='vscode-notebook-cell:/Users/davidschneemann/codeup/project-github-readme-classification/david_notebook.ipynb#X55sZmlsZQ%3D%3D?line=0'>1</a>\u001b[0m javascript_words \u001b[39m=\u001b[39m df_explore\u001b[39m.\u001b[39;49mloc[df_explore\u001b[39m.\u001b[39;49mlanguage \u001b[39m==\u001b[39;49m \u001b[39m'\u001b[39;49m\u001b[39mJavaScript\u001b[39;49m\u001b[39m'\u001b[39;49m]\u001b[39m.\u001b[39;49mlemma\u001b[39m.\u001b[39;49mstring\u001b[39m.\u001b[39msplit()\n",
      "File \u001b[0;32m/usr/local/anaconda3/lib/python3.9/site-packages/pandas/core/generic.py:5575\u001b[0m, in \u001b[0;36mNDFrame.__getattr__\u001b[0;34m(self, name)\u001b[0m\n\u001b[1;32m   5568\u001b[0m \u001b[39mif\u001b[39;00m (\n\u001b[1;32m   5569\u001b[0m     name \u001b[39mnot\u001b[39;00m \u001b[39min\u001b[39;00m \u001b[39mself\u001b[39m\u001b[39m.\u001b[39m_internal_names_set\n\u001b[1;32m   5570\u001b[0m     \u001b[39mand\u001b[39;00m name \u001b[39mnot\u001b[39;00m \u001b[39min\u001b[39;00m \u001b[39mself\u001b[39m\u001b[39m.\u001b[39m_metadata\n\u001b[1;32m   5571\u001b[0m     \u001b[39mand\u001b[39;00m name \u001b[39mnot\u001b[39;00m \u001b[39min\u001b[39;00m \u001b[39mself\u001b[39m\u001b[39m.\u001b[39m_accessors\n\u001b[1;32m   5572\u001b[0m     \u001b[39mand\u001b[39;00m \u001b[39mself\u001b[39m\u001b[39m.\u001b[39m_info_axis\u001b[39m.\u001b[39m_can_hold_identifiers_and_holds_name(name)\n\u001b[1;32m   5573\u001b[0m ):\n\u001b[1;32m   5574\u001b[0m     \u001b[39mreturn\u001b[39;00m \u001b[39mself\u001b[39m[name]\n\u001b[0;32m-> 5575\u001b[0m \u001b[39mreturn\u001b[39;00m \u001b[39mobject\u001b[39;49m\u001b[39m.\u001b[39;49m\u001b[39m__getattribute__\u001b[39;49m(\u001b[39mself\u001b[39;49m, name)\n",
      "\u001b[0;31mAttributeError\u001b[0m: 'Series' object has no attribute 'string'"
     ]
    }
   ],
   "source": [
    "javascript_words = df_explore.loc[df_explore.language == 'JavaScript'].lemma.string.split()\n"
   ]
  },
  {
   "cell_type": "code",
   "execution_count": null,
   "metadata": {},
   "outputs": [],
   "source": [
    "\n",
    "python_words = df_explore.loc[df_explore.language == 'Python']\n",
    "typescript_words = df_explore.loc[df_explore.language == 'TypeScript']\n",
    "go_words = df_explore.loc[df_explore.language == 'Go']\n",
    "java_words = df_explore.loc[df_explore.language == 'Java']\n",
    "c_plus_words = df_explore.loc[df_explore.language == 'C++']\n",
    "c_words = df_explore.loc[df_explore.language == 'C']\n",
    "html_words = df_explore.loc[df_explore.language == 'HTML']\n",
    "shell_words = df_explore.loc[df_explore.language == 'Shell']\n",
    "rust_words = df_explore.loc[df_explore.language == 'Rust']\n",
    "swift_words = df_explore.loc[df_explore.language == 'Swift']\n",
    "ruby_words = df_explore.loc[df_explore.language == 'Ruby']\n",
    "jupyter_words = df_explore.loc[df_explore.language == 'Jupyter Notebook']\n",
    "c_sharp_words = df_explore.loc[df_explore.language == 'C#']\n",
    "css_words = df_explore.loc[df_explore.language == 'CSS']\n",
    "kotlin_words = df_explore.loc[df_explore.language == 'Kotlin']\n",
    "php_words = df_explore.loc[df_explore.language == 'PHP']"
   ]
  },
  {
   "cell_type": "code",
   "execution_count": 35,
   "metadata": {},
   "outputs": [],
   "source": [
    "javascript_freq = pd.Series(javascript_words.lemma).value_counts()\n",
    "python_freq = pd.Series(python_words.lemma).value_counts()\n",
    "typescript_freq = pd.Series(typescript_words.lemma).value_counts()\n",
    "go_freq = pd.Series(go_words.lemma).value_counts()\n",
    "java_freq = pd.Series(java_words.lemma).value_counts()\n",
    "c_plus_freq = pd.Series(c_plus_words.lemma).value_counts()\n",
    "c_freq = pd.Series(c_words.lemma).value_counts()\n",
    "html_freq = pd.Series(html_words.lemma).value_counts()\n",
    "shell_freq = pd.Series(shell_words.lemma).value_counts()\n",
    "rust_freq = pd.Series(rust_words.lemma).value_counts()\n",
    "swift_freq = pd.Series(swift_words.lemma).value_counts()\n",
    "ruby_freq = pd.Series(ruby_words.lemma).value_counts()\n",
    "jupyter_freq = pd.Series(jupyter_words.lemma).value_counts()\n",
    "c_sharp_freq = pd.Series(c_sharp_words.lemma).value_counts()\n",
    "css_freq = pd.Series(css_words.lemma).value_counts()\n",
    "kotlin_freq = pd.Series(kotlin_words.lemma).value_counts()\n",
    "php_freq = pd.Series(php_words.lemma).value_counts()\n"
   ]
  },
  {
   "cell_type": "code",
   "execution_count": 36,
   "metadata": {},
   "outputs": [
    {
     "data": {
      "text/html": [
       "<div>\n",
       "<style scoped>\n",
       "    .dataframe tbody tr th:only-of-type {\n",
       "        vertical-align: middle;\n",
       "    }\n",
       "\n",
       "    .dataframe tbody tr th {\n",
       "        vertical-align: top;\n",
       "    }\n",
       "\n",
       "    .dataframe thead th {\n",
       "        text-align: right;\n",
       "    }\n",
       "</style>\n",
       "<table border=\"1\" class=\"dataframe\">\n",
       "  <thead>\n",
       "    <tr style=\"text-align: right;\">\n",
       "      <th></th>\n",
       "      <th>javascript</th>\n",
       "      <th>python</th>\n",
       "      <th>typescript</th>\n",
       "      <th>go</th>\n",
       "      <th>java</th>\n",
       "      <th>c_plus</th>\n",
       "      <th>c</th>\n",
       "      <th>html</th>\n",
       "      <th>shell</th>\n",
       "      <th>rust</th>\n",
       "      <th>swift</th>\n",
       "      <th>ruby</th>\n",
       "      <th>jupyter</th>\n",
       "      <th>c_sharp</th>\n",
       "      <th>css</th>\n",
       "      <th>kotlin</th>\n",
       "      <th>php</th>\n",
       "    </tr>\n",
       "  </thead>\n",
       "  <tbody>\n",
       "    <tr>\n",
       "      <th></th>\n",
       "      <td>0</td>\n",
       "      <td>1</td>\n",
       "      <td>0</td>\n",
       "      <td>0</td>\n",
       "      <td>0</td>\n",
       "      <td>0</td>\n",
       "      <td>0</td>\n",
       "      <td>0</td>\n",
       "      <td>0</td>\n",
       "      <td>0</td>\n",
       "      <td>0</td>\n",
       "      <td>0</td>\n",
       "      <td>0</td>\n",
       "      <td>0</td>\n",
       "      <td>0</td>\n",
       "      <td>0</td>\n",
       "      <td>0</td>\n",
       "    </tr>\n",
       "    <tr>\n",
       "      <th>&amp;#9; &amp;#9; &amp;#9; &amp;#9; &amp;#9; 3 4 6 3 9 72018 a 1a 2a 3a 4a 5a stylecolor rgb626262spanspan stylecolor rgb19200spanspan stylecolor rgb626262spanspan stylecolor rgb19200spanspan stylecolor stylecolor rgb626262spanspan stylecolor rgb19200spanspan stylecolor stylecolor rgb626262spanspan stylecolor span1 spanspan stylecolor rgb19200 stylecolor rgb19200spanspanspanspanspanspan stylecolor rgb19200 stylecolor stylecolor span stylecolor inherit_2 stylecolor stylecolor rgb19200spanspanspan stylecolor rgb19200spanspan stylecolor stylecolor spanspan stylecolor 6a stylecolor stylecolor rgb626262spanspan stylecolor &amp;#9; div classauimessage hint shadowed &amp;#9; span classauiicon &amp;#9; div &amp;#9; 1 stylecolor stylecolor span stylecolor inherit_2 stylecolor stylecolor span stylecolor inherit_3 _spanspan stylecolor rgb19200 stylecolor rgb19200spanspan stylecolor rgb19200 stylecolor rgb19200spanspan stylecolor rgb19200 span stylecolor inherit_4 stylecolor stylecolor span stylecolor inherit_5 stylecolor stylecolor span stylecolor inherit_6 stylecolor rgb19200spanspan stylecolor rgb19200 stylecolor span stylecolor inherit7 stylecolor stylecolor 7a 8a 9a 10a a 1a name idexpander2136437052 idexpandercontrol2136437052 span classexpandcontroliconspanspan idexpandercontent2136437052 classexpandcontent div classauimessage success shadowed span classauiicon div div classtablewraptable classconfluencetabletbodytrth colspan3 classconfluencethdiv classparadivthth rowspan2 classconfluencethdiv classparadivthth rowspan2 classconfluencethdiv classparadivthtrtrth classconfluencethdiv classparadivthth classconfluencethdiv classparadivthth classconfluencethdiv classparadivthtrtrtd rowspan10 classconfluencetddiv classparardivdiv classparadivtdtd classconfluencetd tdtd classconfluencetd tdtd classconfluencetddiv classparadivtdtd classconfluencetddiv classparadivtdtrtrtd rowspan3 classconfluencetddiv classparar1divtdtd classconfluencetd tdtd classconfluencetddiv classparadivtdtd classconfluencetddiv classparadivtdtrtrtd classconfluencetddiv classparar11divtdtd classconfluencetddiv classparadivtdtd classconfluencetddiv classparadivtdtrtrtd classconfluencetddiv classparar12divtdtd classconfluencetddiv classparadivtdtd classconfluencetddiv classparadivtdtrtrtd rowspan3 classconfluencetddiv classparar2divtdtd classconfluencetd tdtd classconfluencetddiv classparadivtdtd classconfluencetddiv classparadivtdtrtrtd classconfluencetddiv classparar21divtdtd classconfluencetddiv classparadivtdtd classconfluencetddiv classparadivtdtrtrtd classconfluencetddiv classparar22divtdtd classconfluencetddiv classparadivtdtd classconfluencetddiv classparadivtdtrtrtd rowspan3 classconfluencetddiv classparar3divtdtd classconfluencetd tdtd classconfluencetddiv classparadivtdtd classconfluencetddiv classparadivtdtrtrtd classconfluencetddiv classparar31divtdtd classconfluencetddiv classparadivtdtd classconfluencetddiv classparadivtdtrtrtd classconfluencetddiv classparar32divtdtd classconfluencetddiv classparadivtdtd classconfluencetddiv classparadivtdtrtrtd rowspan23 classconfluencetddiv classparaadivdiv classparadivtdtd classconfluencetd tdtd classconfluencetd tdtd classconfluencetddiv classparadivtdtd classconfluencetddiv classparadivtdtrtrtd classconfluencetddiv classparaa1divtdtd classconfluencetd tdtd classconfluencetddiv classparadivtdtd classconfluencetddiv classparadivtdtrtrtd rowspan3 classconfluencetddiv classparaa2divtdtd classconfluencetd tdtd classconfluencetddiv classparadivtdtd classconfluencetddiv classparadivtdtrtrtd classconfluencetddiv classparaa21divtdtd classconfluencetddiv classparadivtdtd classconfluencetddiv classparadivtdtrtrtd classconfluencetddiv classparaa22divtdtd classconfluencetddiv classparadivtdtd classconfluencetddiv classparadivtdtrtrtd rowspan6 classconfluencetddiv classparaa3divtdtd classconfluencetd tdtd classconfluencetddiv classparadivtdtd classconfluencetddiv classparadivtdtrtrtd classconfluencetddiv classparaa31divtdtd classconfluencetddiv classparadivtdtd classconfluencetddiv classparadivtdtrtrtd classconfluencetddiv classparaa32divtdtd classconfluencetddiv classparadivtdtd classconfluencetddiv classparadivtdtrtrtd classconfluencetddiv classparaa33divtdtd classconfluencetddiv classparadivtdtd classconfluencetddiv classparadivtdtrtrtd classconfluencetddiv classparaa34divtdtd classconfluencetddiv classparadivtdtd classconfluencetddiv classparadivtdtrtrtd classconfluencetddiv classparaa35divtdtd classconfluencetddiv classparadivtdtd classconfluencetddiv classparadivtdtrtrtd rowspan3 classconfluencetddiv classparaa4divtdtd classconfluencetd tdtd classconfluencetddiv classparadivtdtd classconfluencetddiv classparadivtdtrtrtd classconfluencetddiv classparaa41divtdtd classconfluencetddiv classparadivtdtd classconfluencetddiv classparadivtdtrtrtd classconfluencetddiv classparaa42divtdtd classconfluencetddiv classparadivtdtd classconfluencetddiv classparadivtdtrtrtd rowspan5 classconfluencetddiv classparaa5divtdtd classconfluencetd tdtd classconfluencetddiv classparadivtdtd classconfluencetddiv classparadivtdtrtrtd classconfluencetddiv classparaa51divtdtd classconfluencetddiv classparadivtdtd classconfluencetddiv classparadivtdtrtrtd classconfluencetddiv classparaa52divtdtd classconfluencetddiv classparadivtdtd classconfluencetddiv classparadivtdtrtrtd classconfluencetddiv classparaa53divtdtd classconfluencetddiv classparadivtdtd classconfluencetddiv classparadivtdtrtrtd classconfluencetddiv classparaa59divtdtd classconfluencetddiv classparadivtdtd classconfluencetddiv classparadivtdtrtrtd classconfluencetddiv classparaa6divtdtd classconfluencetd tdtd classconfluencetddiv classparadivtdtd classconfluencetddiv classparadivtdtrtrtd classconfluencetddiv classparaa7divtdtd classconfluencetd tdtd classconfluencetddiv classparadivtdtd classconfluencetddiv classparadivtdtrtrtd classconfluencetddiv classparaa8divtdtd classconfluencetd tdtd classconfluencetddiv classparadivtdtd classconfluencetddiv classparadivtdtrtrtd classconfluencetddiv classparaa9divtdtd classconfluencetd tdtd classconfluencetddiv classparadivtdtd classconfluencetddiv classparadivtdtrtrtd rowspan17 classconfluencetddiv classparabdivdiv classparadivtdtd classconfluencetd tdtd classconfluencetd tdtd classconfluencetddiv classparadivtdtd classconfluencetddiv classparadivtdtrtrtd rowspan5 classconfluencetddiv classparab1divtdtd classconfluencetd tdtd classconfluencetddiv classparadivtdtd classconfluencetddiv classparadivtdtrtrtd classconfluencetddiv classparab11divtdtd classconfluencetddiv classparadivtdtd classconfluencetddiv classparadivtdtrtrtd classconfluencetddiv classparab12divtdtd classconfluencetddiv classparadivtdtd classconfluencetddiv classparadivtdtrtrtd classconfluencetddiv classparab13divtdtd classconfluencetddiv classparadivtdtd classconfluencetddiv classparadivtdtrtrtd classconfluencetddiv classparab14divtdtd classconfluencetddiv classparadivtdtd classconfluencetddiv classparadivtdtrtrtd rowspan4 classconfluencetddiv classparab2divtdtd classconfluencetd tdtd classconfluencetddiv classparadivtdtd classconfluencetddiv classparadivtdtrtrtd classconfluencetddiv classparab21divtdtd classconfluencetddiv classparadivtdtd classconfluencetddiv classparadivtdtrtrtd classconfluencetddiv classparab22divtdtd classconfluencetddiv classparadivtdtd classconfluencetddiv classparadivtdtrtrtd classconfluencetddiv classparab29divtdtd classconfluencetddiv classparadivtdtd classconfluencetddiv classparadivtdtrtrtd rowspan3 classconfluencetddiv classparab3divtdtd classconfluencetd tdtd classconfluencetddiv classparadivtdtd classconfluencetddiv classparadivtdtrtrtd classconfluencetddiv classparab31divtdtd classconfluencetddiv classparadivtdtd classconfluencetddiv classpara65divtdtrtrtd classconfluencetddiv classparab32divtdtd classconfluencetddiv classparadivtdtd classconfluencetddiv classparadivtdtrtrtd rowspan3 classconfluencetddiv classparab4divtdtd classconfluencetd tdtd classconfluencetddiv classparadivtdtd classconfluencetddiv classparadivtdtrtrtd classconfluencetddiv classparab41divtdtd classconfluencetddiv classparadivtdtd classconfluencetddiv classparadivtdtrtrtd classconfluencetddiv classparab49divtdtd classconfluencetddiv classparadivtdtd classconfluencetddiv classparadivtdtrtrtd classconfluencetddiv classparab9divtdtd classconfluencetd tdtd classconfluencetddiv classparadivtdtd classconfluencetddiv classparadivtdtrtrtd rowspan4 classconfluencetddiv classparamdivdiv classparadivtdtd classconfluencetd tdtd classconfluencetd tdtd classconfluencetddiv classparadivtdtd classconfluencetddiv classparadivtdtrtrtd classconfluencetddiv classparam1divtdtd classconfluencetd tdtd classconfluencetddiv classparadivtdtd classconfluencetddiv classparadivtdtrtrtd classconfluencetddiv classparam2divtdtd classconfluencetd tdtd classconfluencetddiv classparadivtdtd classconfluencetddiv classparadivtdtrtrtd classconfluencetddiv classparam3divtdtd classconfluencetd tdtd classconfluencetddiv classparadivtdtd classconfluencetddiv classparadivtdtrtrtd rowspan4 classconfluencetddiv classparawdivdiv classparadivtdtd classconfluencetd tdtd classconfluencetd tdtd classconfluencetddiv classparadivtdtd classconfluencetddiv classparadivtdtrtrtd classconfluencetddiv classparaw1divtdtd classconfluencetd tdtd classconfluencetddiv classparadivtdtd classconfluencetddiv classparadivtdtrtrtd classconfluencetddiv classparaw2divtdtd classconfluencetd tdtd classconfluencetddiv classparadivtdtd classconfluencetddiv classparadivtdtrtrtd classconfluencetddiv classparaw3divtdtd classconfluencetd tdtd classconfluencetddiv classparadivtdtd classconfluencetddiv classparadivtdtrtrtd rowspan8 classconfluencetddiv classparasdivdiv classparadivtdtd classconfluencetd tdtd classconfluencetd tdtd classconfluencetddiv classparadivtdtd classconfluencetddiv classparadivtdtrtrtd classconfluencetddiv classparas1divtdtd classconfluencetd tdtd classconfluencetddiv classparadivtdtd classconfluencetddiv classparadivtdtrtrtd classconfluencetddiv classparas2divtdtd classconfluencetd tdtd classconfluencetddiv classparadivtdtd classconfluencetddiv classparadivtdtrtrtd classconfluencetddiv classparas3divtdtd classconfluencetd tdtd classconfluencetddiv classparadivtdtd classconfluencetddiv classparadivtdtrtrtd rowspan3 classconfluencetddiv classparas4divtdtd classconfluencetd tdtd classconfluencetddiv classparadivtdtd classconfluencetddiv classparadivtdtrtrtd classconfluencetddiv classparas41divtdtd classconfluencetddiv classparadivtdtd classconfluencetddiv classparadivtdtrtrtd classconfluencetddiv classparas42divtdtd classconfluencetddiv classparadivtdtd classconfluencetddiv classparadivtdtrtrtd classconfluencetddiv classparas9divtdtd classconfluencetd tdtd classconfluencetddiv classparadivtdtd classconfluencetddiv classparadivtdtrtrtd rowspan16 classconfluencetddiv classparaudivdiv classparadivtdtd classconfluencetd tdtd classconfluencetd tdtd classconfluencetddiv classparadivtdtd classconfluencetddiv classparadivtdtrtrtd rowspan7 classconfluencetddiv classparau1divtdtd classconfluencetd tdtd classconfluencetddiv classparadivtdtd classconfluencetddiv classparadivtdtrtrtd classconfluencetddiv classparau11divtdtd classconfluencetddiv classparadivtdtd classconfluencetddiv classparadivtdtrtrtd classconfluencetddiv classparau12divtdtd classconfluencetddiv classparadivtdtd classconfluencetddiv classparadivtdtrtrtd classconfluencetddiv classparau13divtdtd classconfluencetddiv classparadivtdtd classconfluencetddiv classparadivtdtrtrtd classconfluencetddiv classparau14divtdtd classconfluencetddiv classparadivtdtd classconfluencetddiv classparadivtdtrtrtd classconfluencetddiv classparau15divtdtd classconfluencetddiv classparadivtdtd classconfluencetddiv classparadivtdtrtrtd classconfluencetddiv classparau16divtdtd classconfluencetddiv classparadivtdtd classconfluencetddiv classparadivtdtrtrtd rowspan4 classconfluencetddiv classparau2divtdtd classconfluencetd tdtd classconfluencetddiv classparadivtdtd classconfluencetddiv classparadivtdtrtrtd classconfluencetddiv classparau21divtdtd classconfluencetddiv classparadivtdtd classconfluencetddiv classparadivtdtrtrtd classconfluencetddiv classparau22divtdtd classconfluencetddiv classparadivtdtd classconfluencetddiv classparadivtdtrtrtd classconfluencetddiv classparau23divtdtd classconfluencetddiv classparadivtdtd classconfluencetddiv classparadivtdtrtrtd rowspan3 classconfluencetddiv classparau3divtdtd classconfluencetd tdtd classconfluencetddiv classparadivtdtd classconfluencetddiv classparadivtdtrtrtd classconfluencetddiv classparau31divtdtd classconfluencetddiv classparadivtdtd classconfluencetddiv classparadivtdtrtrtd classconfluencetddiv classparau32divtdtd classconfluencetddiv classparadivtdtd classconfluencetddiv classparadivtdtrtrtd classconfluencetddiv classparau9divtdtd classconfluencetd tdtd classconfluencetddiv classparadivtdtd classconfluencetddiv classparadivtdtrtrtd rowspan4 classconfluencetddiv classparagdivdiv classparadivtdtd classconfluencetd tdtd classconfluencetd tdtd classconfluencetddiv classparadivtdtd classconfluencetddiv classparadivtdtrtrtd classconfluencetddiv classparag1divtdtd classconfluencetd tdtd classconfluencetddiv classparadivtdtd classconfluencetddiv classparadivtdtrtrtd classconfluencetddiv classparag2divtdtd classconfluencetd tdtd classconfluencetddiv classparadivtdtd classconfluencetddiv classparadivtdtrtrtd classconfluencetddiv classparag3divtdtd classconfluencetd tdtd classconfluencetddiv classparadivtdtd classconfluencetddiv classparadivdiv classtablewraptable classconfluencetabletbodytrtd classconfluencetddiv classparadivdiv classparacodesdivtdtd classconfluencetddiv classparadivdiv classparachinesedivtdtd classconfluencetddiv classparadivdiv classparaenglishdivtdtrtrtd classconfluencetddiv classparardivtdtd classconfluencetddiv classparadivtdtd classconfluencetddiv classpararesidentialdivtdtrtrtd classconfluencetddiv classparaadivtdtd classconfluencetddiv classparadivtdtd classconfluencetddiv classparaadministration and public servicesdivtdtrtrtd classconfluencetddiv classparabdivtdtd classconfluencetddiv classparadivtdtd classconfluencetddiv classparacommercial and business facilitiesdivtdtrtrtd classconfluencetddiv classparamdivtdtd classconfluencetddiv classparadivtdtd classconfluencetddiv classparaindustrialdivtdtrtrtd classconfluencetddiv classparawdivtdtd classconfluencetddiv classparadivtdtd classconfluencetddiv classparalogistics and warehousedivtdtrtrtd classconfluencetddiv classparasdivtdtd classconfluencetddiv classparadivtdtd classconfluencetddiv classpararoadstreet and transportationdivtdtrtrtd classconfluencetddiv classparaudivtdtd classconfluencetddiv classparadivtdtd classconfluencetddiv classparamunicipal utilitiesdivtdtrtrtd classconfluencetddiv classparagdivtdtd classconfluencetddiv classparadivtdtd classconfluencetddiv classparagreen space and 2a 3a name classtablewraptable classconfluencetabletbodytrth classconfluenceththth classconfluenceththth classconfluenceththtrtrtd classconfluencetdtdtd classconfluencetdspanspantdtrtrtd classconfluencetdtdtd classconfluencetdtdtrtrtd classconfluencetdtdtd classconfluencetdtdtrtrtd colspan1 classconfluencetdtdtd colspan1 colspan1 4 a name 5a 6a name3 3 7a 8a name33 9a name classtablewraptable classconfluencetabletbodytrth classconfluenceth thth classconfluenceththth classconfluenceththth classconfluenceththtrtrtd classconfluencetdtdtd stylecolor rgb102102102spanspan stylecolor rgb102102102spanspan stylecolor stylecolor rgb102102102 spanspan stylecolor rgb102102102spanspan stylecolor stylecolor stylecolor classconfluencetdtdtd stylecolor stylecolor stylecolor stylecolor stylecolor stylecolor classconfluencetdtdtd classconfluencetdspan stylecolor 10a 11a 12a a a 1a span stylecolor span stylecolor span stylecolor span stylecolor span stylecolor span stylecolor span stylecolor span stylecolor span stylecolor classs1 classs1 classs1 classs1 classs1 a 1a 2a 3 a 4 a 5a 6a 7a 8a 9a 10a a 1a 2a 3a 4a 5a 6a 7 2018 a classtablewraptable classconfluencetablecolgroupcol col col col colgrouptbodytrth rowspan2 classconfluenceththth rowspan2 classconfluenceththth colspan2 classconfluenceth2017thth colspan2 classconfluenceth2018thth colspan2 classconfluenceth2019thth colspan2 classconfluenceth2020thth colspan2 classconfluenceth2021thth colspan2 classconfluenceth5thtrtrth classconfluenceththth classconfluenceththth classconfluenceththth classconfluenceththth classconfluenceththth classconfluenceththth classconfluenceththth classconfluenceththth classconfluenceththth classconfluenceththth classconfluenceththth classconfluenceththtrtrtd classconfluencetd1tdtd classconfluencetdtdtd classconfluencetd38tdtd classconfluencetd2271tdtd classconfluencetd41tdtd classconfluencetd2226tdtd classconfluencetd44tdtd classconfluencetd2240tdtd classconfluencetd39tdtd classconfluencetd2251tdtd classconfluencetd41tdtd classconfluencetd2365tdtd classconfluencetd203tdtd classconfluencetd11353tdtrtrtd classconfluencetd2tdtd classconfluencetdtdtd classconfluencetd35tdtd classconfluencetd2213tdtd classconfluencetd30tdtd classconfluencetd2522tdtd classconfluencetd37tdtd classconfluencetd2479tdtd classconfluencetd20tdtd classconfluencetd2452tdtd classconfluencetd17tdtd classconfluencetd2497tdtd classconfluencetd139tdtd classconfluencetd12163tdtrtrtd classconfluencetd3tdtd tdtd classconfluencetd10tdtd classconfluencetd564tdtd classconfluencetd8tdtd classconfluencetd709tdtd classconfluencetd8tdtd classconfluencetd745tdtd classconfluencetd8tdtd classconfluencetd810tdtd classconfluencetd8tdtd classconfluencetd820tdtd classconfluencetd42tdtd classconfluencetd3648tdtrtrtd classconfluencetd4tdtd classconfluencetdtdtd classconfluencetd25tdtd classconfluencetd1810tdtd classconfluencetd28tdtd classconfluencetd1999tdtd classconfluencetd21tdtd classconfluencetd1711tdtd classconfluencetd17tdtd classconfluencetd2071tdtd classconfluencetd21tdtd classconfluencetd1964tdtd classconfluencetd112tdtd classconfluencetd9556tdtrtrtd classconfluencetd5tdtd classconfluencetdtdtd classconfluencetd11tdtd classconfluencetd819tdtd classconfluencetd9tdtd classconfluencetd704tdtd classconfluencetd9tdtd classconfluencetd1184tdtd classconfluencetd5tdtd classconfluencetd925tdtd classconfluencetd7tdtd classconfluencetd975tdtd classconfluencetd41tdtd classconfluencetd4607tdtrtrtd colspan2 classconfluencetdtdtd classconfluencetd119tdtd classconfluencetd7677tdtd classconfluencetd116tdtd classconfluencetd8160tdtd classconfluencetd119tdtd classconfluencetd8359tdtd classconfluencetd89tdtd classconfluencetd8509tdtd classconfluencetd94tdtd classconfluencetd8622tdtd classconfluencetd537tdtd a 1 a 2 a name a name20202020a stylecolor rgb626262span stylecolor stylecolor stylecolor rgb626262 stylecolor stylecolor rgb626262 stylecolor rgb626262 stylecolor rgb626262 a stylecolor stylecolor rgb626262 spanspan stylecolor stylecolor a a 1a 2a 2a a 1a cellpadding0 cellspacing3 tbodytr thth thth thth thth thm2th tr tr td rowspan4td tdtd tdin77abcdetd td258td td207000td tr tr tdtd tdtd td98td td70000td tr tr tdtd td1157td td77td td100000td tr tr tdtd tdtd td179td td130000td tr tr td rowspan7td tdtd tdtd td353td td108000td tr tr tdtd tdtd td1td td180000td tr tr tdtd tdtd td609td td60000td tr tr tdtd tdtd tdtd td66000td tr tr tdtd tdtd td822td td100000td tr tr tdtd tdtd tdtd td120000td tr tr tdtd tdg193td tdtd td63000td tr tr td rowspan8td tdtd tdtd tdtd td70000td tr tr tdtd tdtd td666td td167000td tr tr tdtd tdd32td td306td td80000td tr tr tdtd tdtd td380td td290000td tr tr tdtd tdtd td80td td80000td tr tr tdtd tdtd td458td td88000td tr tr tdtd tdtd tdtd td150000td tr tr tdtd tdtd tdtd td200000td tr tr td rowspan8td tdtd tdtd td1td td210000td tr tr tdtd tdtd tdtd td115000td tr tr tdtd tdtd tdtd td130000td tr tr tdtd tdtd td551td td55500td tr tr tdtd tdtd td77td td65000td tr tr tdtd tdtd tdtd td67500td tr tr tdtd tdtd td588td td52761td tr tr tdtd tdtd td799td td80000td tr tr td rowspan16td td1td tdtd td108td td73000td tr tr td1td tdtd td1826td td60000td tr tr td1td td501td td16td td60000td tr tr td1td tdtd tdtd td224000td tr tr td1td tdtd td228td td116000td tr tr td1td tdtd td45td td100000td tr tr td1td tdtd td8td td50000td tr tr tdtd tdtd tdtd td98000td tr tr tdtd tdtd td560td td101700td tr tr tdtd tdtd tdtd td56686td tr tr tdtd tdtd tdtd td100000td tr tr tdtd tdtd tdtd td100000td tr tr tdtd tdtd td99td td64000td tr tr tdtd tdtd tdtd td104000td tr tr tdtd tdtd tdtd td100000td tr tr tdtd tdtd td350td td80000td tr tr td rowspan5td tdtd tdtd td228td td70000td tr tr tdtd tdtd tdtd td87000td tr tr tdtd tdtd td1515td td147000td tr tr tdtd tdtd tdtd td140000td tr tr tdtd tdtd td817td td60000td tr tr td rowspan7td tdtd tdtd tdtd td60000td tr tr tdtd tdtd td288td td122000td tr tr tdtd tdlsetd td333td td60000td tr tr tdtd tdtd tdtd td60000td tr tr tdtd tdtd td123td td80000td tr tr tdtd tdtd tdtd td104000td tr tr tdtd tdtd tdtd td60000td tr tr td rowspan9td tdtd tdtd td8td td100000td tr tr tdtd tdtd td1888td td140000td tr tr tdtd tdtd tdtd td50000td tr tr tdtd tdtd tdtd td180000td tr tr tdtd tdtd tdtd td110000td tr tr tdtd tdtd tdtd td120000td tr tr tdtd tdtd tdtd td65000td tr tr tdtd tdtd tdtd td100000td tr tr tdtd tdtd tdtd td80000td tr tr td rowspan2td tdtd tdtd tdtd td67000td tr tr tdtd tdtd tdtd td100000td tr 2a 3a 3a a class_2bu9_ueoxsadecu0ejsioydiv classzgxauxmh3ivirva0ki4mzdiv class_1guk2929wy6viubspc2orndiv class_1s_tjxvyjv91adwjzwacx1 _1d4bwrrmnahch1kgqodh9ddiv class_1cvlm7zpcyt7mefr2i0lmt styletextalign 3a 4a 5a 6a 7a 8a a a</th>\n",
       "      <td>0</td>\n",
       "      <td>0</td>\n",
       "      <td>0</td>\n",
       "      <td>0</td>\n",
       "      <td>0</td>\n",
       "      <td>0</td>\n",
       "      <td>0</td>\n",
       "      <td>0</td>\n",
       "      <td>0</td>\n",
       "      <td>0</td>\n",
       "      <td>0</td>\n",
       "      <td>0</td>\n",
       "      <td>0</td>\n",
       "      <td>0</td>\n",
       "      <td>1</td>\n",
       "      <td>0</td>\n",
       "      <td>0</td>\n",
       "    </tr>\n",
       "    <tr>\n",
       "      <th>&amp;#9; &amp;#9; &amp;#9; img width240 altink &amp;#9; &amp;#9; &amp;#9; react for cli build and test your cli output using provides the same componentbased ui building experience that react offer in the browser but for commandline us yoga to build flexbox layout in the terminal so most csslike prop are available in ink a you are already familiar with react you already know ink is a react renderer it mean that all feature of react are over to react website for documentation on how to use ink method will be documented in this this is documentation for ink 3 if youre looking for doc on ink 2 check out this release there also a migration guidemigratemd from ink 2 &amp;#9; &amp;#9; &amp;#9; &amp;#9; &amp;#9; &amp;#9; &amp;#9; &amp;#9; &amp;#9; &amp;#9; a href open source work is supported by the community &amp;#9; &amp;#9; &amp;#9; &amp;#9; &amp;#9; &amp;#9; &amp;#9; supspecial thanks &amp;#9; &amp;#9; &amp;#9; &amp;#9; a &amp;#9; &amp;#9; &amp;#9; &amp;#9; &amp;#9; &amp;#9; &amp;#9; img src width200 &amp;#9; &amp;#9; &amp;#9; &amp;#9; &amp;#9; &amp;#9; byour app &amp;#9; &amp;#9; &amp;#9; &amp;#9; &amp;#9; &amp;#9; &amp;#9; substart selling to enterprise customer with just a few line of &amp;#9; &amp;#9; &amp;#9; &amp;#9; &amp;#9; &amp;#9; &amp;#9; &amp;#9; supadd single signon and more in minute instead of &amp;#9; &amp;#9; &amp;#9; &amp;#9; &amp;#9; &amp;#9; &amp;#9; &amp;#9; install ink react usestate useeffect from render text from counter &amp;#9; const counter setcounter &amp;#9; useeffect &amp;#9; &amp;#9; const timer setinterval &amp;#9; &amp;#9; &amp;#9; setcounterpreviouscounter previouscounter &amp;#9; &amp;#9; &amp;#9; &amp;#9; return &amp;#9; &amp;#9; &amp;#9; &amp;#9; &amp;#9; &amp;#9; &amp;#9; return text colorgreencounter test srcmediademosvg can also check it out live on replit free to play around with the code and fork this repl at who using cloudflares wrangler the cli for cloudflare gatsby gatsby is a modern web framework for blazing fast tap a testanythingprotocol library for terraform cdk cdk cloud development kit for hashicorp twilios signal cli for twilios signal conference blog typewriter generates stronglytyped segment analytics client from arbitrary json prisma the unified data layer for modern wallace pretty cs analytics on the blitz the fullstack react new york time nyt us ink kyt a toolkit that encapsulates and manages the configuration for web tink nextgeneration runtime and package inkle wordle in your loki visual regression testing for bit build distribute and collaborate on remirror your friendly worldclass editor prime open source graphql splash observe the splash zone of a change across the shopifys polaris component emoj find relevant emoji on the emma terminal assistant to find and install npm swiff multienvironment command line tool for timesaving web share quickly share file from your command kubelive cli for kubernetes to provide live data about the cluster and it changelogview tool view changelog in cfpush an interactive cloud foundry tutorial in your startd turn your react component into a web app from the wikicli search wikipedia and read summary directly in your garson build interactive configbased commandline gitcontribcalendar display a contribution calendar for any git gitgud an interactive commandline gui for autarky an interactive cli to find and delete old node_modules directory in order to free up disk fastcli test your download and upload tasuku minimal task mnswpr minesweeper game in your lrn commandline tool for learning by getting using react useful useful getting createinkapp to quickly scaffold a new inkbased create a typescript createinkapp requires the same babel setup a you would do for regular reactbased apps in the up babel with a react preset to ensure all example in this readme work a installing babel install babelpresetreact and insert the following configuration in install savedev &amp;#9; presets &amp;#9; &amp;#9; &amp;#9; &amp;#9; &amp;#9; &amp;#9; &amp;#9; &amp;#9; &amp;#9; &amp;#9; &amp;#9; &amp;#9; &amp;#9; &amp;#9; target &amp;#9; &amp;#9; &amp;#9; &amp;#9; &amp;#9; node &amp;#9; &amp;#9; &amp;#9; &amp;#9; &amp;#9; &amp;#9; &amp;#9; &amp;#9; &amp;#9; &amp;#9; create a file sourcejs where youll type code that us react from render text from demo texthello transpile this file with babel sourcejs o you can run clijs with you dont like transpiling file during development you can use importjsx to require a jsx file and transpile it on the us yoga a flexbox layout engine to build great user interface for your cli using familiar csslike prop youve used when building apps for the important to remember that each element is a flexbox of it a if each div in the browser had display boxbox builtin component below for documentation on how to use flexbox layout in that all text must be wrapped in a texttext component can display text and change it style to make it bold underline italic or render text from example &amp;#9; &amp;#9; &amp;#9; text colorgreeni am &amp;#9; &amp;#9; text colorblack &amp;#9; &amp;#9; &amp;#9; i am black on &amp;#9; &amp;#9; &amp;#9; &amp;#9; text colorffffffi am &amp;#9; &amp;#9; text boldi am &amp;#9; &amp;#9; text italici am &amp;#9; &amp;#9; text underlinei am &amp;#9; &amp;#9; text strikethroughi am &amp;#9; &amp;#9; text inversei am &amp;#9; text allows only text node and nested text component inside of it for example box component cant be used inside text us chalk under the hood so all it functionality is colorrgb232 131 srcmediatextcolorjpg a color above but for backgroundcolorgreen backgroundcolor005cc5 backgroundcolorrgb232 131 136 srcmediatextbackgroundcolorjpg the color emit a small amount of colorred &amp;#9; dimmed srcmediatextdimcolorjpg the text the text the text the text crossed with a background and foreground inverse &amp;#9; inversed srcmediatextinversejpg value wrap truncate truncatestart truncatemiddle property tell ink to wrap or truncate text if it width is larger than wrap is passed by default ink will wrap text and split it into multiple truncate is passed ink will truncate text instead which will result in one line of text with the rest cut &amp;#9; texthello truncate is an alias to &amp;#9; text wraptruncatehello &amp;#9; text wraptruncatemiddlehello &amp;#9; text wraptruncatestarthello is an essential ink component to build your like div styledisplay flex in the render box text from example &amp;#9; box &amp;#9; &amp;#9; textthis is a box with &amp;#9; number of the element in can also set it in percent which will calculate the width based on the width of parent &amp;#9; x &amp;#9; box &amp;#9; &amp;#9; &amp;#9; &amp;#9; x number of the element in line can also set it in percent which will calculate the height based on the height of parent &amp;#9; height6 &amp;#9; box &amp;#9; &amp;#9; &amp;#9; &amp;#9; a minimum width of the arent supported yet see a minimum height of the arent supported yet see padding equivalent to setting paddingleft and padding equivalent to setting paddingtop and on all side equivalent to setting paddingtop paddingbottom paddingleft and paddingx2left and paddingy2top and padding2top bottom left and margin equivalent to setting marginleft and margin equivalent to setting margintop and on all side equivalent to setting margintop marginbottom marginleft and marginx2left and marginy2top and margin2top bottom left and &amp;#9; &amp;#9; box &amp;#9; &amp;#9; textfills all remaining &amp;#9; &amp;#9; box flexshrink2 &amp;#9; &amp;#9; textwill be &amp;#9; &amp;#9; box &amp;#9; &amp;#9; textwill be &amp;#9; number &amp;#9; box &amp;#9; &amp;#9; &amp;#9; &amp;#9; x &amp;#9; box &amp;#9; &amp;#9; &amp;#9; &amp;#9; x value row rowreverse column &amp;#9; box &amp;#9; &amp;#9; &amp;#9; &amp;#9; x &amp;#9; &amp;#9; box &amp;#9; &amp;#9; &amp;#9; y &amp;#9; &amp;#9; &amp;#9; &amp;#9; value flexstart center &amp;#9; box &amp;#9; &amp;#9; &amp;#9; &amp;#9; &amp;#9; &amp;#9; &amp;#9; &amp;#9; &amp;#9; &amp;#9; &amp;#9; &amp;#9; &amp;#9; &amp;#9; &amp;#9; x &amp;#9; box &amp;#9; &amp;#9; &amp;#9; &amp;#9; &amp;#9; &amp;#9; &amp;#9; &amp;#9; &amp;#9; &amp;#9; &amp;#9; &amp;#9; &amp;#9; &amp;#9; &amp;#9; x &amp;#9; box &amp;#9; &amp;#9; &amp;#9; &amp;#9; &amp;#9; &amp;#9; &amp;#9; &amp;#9; &amp;#9; &amp;#9; &amp;#9; &amp;#9; &amp;#9; &amp;#9; &amp;#9; x value auto flexstart center &amp;#9; box &amp;#9; &amp;#9; &amp;#9; &amp;#9; box &amp;#9; &amp;#9; &amp;#9; &amp;#9; box &amp;#9; &amp;#9; &amp;#9; value flexstart center flexend spacebetween &amp;#9; x &amp;#9; x &amp;#9; &amp;#9; &amp;#9; x &amp;#9; &amp;#9; x y value flex this property to none to hide the value single double round bold singledouble doublesingle a border with a specified borderstyle is undefined which it is by default no border will be us border style from cliboxes &amp;#9; &amp;#9; &amp;#9; box borderstylesingle &amp;#9; &amp;#9; &amp;#9; &amp;#9; &amp;#9; &amp;#9; &amp;#9; box borderstyledouble &amp;#9; &amp;#9; &amp;#9; &amp;#9; &amp;#9; &amp;#9; &amp;#9; box borderstyleround &amp;#9; &amp;#9; &amp;#9; &amp;#9; &amp;#9; &amp;#9; &amp;#9; box &amp;#9; &amp;#9; &amp;#9; &amp;#9; &amp;#9; &amp;#9; &amp;#9; box &amp;#9; &amp;#9; box borderstylesingledouble &amp;#9; &amp;#9; &amp;#9; &amp;#9; &amp;#9; &amp;#9; &amp;#9; box borderstyledoublesingle &amp;#9; &amp;#9; &amp;#9; &amp;#9; &amp;#9; &amp;#9; &amp;#9; box &amp;#9; &amp;#9; &amp;#9; &amp;#9; &amp;#9; &amp;#9; srcmediaboxborderstylejpg example in border the same value a colorcolor in text borderstyleround &amp;#9; textgreen rounded srcmediaboxbordercolorjpg one or more newline n be used within text of newlines to render text newline from example &amp;#9; &amp;#9; &amp;#9; text &amp;#9; &amp;#9; newline &amp;#9; &amp;#9; text &amp;#9; flexible space that expands along the major axis of it containing useful a a shortcut for filling all the available space between example using spacer in a box with default flex direction row will position left on the left side and will push right to the right render box text spacer from example &amp;#9; &amp;#9; &amp;#9; &amp;#9; &amp;#9; spacer &amp;#9; &amp;#9; &amp;#9; a vertical flex direction column it will position top to the top of the container and push bottom to the bottom of that container need to be tall to enough to see this in render box text spacer from example &amp;#9; box flexdirectioncolumn &amp;#9; &amp;#9; &amp;#9; &amp;#9; spacer &amp;#9; &amp;#9; &amp;#9; component permanently render it output above everything useful for displaying activity like completed task or log thing not changing after theyre rendered hence the name preferred to use static for use case like these when you cant control the amount of item that need to be example tap us static to list of completed test gatsby us display a list of generated page while still displaying a live progress react usestate useeffect from render static box text from example &amp;#9; const test settests &amp;#9; useeffect &amp;#9; &amp;#9; let completedtests &amp;#9; &amp;#9; let &amp;#9; &amp;#9; const run &amp;#9; &amp;#9; &amp;#9; fake 10 completed &amp;#9; &amp;#9; &amp;#9; if completedtests 10 &amp;#9; &amp;#9; &amp;#9; &amp;#9; settestsprevioustests &amp;#9; &amp;#9; &amp;#9; &amp;#9; &amp;#9; &amp;#9; &amp;#9; &amp;#9; &amp;#9; &amp;#9; &amp;#9; &amp;#9; &amp;#9; &amp;#9; &amp;#9; &amp;#9; id &amp;#9; &amp;#9; &amp;#9; &amp;#9; &amp;#9; &amp;#9; title test previoustestslength &amp;#9; &amp;#9; &amp;#9; &amp;#9; &amp;#9; &amp;#9; &amp;#9; &amp;#9; &amp;#9; &amp;#9; &amp;#9; &amp;#9; &amp;#9; settimeoutrun &amp;#9; &amp;#9; &amp;#9; &amp;#9; &amp;#9; &amp;#9; &amp;#9; &amp;#9; &amp;#9; return &amp;#9; &amp;#9; &amp;#9; &amp;#9; &amp;#9; &amp;#9; &amp;#9; return &amp;#9; &amp;#9; &amp;#9; &amp;#9; &amp;#9; this part will be rendered once to the terminal &amp;#9; &amp;#9; &amp;#9; static &amp;#9; &amp;#9; &amp;#9; &amp;#9; test &amp;#9; &amp;#9; &amp;#9; &amp;#9; &amp;#9; box &amp;#9; &amp;#9; &amp;#9; &amp;#9; &amp;#9; &amp;#9; text colorgreen &amp;#9; &amp;#9; &amp;#9; &amp;#9; &amp;#9; &amp;#9; &amp;#9; &amp;#9; &amp;#9; &amp;#9; &amp;#9; &amp;#9; &amp;#9; &amp;#9; &amp;#9; this part keep updating a state change &amp;#9; &amp;#9; &amp;#9; box &amp;#9; &amp;#9; &amp;#9; &amp;#9; text dimcolorcompleted test &amp;#9; &amp;#9; &amp;#9; &amp;#9; &amp;#9; &amp;#9; static only render new item in item prop and ignores were previously rendered this mean that when you add new item to change you make to previous item will not trigger a examplesstaticexamplesstaticstaticjs for an example usage of static of item of any type to render using a function you pas a a component to apply to a container of child boxbox for supported item stylepadding &amp;#9; that is called to render every item in item argument is an item itself and second argument is index of that item that key must be assigned to the root itemsa b &amp;#9; item index &amp;#9; &amp;#9; this function is called for every item in a b &amp;#9; &amp;#9; item is a b &amp;#9; &amp;#9; index is 0 1 &amp;#9; &amp;#9; return &amp;#9; &amp;#9; &amp;#9; box &amp;#9; &amp;#9; &amp;#9; &amp;#9; textitem &amp;#9; &amp;#9; &amp;#9; &amp;#9; &amp;#9; &amp;#9; a string representation of react component before they are written to example you might want to apply a gradient to text add a clickable link or create some text use case cant accept react node a input they are expecting a what transform component doe it give you an output string of it child component and let you transform it in any transform must be applied only to text child component and shouldnt change the dimension of the output otherwise layout will be render transform from example &amp;#9; transform transformoutput &amp;#9; &amp;#9; texthello &amp;#9; transform function convert all character to upper case final output thats rendered to the terminal will be hello world not hello which transforms child accepts child and must return transformed child of child useinputinputhandler hook is used for handling user a more convenient alternative to using usestdin and listening to data callback you pas to useinput is called for each character when user enters any if user paste text and it more than one character the callback will be called only once and the whole string will be passed a can find a full example of using useinput at useinput from userinput &amp;#9; useinputinput key &amp;#9; &amp;#9; if input q &amp;#9; &amp;#9; &amp;#9; exit &amp;#9; &amp;#9; &amp;#9; &amp;#9; if keyleftarrow &amp;#9; &amp;#9; &amp;#9; left arrow key &amp;#9; &amp;#9; &amp;#9; &amp;#9; return inputhandlerinput handler function that you pas to useinput receives two input that the program information about a key that wa an arrow key wa pressed the corresponding property will be example if user press left arrow key keyleftarrow equal enter key wa key wa key wa key wa key wa key wa key wa page up or page down key wa pressed the corresponding property will be example if user press page down keypagedown equal key wa or disable capturing of user when there are multiple useinput hook used at once to avoid handling the same input several is a react hook which expose a method to manually exit the app unmount the whole ink error if passed waituntilexitwaituntilexit will reject with that useapp from example &amp;#9; const exit &amp;#9; exit the app after 5 &amp;#9; useeffect &amp;#9; &amp;#9; settimeout &amp;#9; &amp;#9; &amp;#9; &amp;#9; &amp;#9; &amp;#9; &amp;#9; return is a react hook which expose stdin stream passed to render in optionsstdin or processstdin by if your app need to handle user usestdin from example &amp;#9; const stdin &amp;#9; return boolean flag determining if the current stdin support component using setrawmode might want to use israwmodesupported to nicely fall back in environment where raw mode is not usestdin from example &amp;#9; const israwmodesupported &amp;#9; return israwmodesupported &amp;#9; &amp;#9; myinputcomponent &amp;#9; &amp;#9; &amp;#9; mycomponentthatdoesntuseinput &amp;#9; expose this function to be able to handle kbdctrlkbdkbdckbd thats why you should use ink setrawmode instead of this function will throw unless the current stdin support setrawmode use israwmodesupportedisrawmodesupported to detect setrawmode usestdin from example &amp;#9; const setrawmode &amp;#9; useeffect &amp;#9; &amp;#9; &amp;#9; &amp;#9; return &amp;#9; &amp;#9; &amp;#9; &amp;#9; &amp;#9; &amp;#9; &amp;#9; return is a react hook which expose stdout stream where ink render your usestdout from example &amp;#9; const stdout &amp;#9; return any string to stdout while preserving ink useful when you want to display some external information outside of ink rendering and ensure there no conflict between the similar to static except it cant accept component it only work with to write to usestdout from example &amp;#9; const write &amp;#9; useeffect &amp;#9; &amp;#9; write a single message to stdout above ink &amp;#9; &amp;#9; writehello from ink to &amp;#9; &amp;#9; return additional usage example in is a react hook which expose stderr usestderr from example &amp;#9; const stderr &amp;#9; return any string to stderr while preserving ink useful when you want to display some external information outside of ink rendering and ensure there no conflict between the similar to static except it cant accept component it only work with to write to usestderr from example &amp;#9; const write &amp;#9; useeffect &amp;#9; &amp;#9; write a single message to stderr above ink &amp;#9; &amp;#9; writehello from ink to &amp;#9; &amp;#9; return that us usefocus hook becomes focusable to ink so when user press kbdtabkbd ink will switch focus to this there are multiple component that execute usefocus hook focus will be given to them in the order that these component are rendered hook return an object with isfocused boolean property which determines if this component is focused or focus this component if there no active focused component right or disable this component focus while still maintaining it position in the list of focusable is useful for input that are temporarily a component focus id which can be used to programmatically focus the component this is useful for large interface with many focusable element to avoid having to cycle through all of render usefocus text from example &amp;#9; const isfocused &amp;#9; return textisfocused i am focused i am not example in examplesusefocusexamplesusefocususefocusjs and hook expose method to enable or disable focus management for all component or manually switch focus to next or previous focus management for all you dont need to call this method manually unless youve disabled focus management focus management is enabled by usefocusmanager from example &amp;#9; const enablefocus &amp;#9; useeffect &amp;#9; &amp;#9; &amp;#9; &amp;#9; return focus management for all active component if there one will lose it usefocusmanager from example &amp;#9; const disablefocus &amp;#9; useeffect &amp;#9; &amp;#9; &amp;#9; &amp;#9; return focus to the next focusable there no active component right now focus will be given to the first focusable active component is the last in the list of focusable component focus will be switched to the first ink call this method when user press usefocusmanager from example &amp;#9; const focusnext &amp;#9; useeffect &amp;#9; &amp;#9; &amp;#9; &amp;#9; return focus to the previous focusable there no active component right now focus will be given to the first focusable active component is the first in the list of focusable component focus will be switched to the last ink call this method when user press usefocusmanager from example &amp;#9; const focusprevious &amp;#9; useeffect &amp;#9; &amp;#9; &amp;#9; &amp;#9; return focus to the component with the given there no component with that id focus will be given to the next focusable usefocusmanager useinput from example &amp;#9; const focus &amp;#9; useinputinput &amp;#9; &amp;#9; if input s &amp;#9; &amp;#9; &amp;#9; focus the component with focus id &amp;#9; &amp;#9; &amp;#9; &amp;#9; &amp;#9; &amp;#9; &amp;#9; return rendertree a component and render the stream where app will be stream where app will listen for whether ink should listen to ctrlc keyboard input and exit the is needed in case processstdin is in raw mode because then ctrlc is ignored by default and process is expected to handle it console method to ensure console output doesnt mix with ink any of console method are called like consolelog ink intercept their output clear main output render output from the console method and then rerenders main output way both are visible and are not overlapping each functionality is powered by patchconsole so if you need to disable ink interception of output but want to build something custom you can use true each update will be rendered a a separate output without replacing the previous is the object that render previous root node with a new one or update prop of the current root update prop of the root rerender rendercounter count1 count2 replace root rerender renderoldcounter unmount the whole ink unmount rendermyapp a promise which resolve when app is unmount waituntilexit rendermyapp waituntilexit resolve after unmount is clear rendermyapp the dimension of a particular box return an object with width and height function is useful when your component need to know the amount of available space it ha you could use it when you need to change the layout based on the length of it measureelement return correct result only after the initial render when layout ha been calculated until then width and height equal to zero it recommended to call measureelement in a useeffect hook which fire after the component ha reference to a box element captured with a ref ref for more information on how to capture render measureelement box text from example &amp;#9; const ref &amp;#9; useeffect &amp;#9; &amp;#9; const width height &amp;#9; &amp;#9; width 100 height &amp;#9; &amp;#9; return &amp;#9; &amp;#9; box &amp;#9; &amp;#9; &amp;#9; box &amp;#9; &amp;#9; &amp;#9; &amp;#9; textthis box will stretch to 100 &amp;#9; &amp;#9; &amp;#9; &amp;#9; &amp;#9; &amp;#9; component are simple to test with a simple example that check how component is react from text from render from test texthello lastframe rendertest hello world out inktestinglibrary for more example and full using react support react devtools enable integration with react devtools in your inkbased cli run it with devtrue environment devtrue start react devtools npx it start up you should see the component tree of your can even inspect and change the prop of component and see the result immediatelly in the cli without restarting you must manually quit your cli via kbdctrlkbdkbdckbd after youre done useful inktextinput text inkspinner inkselectinput select dropdown inklink link inkgradient gradient color inkbigtext awesome text inkimage display image inside the inktab tab inkcolorpipe create color text with simpler style string in inkmultiselect select one or more value from a inkdivider a divider inkprogressbar configurable component for rendering progress inktable table inkascii awesome text component with more font choice based on inkmarkdown render syntax highlighted inkquicksearchinput select component with fast quicksearchlike inkconfirminput yesno confirmation inksyntaxhighlight code syntax inkform form inktasklist task list useful inkusestdoutdimensions subscribe to stdout jestexamplesjestjestjs implementation of basic jest ui live counterexamplescountercounterjs simple counter that increment every 100ms live form with validation manage form state using final bordersexamplesbordersbordersjs add border to box suspenseexamplessuspensesuspensejs use react tableexamplestabletablejs render a table with multiple column and focus managementexamplesusefocususefocusjs use usefocus hook to manage focus between user inputexamplesuseinputuseinputjs listen to user write to stdoutexamplesusestdoutusestdoutjs write to stdout bypassing main ink write to stderrexamplesusestderrusestderrjs write to stderr bypassing main ink staticexamplesstaticstaticjs use static to render permanent child processexamplessubprocessoutput render output from a child vadim sindre</th>\n",
       "      <td>0</td>\n",
       "      <td>0</td>\n",
       "      <td>1</td>\n",
       "      <td>0</td>\n",
       "      <td>0</td>\n",
       "      <td>0</td>\n",
       "      <td>0</td>\n",
       "      <td>0</td>\n",
       "      <td>0</td>\n",
       "      <td>0</td>\n",
       "      <td>0</td>\n",
       "      <td>0</td>\n",
       "      <td>0</td>\n",
       "      <td>0</td>\n",
       "      <td>0</td>\n",
       "      <td>0</td>\n",
       "      <td>0</td>\n",
       "    </tr>\n",
       "    <tr>\n",
       "      <th>1 libmagic extfileinfo see 2 libmbfl extmbstring see 3 pcre2lib 4 extstandard 5 extstandard crypt blowfish 6 7 8 9 libgd extphar portion of tar extpharzipc portion extracted from libbcmath extbcmath see extmbstringucgendat portion based on the ucgendatc from the avifinfo extstandardlibavifinfo see pcre2lib is a library of function to support regular expression whose semantics are a close a possible to those of the perl 5 1000 and above of pcre2 are distributed under the term of the a specified below with one exemption for certain the documentation for pcre2 supplied in the doc distributed under the same term a the software itself the data in directory is not copyrighted and is in the public basic library function are written in c and are freestanding in the distribution is a justintime compiler that can be used pattern matching this is an optional feature that can be omitted library is basic library by philip local part domain of cambridge computing c 19972019 university of right justintime compilation by zoltan local part domain 20102019 zoltan right justintime by zoltan local part domain 20092019 zoltan right bsd and use in source and binary form with or are permitted provided that the following condition are redistribution of source code must retain the above copyright this list of condition and the following redistribution in binary form must reproduce the above notice this list of condition and the following disclaimer in documentation andor other material provided with the neither the name of the university of cambridge nor the name of contributor may be used to endorse or promote product derived from software without specific prior written software is provided by the copyright holder and contributor a any express or implied warranty including but not limited to warranty of merchantability and fitness for a particular disclaimed in no event shall the copyright owner or contributor for any direct indirect incidental special exemplary damage including but not limited to procurement good or service loss of use data or profit or however caused and on any theory of liability whether strict liability or tort including negligence or in any way out of the use of this software even if advised of of such for binary librarylike second condition in the bsd licence covering binary redistribution apply all the way down a chain of software if binary package a it must respect the condition but if package b is software package a the condition is not imposed on package b unless it extstandard libcrypt for c 1994 david right and use in source and binary form with or are permitted provided that the following redistribution of source code must retain the above notice this list of condition and the following redistribution in binary form must reproduce the above notice this list of condition and the following disclaimer in documentation andor other material provided with the neither the name of the author nor the name of other may be used to endorse or promote product derived from this without specific prior written software is provided by the author and contributor a is express or implied warranty including but not limited to warranty of merchantability and fitness for a particular disclaimed in no event shall the author or contributor be any direct indirect incidental special exemplary or including but not limited to procurement of substitute service loss of use data or profit or business caused and on any theory of liability whether in contract or tort including negligence or otherwise arising in any of the use of this software even if advised of the possibility extstandard crypt blowfish crypt_blowfish homepage code come from john the ripper password cracker with crypt3 interface added but optimization specific to by solar designer solar at openwallcom in copyright is claimed and the software is hereby placed in the in case this attempt to disclaim copyright and place the the public domain is deemed null and void then the software c 19982011 solar designer and it is hereby released to public under the following and use in source and binary form with or are absolutely no warranty express or is my intent that you should be able to use this on your part of a software package or anywhere else to improve compatibility or for any other purpose i would if you give credit where it is due and keep your modification public domain a well but i dont require that in order to place this code and any modification you make under a your implementation is mostly compatible with openbsds bcryptc by niels provo provo at citiumichedu and us some of the password hashing algorithm wa designed by david at lcsmitedu for more information on the level of refer to the comment in bf_set_key and to the crypt3 man in the crypt_blowfish a paper on the algorithm that explains it design of the trick in bf_round might be inspired by eric library i cant be sure if i would think of something if seen his following php_mt_ function are based on a c class mtrand j wagner for more information see the web page twister random number generator a c class on code by makoto matsumoto takuji nishimura and shawn j wagner v10 15 may 2003 mersenne twister is an algorithm for generating random number designed with consideration of the flaw in various other period 2199371 and the order of equidistribution 623 far greater the generator is also fast it avoids multiplication and it benefit from cache and pipeline for more the inventor web page at matsumoto and t nishimura mersenne twister a uniform pseudorandom number generator acm transaction and computer simulation vol 8 no 1 january 1998 pp c 1997 2002 makoto matsumoto and takuji c 2000 2003 richard j right and use in source and binary form with or are permitted provided that the following redistribution of source code must retain the above notice this list of condition and the following redistribution in binary form must reproduce the above notice this list of condition and the following disclaimer in documentation andor other material provided with the the name of it contributor may not be used to endorse or product derived from this software without specific prior software is provided by the copyright holder and is and any express or implied warranty including but to the implied warranty of merchantability and fitness particular purpose are disclaimed in no event shall the copyright owner be liable for any direct indirect incidental or consequential damage including but not limited of substitute good or service loss of use data or business interruption however caused and on any theory whether in contract strict liability or tort or otherwise arising in any way out of the use of even if advised of the possibility of such file contains the base code which implement sscanf and by original code is from tcl830 and bear the following software is copyrighted by the regent of the university sun microsystems inc scriptics other party the following term apply to all file the software unless explicitly disclaimed in individual author hereby grant permission to use copy modify license this software and it documentation for any purpose existing copyright notice are retained in all copy and that is included verbatim in any distribution no written or royalty fee is required for any of the authorized to this software may be copyrighted by their need not follow the licensing term described here provided new term are clearly indicated on the first page of each file no event shall the author or distributor be liable to any direct indirect special incidental or consequential out of the use of this software it documentation or thereof even if the author have been advised of of such author and distributor specifically disclaim any but not limited to the implied warranty of for a particular purpose and noninfringement this provided on an a is basis and the author and distributor obligation to provide maintenance support update enhancement use if you are acquiring this software on behalf of government the government shall have only restricted the software and related documentation a defined in the regulation far in clause 5222719 c 2 if acquiring the software on behalf of the department of defense shall be classified a commercial computer software and shall have only restricted right a defined in c 1 of dfars notwithstanding the foregoing grant the u government and others acting in it to use and distribute the software in accordance with specified in this perform natural order comparison of string in c 2000 by martin pool software is provided asis without any express or in no event will the author be held liable for any from the use of this is granted to anyone to use this software for any commercial application and to alter it and redistribute subject to the following the origin of this software must not be misrepresented you must claim that you wrote the original software if you use this in a product an acknowledgment in the product documentation would appreciated but is not altered source version must be plainly marked a such and must not misrepresented a being the original this notice may not be removed or altered from any source of this code are based on berkeley c 1983 regent of the university of california all right and use in source and binary form with or are permitted provided that the following redistribution of source code must retain the above notice this list of condition and the following redistribution in binary form must reproduce the above notice this list of condition and the following disclaimer in documentation andor other material provided with the all advertising material mentioning feature or use of this must display the following product includes software developed by the university berkeley and it neither the name of the university nor the name of it may be used to endorse or promote product derived from this without specific prior written software is provided by the regent and contributor a is express or implied warranty including but not limited to warranty of merchantability and fitness for a particular disclaimed in no event shall the regent or contributor be any direct indirect incidental special exemplary or including but not limited to procurement of substitute service loss of use data or profit or business caused and on any theory of liability whether in contract or tort including negligence or otherwise arising in any of the use of this software even if advised of the possibility c 2002 2006 todd c miller to use copy modify and distribute this software for with or without fee is hereby granted provided that the notice and this permission notice appear in all software is provided a is and the author disclaims all regard to this software including all implied warranty and fitness in no event shall the author be liable special direct indirect or consequential damage or any resulting from loss of use data or profit whether in of contract negligence or other tortious action arising out in connection with the use or performance of this in part by the defense advanced research darpa and air force research laboratory air command usaf under agreement number c 19951998 the apache group all right and use in source and binary form with or are permitted provided that the following redistribution of source code must retain the above notice this list of condition and the following redistribution in binary form must reproduce the above notice this list of condition and the following disclaimer the documentation andor other material provided with all advertising material mentioning feature or use of software must display the following this product includes software developed by the apache for use in the apache http server project the name apache server and apache group must not be used endorse or promote product derived from this software prior written redistribution of any form whatsoever must retain the this product includes software developed by the apache for use in the apache http server project software is provided by the apache group a is and or implied warranty including but not limited to warranty of merchantability and fitness for a are disclaimed in no event shall the apache group contributor be liable for any direct indirect exemplary or consequential damage including limited to procurement of substitute good or of use data or profit or business caused and on any theory of liability whether in liability or tort including negligence or in any way out of the use of this software even if the possibility of such software consists of voluntary contribution made by on behalf of the apache group and wa originally public domain software written at the national center application university of illinois more information on the apache group and the apache http please see code is based on and used with the permission of stdioreplacement strx_ function by panos for c 1998 todd c miller right and use in source and binary form with or are permitted provided that the following redistribution of source code must retain the above notice this list of condition and the following redistribution in binary form must reproduce the above notice this list of condition and the following disclaimer in documentation andor other material provided with the the name of the author may not be used to endorse or promote derived from this software without specific prior written software is provided a is and any express or implied but not limited to the implied warranty of fitness for a particular purpose are disclaimed in no event author be liable for any direct indirect incidental or consequential damage including but not limited of substitute good or service loss of use data or business interruption however caused and on any theory of in contract strict liability or tort including negligence arising in any way out of the use of this software even of the possibility of such libgd portion copyright 1994 1995 1996 1997 1998 1999 2000 2002 2003 2004 by cold spring harbor laboratory funded grant p41rr02188 by the national institute of portion copyright 1996 1997 1998 1999 2000 2001 2002 2004 by boutellcom portion relating to gd2 format copyright 1999 2000 2001 2003 2004 philip portion relating to png copyright 1999 2000 2001 2002 2004 greg portion relating to gdttfc copyright 1999 2000 2001 2003 2004 john ellson portion relating to gdftc copyright 2001 2002 2003 2004 ellson portion copyright 2000 2001 2002 2003 2004 2005 2006 pierrealain joye portion relating to jpeg and to color quantization 2000 2001 2002 2003 2004 doug becker and copyright c 1995 1996 1997 1998 1999 2000 2001 2002 2003 2004 g lane this software is based in part on the work of independent jpeg group see the file readmejpegtxt for portion relating to gif compression copyright 1989 by poskanzer and david rowley with modification for thread by thomas portion relating to gif decompression copyright 1990 1991 by david koblas with modification for thread safety by portion relating to wbmp copyright 2000 2001 2002 2003 maurice szmurlo and johan van den portion relating to gif animation copyright 2004 jaakko ha been granted to copy distribute and modify gd context without fee including a commercial that this notice is present in useraccessible doe not affect your ownership of the derived work the intent is to assure proper credit for the author of to interfere with your productive use of gd if you ask derived work includes all program that library credit must be given in software is provided a is the copyright holder warranty either express or implied including but to implied warranty of merchantability and fitness for purpose with respect to this code and their code doe not appear in the current release wish to thank david koblas david rowley and software corporation for their prior of copyright extphar portion of tar of tar implementation in extphar phar_tar_octal are based on by tim kientzle from libarchive licensed with this copyright c 20032007 tim all right redistribution and use in source and binary form with or modification are permitted provided that the following are 1 redistribution of source code must retain the above notice this list of condition and the following 2 redistribution in binary form must reproduce the above notice this list of condition and the following disclaimer in documentation andor other material provided with the this software is provided by the author a is and any express implied warranty including but not limited to the implied of merchantability and fitness for a particular purpose are in no event shall the author be liable for any direct incidental special exemplary or consequential damage including not limited to procurement of substitute good or service loss of data or profit or business interruption however caused and on theory of liability whether in contract strict liability or including negligence or otherwise arising in any way out of the use this software even if advised of the possibility of such extpharzipc portion extracted from read directory entry local or central clean c 1999 2003 2004 2005 dieter baron and thomas function is part of libzip a library to manipulate zip author can be contacted at and use in source and binary form with or are permitted provided that the following redistribution of source code must retain the above notice this list of condition and the following redistribution in binary form must reproduce the above notice this list of condition and the following disclaimer the documentation andor other material provided with the name of the author may not be used to endorse or product derived from this software without specific written software is provided by the author a is and any implied warranty including but not limited to the of merchantability and fitness for a particular disclaimed in no event shall the author be liable for indirect incidental special exemplary or including but not limited to procurement of or service loss of use data or profit or however caused and on any theory of liability contract strict liability or tort including negligence arising in any way out of the use of this software advised of the possibility of such extmbstringucgendat portion based on the ucgendatc from the openldap public version 28 17 august and use of this software and associated with or without modification are permitted the following condition are redistribution in source form must retain copyright and redistribution in binary form must reproduce applicable statement and notice this list of condition and the disclaimer in the documentation andor other material with the distribution redistribution must contain a verbatim copy of this openldap foundation may revise this license from time to revision is distinguished by a version number you may software under term of this license revision or under of any subsequent revision of the software is provided by the openldap foundation and a is and any expressed or implied but not limited to the implied warranty of fitness for a particular purpose are disclaimed in no the openldap foundation it contributor or the owner of the software be liable for any direct special exemplary or consequential damage not limited to procurement of substitute good or of use data or profit or business interruption and on any theory of liability whether in contract or tort including negligence or otherwise arising way out of the use of this software even if advised of of such name of the author and copyright holder must not be used or otherwise to promote the sale use or other this software without specific written prior permission copyright in this software shall at all time remain with is a registered trademark of the openldap 19992003 the openldap foundation redwood usa all right reserved permission to copy verbatim copy of this document is</th>\n",
       "      <td>0</td>\n",
       "      <td>0</td>\n",
       "      <td>0</td>\n",
       "      <td>0</td>\n",
       "      <td>0</td>\n",
       "      <td>0</td>\n",
       "      <td>1</td>\n",
       "      <td>0</td>\n",
       "      <td>0</td>\n",
       "      <td>0</td>\n",
       "      <td>0</td>\n",
       "      <td>0</td>\n",
       "      <td>0</td>\n",
       "      <td>0</td>\n",
       "      <td>0</td>\n",
       "      <td>0</td>\n",
       "      <td>0</td>\n",
       "    </tr>\n",
       "    <tr>\n",
       "      <th>12306 2710 x 36 x x x x x x 1 2 issue rootpython pip3 install i r root pip3 install i r 1 tensorflow 2 server python3 python python3 runpy python3 runpy python3 runpy python3 runpy sage runpy h positional operate r c cdn t dockerdockercompose docker1809 docker dockercompose1232 dockercompose tickerconfigpyauto_code_typehostauto_code_type3 dockercompose up build dockercompose log docker log follow agency config verify init inter myexception myurllib 4 5 7 8 6 9 355 20180212 g4741g2365g1371g1377g1329 g4741 359 12 6 7 4 4 eb52743573 issue ioerror errno 0 error</th>\n",
       "      <td>0</td>\n",
       "      <td>1</td>\n",
       "      <td>0</td>\n",
       "      <td>0</td>\n",
       "      <td>0</td>\n",
       "      <td>0</td>\n",
       "      <td>0</td>\n",
       "      <td>0</td>\n",
       "      <td>0</td>\n",
       "      <td>0</td>\n",
       "      <td>0</td>\n",
       "      <td>0</td>\n",
       "      <td>0</td>\n",
       "      <td>0</td>\n",
       "      <td>0</td>\n",
       "      <td>0</td>\n",
       "      <td>0</td>\n",
       "    </tr>\n",
       "  </tbody>\n",
       "</table>\n",
       "</div>"
      ],
      "text/plain": [
       "                                                    javascript  python  \\\n",
       "                                                             0       1   \n",
       "&#9; &#9; &#9; &#9; &#9; 3 4 6 3 9 72018 a 1a 2...           0       0   \n",
       "&#9; &#9; &#9; img width240 altink &#9; &#9; &#...           0       0   \n",
       "1 libmagic extfileinfo see 2 libmbfl extmbstrin...           0       0   \n",
       "12306 2710 x 36 x x x x x x 1 2 issue rootpytho...           0       1   \n",
       "\n",
       "                                                    typescript  go  java  \\\n",
       "                                                             0   0     0   \n",
       "&#9; &#9; &#9; &#9; &#9; 3 4 6 3 9 72018 a 1a 2...           0   0     0   \n",
       "&#9; &#9; &#9; img width240 altink &#9; &#9; &#...           1   0     0   \n",
       "1 libmagic extfileinfo see 2 libmbfl extmbstrin...           0   0     0   \n",
       "12306 2710 x 36 x x x x x x 1 2 issue rootpytho...           0   0     0   \n",
       "\n",
       "                                                    c_plus  c  html  shell  \\\n",
       "                                                         0  0     0      0   \n",
       "&#9; &#9; &#9; &#9; &#9; 3 4 6 3 9 72018 a 1a 2...       0  0     0      0   \n",
       "&#9; &#9; &#9; img width240 altink &#9; &#9; &#...       0  0     0      0   \n",
       "1 libmagic extfileinfo see 2 libmbfl extmbstrin...       0  1     0      0   \n",
       "12306 2710 x 36 x x x x x x 1 2 issue rootpytho...       0  0     0      0   \n",
       "\n",
       "                                                    rust  swift  ruby  \\\n",
       "                                                       0      0     0   \n",
       "&#9; &#9; &#9; &#9; &#9; 3 4 6 3 9 72018 a 1a 2...     0      0     0   \n",
       "&#9; &#9; &#9; img width240 altink &#9; &#9; &#...     0      0     0   \n",
       "1 libmagic extfileinfo see 2 libmbfl extmbstrin...     0      0     0   \n",
       "12306 2710 x 36 x x x x x x 1 2 issue rootpytho...     0      0     0   \n",
       "\n",
       "                                                    jupyter  c_sharp  css  \\\n",
       "                                                          0        0    0   \n",
       "&#9; &#9; &#9; &#9; &#9; 3 4 6 3 9 72018 a 1a 2...        0        0    1   \n",
       "&#9; &#9; &#9; img width240 altink &#9; &#9; &#...        0        0    0   \n",
       "1 libmagic extfileinfo see 2 libmbfl extmbstrin...        0        0    0   \n",
       "12306 2710 x 36 x x x x x x 1 2 issue rootpytho...        0        0    0   \n",
       "\n",
       "                                                    kotlin  php  \n",
       "                                                         0    0  \n",
       "&#9; &#9; &#9; &#9; &#9; 3 4 6 3 9 72018 a 1a 2...       0    0  \n",
       "&#9; &#9; &#9; img width240 altink &#9; &#9; &#...       0    0  \n",
       "1 libmagic extfileinfo see 2 libmbfl extmbstrin...       0    0  \n",
       "12306 2710 x 36 x x x x x x 1 2 issue rootpytho...       0    0  "
      ]
     },
     "execution_count": 36,
     "metadata": {},
     "output_type": "execute_result"
    }
   ],
   "source": [
    "word_counts = (pd.concat([javascript_freq, python_freq, typescript_freq, go_freq, java_freq, c_plus_freq, c_freq, html_freq, shell_freq, rust_freq, swift_freq, ruby_freq, jupyter_freq, c_sharp_freq, css_freq, kotlin_freq, php_freq], axis=1, sort=True)\n",
    "                .set_axis(['javascript', 'python', 'typescript', 'go', 'java', 'c_plus', 'c', 'html', 'shell', 'rust', 'swift', 'ruby', 'jupyter', 'c_sharp', 'css', 'kotlin', 'php'], axis=1, inplace=False)\n",
    "                .fillna(0)\n",
    "                .apply(lambda s: s.astype(int)))\n",
    "\n",
    "word_counts.head()"
   ]
  },
  {
   "cell_type": "code",
   "execution_count": null,
   "metadata": {},
   "outputs": [],
   "source": []
  },
  {
   "cell_type": "code",
   "execution_count": null,
   "metadata": {},
   "outputs": [],
   "source": []
  },
  {
   "cell_type": "code",
   "execution_count": null,
   "metadata": {},
   "outputs": [],
   "source": []
  },
  {
   "cell_type": "code",
   "execution_count": null,
   "metadata": {},
   "outputs": [],
   "source": []
  }
 ],
 "metadata": {
  "kernelspec": {
   "display_name": "Python 3.9.12 ('base')",
   "language": "python",
   "name": "python3"
  },
  "language_info": {
   "codemirror_mode": {
    "name": "ipython",
    "version": 3
   },
   "file_extension": ".py",
   "mimetype": "text/x-python",
   "name": "python",
   "nbconvert_exporter": "python",
   "pygments_lexer": "ipython3",
   "version": "3.9.12"
  },
  "orig_nbformat": 4,
  "vscode": {
   "interpreter": {
    "hash": "3067ead486e059ec00ffe7555bdb889e6e264a24dc711bf108106cc7baee8d5d"
   }
  }
 },
 "nbformat": 4,
 "nbformat_minor": 2
}
>>>>>>> e01ded123f4f164f6b8bfb1a49e21eda456a6817
