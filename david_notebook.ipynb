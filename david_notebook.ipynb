{
 "cells": [
  {
   "cell_type": "markdown",
   "metadata": {},
   "source": [
    "# NLP Group Project\n",
    "### David's Personal Notebook"
   ]
  },
  {
   "cell_type": "markdown",
   "metadata": {},
   "source": []
  },
  {
   "cell_type": "code",
   "execution_count": 1,
   "metadata": {},
   "outputs": [],
   "source": [
    "import pandas as pd\n",
    "import numpy as np\n",
    "import os\n",
    "import json\n",
    "import csv\n",
    "import requests\n",
    "\n",
    "import unicodedata\n",
    "import string\n",
    "import time\n",
    "import random\n",
    "from bs4 import BeautifulSoup\n",
    "from requests import get\n",
    "import re\n",
    "\n",
    "from nltk.tokenize import word_tokenize\n",
    "from nltk.corpus import stopwords\n",
    "import matplotlib.pyplot as plt\n",
    "\n",
    "import env\n",
    "import acquire\n",
    "import prepare"
   ]
  },
  {
   "cell_type": "markdown",
   "metadata": {},
   "source": [
    "## Acquire\n",
    "Was not able to acquire dataset utilizing acquire.py due to computational limitations. \\\n",
    "Team member Josh acquired and uploaded the dataset as a csv for our team's convenience."
   ]
  },
  {
   "cell_type": "code",
   "execution_count": 2,
   "metadata": {},
   "outputs": [],
   "source": [
    "# Reading csv into notebook as df\n",
    "df = pd.read_csv('~/codeup/data.csv')"
   ]
  },
  {
   "cell_type": "code",
   "execution_count": 3,
   "metadata": {},
   "outputs": [
    {
     "data": {
      "text/html": [
       "<div>\n",
       "<style scoped>\n",
       "    .dataframe tbody tr th:only-of-type {\n",
       "        vertical-align: middle;\n",
       "    }\n",
       "\n",
       "    .dataframe tbody tr th {\n",
       "        vertical-align: top;\n",
       "    }\n",
       "\n",
       "    .dataframe thead th {\n",
       "        text-align: right;\n",
       "    }\n",
       "</style>\n",
       "<table border=\"1\" class=\"dataframe\">\n",
       "  <thead>\n",
       "    <tr style=\"text-align: right;\">\n",
       "      <th></th>\n",
       "      <th>repo</th>\n",
       "      <th>language</th>\n",
       "      <th>readme_contents</th>\n",
       "    </tr>\n",
       "  </thead>\n",
       "  <tbody>\n",
       "    <tr>\n",
       "      <th>0</th>\n",
       "      <td>freeCodeCamp/freeCodeCamp</td>\n",
       "      <td>TypeScript</td>\n",
       "      <td>[![freeCodeCamp Social Banner](https://s3.amaz...</td>\n",
       "    </tr>\n",
       "    <tr>\n",
       "      <th>1</th>\n",
       "      <td>996icu/996.ICU</td>\n",
       "      <td>NaN</td>\n",
       "      <td>[996.ICU](https://996.icu/#/en_US)\\n=======\\n*...</td>\n",
       "    </tr>\n",
       "    <tr>\n",
       "      <th>2</th>\n",
       "      <td>EbookFoundation/free-programming-books</td>\n",
       "      <td>NaN</td>\n",
       "      <td># List of Free Learning Resources In Many Lang...</td>\n",
       "    </tr>\n",
       "    <tr>\n",
       "      <th>3</th>\n",
       "      <td>jwasham/coding-interview-university</td>\n",
       "      <td>NaN</td>\n",
       "      <td># Coding Interview University\\n\\n&gt; I originall...</td>\n",
       "    </tr>\n",
       "    <tr>\n",
       "      <th>4</th>\n",
       "      <td>kamranahmedse/developer-roadmap</td>\n",
       "      <td>TypeScript</td>\n",
       "      <td>&lt;p align=\"center\"&gt;\\n  &lt;img src=\"public/brand.p...</td>\n",
       "    </tr>\n",
       "  </tbody>\n",
       "</table>\n",
       "</div>"
      ],
      "text/plain": [
       "                                     repo    language  \\\n",
       "0               freeCodeCamp/freeCodeCamp  TypeScript   \n",
       "1                          996icu/996.ICU         NaN   \n",
       "2  EbookFoundation/free-programming-books         NaN   \n",
       "3     jwasham/coding-interview-university         NaN   \n",
       "4         kamranahmedse/developer-roadmap  TypeScript   \n",
       "\n",
       "                                     readme_contents  \n",
       "0  [![freeCodeCamp Social Banner](https://s3.amaz...  \n",
       "1  [996.ICU](https://996.icu/#/en_US)\\n=======\\n*...  \n",
       "2  # List of Free Learning Resources In Many Lang...  \n",
       "3  # Coding Interview University\\n\\n> I originall...  \n",
       "4  <p align=\"center\">\\n  <img src=\"public/brand.p...  "
      ]
     },
     "execution_count": 3,
     "metadata": {},
     "output_type": "execute_result"
    }
   ],
   "source": [
    "df.head()"
   ]
  },
  {
   "cell_type": "code",
   "execution_count": 4,
   "metadata": {},
   "outputs": [
    {
     "data": {
      "text/plain": [
       "(1031, 3)"
      ]
     },
     "execution_count": 4,
     "metadata": {},
     "output_type": "execute_result"
    }
   ],
   "source": [
    "df.shape"
   ]
  },
  {
   "cell_type": "code",
   "execution_count": 5,
   "metadata": {},
   "outputs": [
    {
     "name": "stdout",
     "output_type": "stream",
     "text": [
      "<class 'pandas.core.frame.DataFrame'>\n",
      "RangeIndex: 1031 entries, 0 to 1030\n",
      "Data columns (total 3 columns):\n",
      " #   Column           Non-Null Count  Dtype \n",
      "---  ------           --------------  ----- \n",
      " 0   repo             1031 non-null   object\n",
      " 1   language         917 non-null    object\n",
      " 2   readme_contents  1027 non-null   object\n",
      "dtypes: object(3)\n",
      "memory usage: 24.3+ KB\n"
     ]
    }
   ],
   "source": [
    "df.info()"
   ]
  },
  {
   "cell_type": "markdown",
   "metadata": {},
   "source": [
    "## Prepare"
   ]
  },
  {
   "cell_type": "code",
   "execution_count": 6,
   "metadata": {},
   "outputs": [
    {
     "data": {
      "text/plain": [
       "False    917\n",
       "True     114\n",
       "Name: language, dtype: int64"
      ]
     },
     "execution_count": 6,
     "metadata": {},
     "output_type": "execute_result"
    }
   ],
   "source": [
    "df.language.isnull().value_counts()"
   ]
  },
  {
   "cell_type": "code",
   "execution_count": 7,
   "metadata": {},
   "outputs": [],
   "source": [
    "# Team concludes languages that are null be labeled \"English\"\n",
    "df.language = df.language.fillna('English')"
   ]
  },
  {
   "cell_type": "code",
   "execution_count": 8,
   "metadata": {},
   "outputs": [
    {
     "data": {
      "text/plain": [
       "JavaScript          232\n",
       "Python              114\n",
       "English             114\n",
       "TypeScript          110\n",
       "Go                   78\n",
       "Java                 70\n",
       "C++                  56\n",
       "C                    30\n",
       "HTML                 23\n",
       "Shell                22\n",
       "Rust                 21\n",
       "Swift                18\n",
       "Ruby                 18\n",
       "Jupyter Notebook     14\n",
       "PHP                  14\n",
       "C#                   13\n",
       "Kotlin               12\n",
       "CSS                  12\n",
       "Vue                   8\n",
       "Objective-C           5\n",
       "Lua                   4\n",
       "Dart                  4\n",
       "Vim script            3\n",
       "Haskell               3\n",
       "Markdown              3\n",
       "SCSS                  3\n",
       "TeX                   3\n",
       "Elixir                2\n",
       "Vim Script            2\n",
       "Clojure               2\n",
       "Makefile              2\n",
       "Zig                   1\n",
       "Emacs Lisp            1\n",
       "OCaml                 1\n",
       "Julia                 1\n",
       "CoffeeScript          1\n",
       "Objective-C++         1\n",
       "AsciiDoc              1\n",
       "Nunjucks              1\n",
       "Batchfile             1\n",
       "Scala                 1\n",
       "Jinja                 1\n",
       "Roff                  1\n",
       "Dockerfile            1\n",
       "Assembly              1\n",
       "V                     1\n",
       "Standard ML           1\n",
       "Name: language, dtype: int64"
      ]
     },
     "execution_count": 8,
     "metadata": {},
     "output_type": "execute_result"
    }
   ],
   "source": [
    "df.language.value_counts()"
   ]
  },
  {
   "cell_type": "code",
   "execution_count": 9,
   "metadata": {},
   "outputs": [
    {
     "data": {
      "text/plain": [
       "repo               0\n",
       "language           0\n",
       "readme_contents    4\n",
       "dtype: int64"
      ]
     },
     "execution_count": 9,
     "metadata": {},
     "output_type": "execute_result"
    }
   ],
   "source": [
    "df.isnull().sum()"
   ]
  },
  {
   "cell_type": "markdown",
   "metadata": {},
   "source": [
    "Number of nulls in readme_contents is negligable. Thus, I'll drop these rows."
   ]
  },
  {
   "cell_type": "code",
   "execution_count": 10,
   "metadata": {},
   "outputs": [],
   "source": [
    "# Dropping 4 null rows\n",
    "df = df.dropna()"
   ]
  },
  {
   "cell_type": "code",
   "execution_count": 11,
   "metadata": {},
   "outputs": [
    {
     "data": {
      "text/plain": [
       "repo               0\n",
       "language           0\n",
       "readme_contents    0\n",
       "dtype: int64"
      ]
     },
     "execution_count": 11,
     "metadata": {},
     "output_type": "execute_result"
    }
   ],
   "source": [
    "df.isnull().sum()"
   ]
  },
  {
   "cell_type": "markdown",
   "metadata": {},
   "source": [
    "In order to avoid data imbalance, we limit languages to those who have at least 10 repo instances within our dataset."
   ]
  },
  {
   "cell_type": "code",
   "execution_count": 12,
   "metadata": {},
   "outputs": [],
   "source": [
    "# determining remaining list of languages\n",
    "languages_kept = df.language.value_counts()[df.language.value_counts() > 10].index"
   ]
  },
  {
   "cell_type": "code",
   "execution_count": 13,
   "metadata": {},
   "outputs": [
    {
     "data": {
      "text/plain": [
       "Index(['JavaScript', 'Python', 'English', 'TypeScript', 'Go', 'Java', 'C++',\n",
       "       'C', 'HTML', 'Shell', 'Rust', 'Swift', 'Ruby', 'Jupyter Notebook',\n",
       "       'PHP', 'C#', 'Kotlin', 'CSS'],\n",
       "      dtype='object')"
      ]
     },
     "execution_count": 13,
     "metadata": {},
     "output_type": "execute_result"
    }
   ],
   "source": [
    "languages_kept"
   ]
  },
  {
   "cell_type": "code",
   "execution_count": 14,
   "metadata": {},
   "outputs": [],
   "source": [
    "# Removing languages not kept\n",
    "df = df[df.language.isin(languages_kept)]"
   ]
  },
  {
   "cell_type": "code",
   "execution_count": 15,
   "metadata": {},
   "outputs": [
    {
     "name": "stdout",
     "output_type": "stream",
     "text": [
      "<class 'pandas.core.frame.DataFrame'>\n",
      "Int64Index: 967 entries, 0 to 1030\n",
      "Data columns (total 3 columns):\n",
      " #   Column           Non-Null Count  Dtype \n",
      "---  ------           --------------  ----- \n",
      " 0   repo             967 non-null    object\n",
      " 1   language         967 non-null    object\n",
      " 2   readme_contents  967 non-null    object\n",
      "dtypes: object(3)\n",
      "memory usage: 30.2+ KB\n"
     ]
    }
   ],
   "source": [
    "df.info()"
   ]
  },
  {
   "cell_type": "code",
   "execution_count": 16,
   "metadata": {},
   "outputs": [],
   "source": [
    "df['readme_contents'] =  df['readme_contents'].astype('string')"
   ]
  },
  {
   "cell_type": "code",
   "execution_count": 17,
   "metadata": {},
   "outputs": [
    {
     "data": {
      "text/html": [
       "<div>\n",
       "<style scoped>\n",
       "    .dataframe tbody tr th:only-of-type {\n",
       "        vertical-align: middle;\n",
       "    }\n",
       "\n",
       "    .dataframe tbody tr th {\n",
       "        vertical-align: top;\n",
       "    }\n",
       "\n",
       "    .dataframe thead th {\n",
       "        text-align: right;\n",
       "    }\n",
       "</style>\n",
       "<table border=\"1\" class=\"dataframe\">\n",
       "  <thead>\n",
       "    <tr style=\"text-align: right;\">\n",
       "      <th></th>\n",
       "      <th>repo</th>\n",
       "      <th>language</th>\n",
       "      <th>readme_contents</th>\n",
       "    </tr>\n",
       "  </thead>\n",
       "  <tbody>\n",
       "    <tr>\n",
       "      <th>0</th>\n",
       "      <td>freeCodeCamp/freeCodeCamp</td>\n",
       "      <td>TypeScript</td>\n",
       "      <td>[![freeCodeCamp Social Banner](https://s3.amaz...</td>\n",
       "    </tr>\n",
       "    <tr>\n",
       "      <th>1</th>\n",
       "      <td>996icu/996.ICU</td>\n",
       "      <td>English</td>\n",
       "      <td>[996.ICU](https://996.icu/#/en_US)\n",
       "=======\n",
       "**P...</td>\n",
       "    </tr>\n",
       "    <tr>\n",
       "      <th>2</th>\n",
       "      <td>EbookFoundation/free-programming-books</td>\n",
       "      <td>English</td>\n",
       "      <td># List of Free Learning Resources In Many Lang...</td>\n",
       "    </tr>\n",
       "    <tr>\n",
       "      <th>3</th>\n",
       "      <td>jwasham/coding-interview-university</td>\n",
       "      <td>English</td>\n",
       "      <td># Coding Interview University\n",
       "\n",
       "&gt; I originally ...</td>\n",
       "    </tr>\n",
       "    <tr>\n",
       "      <th>4</th>\n",
       "      <td>kamranahmedse/developer-roadmap</td>\n",
       "      <td>TypeScript</td>\n",
       "      <td>&lt;p align=\"center\"&gt;\n",
       "  &lt;img src=\"public/brand.pn...</td>\n",
       "    </tr>\n",
       "  </tbody>\n",
       "</table>\n",
       "</div>"
      ],
      "text/plain": [
       "                                     repo    language  \\\n",
       "0               freeCodeCamp/freeCodeCamp  TypeScript   \n",
       "1                          996icu/996.ICU     English   \n",
       "2  EbookFoundation/free-programming-books     English   \n",
       "3     jwasham/coding-interview-university     English   \n",
       "4         kamranahmedse/developer-roadmap  TypeScript   \n",
       "\n",
       "                                     readme_contents  \n",
       "0  [![freeCodeCamp Social Banner](https://s3.amaz...  \n",
       "1  [996.ICU](https://996.icu/#/en_US)\n",
       "=======\n",
       "**P...  \n",
       "2  # List of Free Learning Resources In Many Lang...  \n",
       "3  # Coding Interview University\n",
       "\n",
       "> I originally ...  \n",
       "4  <p align=\"center\">\n",
       "  <img src=\"public/brand.pn...  "
      ]
     },
     "execution_count": 17,
     "metadata": {},
     "output_type": "execute_result"
    }
   ],
   "source": [
    "df.head()"
   ]
  },
  {
   "cell_type": "code",
   "execution_count": 18,
   "metadata": {},
   "outputs": [],
   "source": [
    "test_clean = df['readme_contents'].map(lambda x: prepare.basic_clean(x))"
   ]
  },
  {
   "cell_type": "code",
   "execution_count": 19,
   "metadata": {},
   "outputs": [
    {
     "data": {
      "text/plain": [
       "0"
      ]
     },
     "execution_count": 19,
     "metadata": {},
     "output_type": "execute_result"
    }
   ],
   "source": [
    "test_clean.isnull().sum()"
   ]
  },
  {
   "cell_type": "markdown",
   "metadata": {},
   "source": [
    "Below, I utilize our prepare.py in order to clean, tokenize, and stem our `readme_contents` "
   ]
  },
  {
   "cell_type": "code",
   "execution_count": 20,
   "metadata": {},
   "outputs": [],
   "source": [
    "df['readme_contents'] = df['readme_contents'].map(lambda x: prepare.basic_clean(x))"
   ]
  },
  {
   "cell_type": "code",
   "execution_count": 21,
   "metadata": {},
   "outputs": [],
   "source": [
    "df['readme_contents'] = df['readme_contents'].map(lambda x: prepare.tokenize(x))"
   ]
  },
  {
   "cell_type": "code",
   "execution_count": 22,
   "metadata": {},
   "outputs": [],
   "source": [
    "df['stemmed'] = df['readme_contents'].map(lambda x: prepare.stem(x))"
   ]
  },
  {
   "cell_type": "code",
   "execution_count": 23,
   "metadata": {},
   "outputs": [],
   "source": [
    "df['lemma'] = df['readme_contents'].map(lambda x: prepare.lemmatize(x))"
   ]
  },
  {
   "cell_type": "code",
   "execution_count": 24,
   "metadata": {},
   "outputs": [
    {
     "name": "stdout",
     "output_type": "stream",
     "text": [
      "<class 'pandas.core.frame.DataFrame'>\n",
      "Int64Index: 967 entries, 0 to 1030\n",
      "Data columns (total 5 columns):\n",
      " #   Column           Non-Null Count  Dtype \n",
      "---  ------           --------------  ----- \n",
      " 0   repo             967 non-null    object\n",
      " 1   language         967 non-null    object\n",
      " 2   readme_contents  967 non-null    object\n",
      " 3   stemmed          967 non-null    object\n",
      " 4   lemma            967 non-null    object\n",
      "dtypes: object(5)\n",
      "memory usage: 45.3+ KB\n"
     ]
    }
   ],
   "source": [
    "df.info()"
   ]
  },
  {
   "cell_type": "code",
   "execution_count": 25,
   "metadata": {},
   "outputs": [
    {
     "data": {
      "text/html": [
       "<div>\n",
       "<style scoped>\n",
       "    .dataframe tbody tr th:only-of-type {\n",
       "        vertical-align: middle;\n",
       "    }\n",
       "\n",
       "    .dataframe tbody tr th {\n",
       "        vertical-align: top;\n",
       "    }\n",
       "\n",
       "    .dataframe thead th {\n",
       "        text-align: right;\n",
       "    }\n",
       "</style>\n",
       "<table border=\"1\" class=\"dataframe\">\n",
       "  <thead>\n",
       "    <tr style=\"text-align: right;\">\n",
       "      <th></th>\n",
       "      <th>repo</th>\n",
       "      <th>language</th>\n",
       "      <th>readme_contents</th>\n",
       "      <th>stemmed</th>\n",
       "      <th>lemma</th>\n",
       "    </tr>\n",
       "  </thead>\n",
       "  <tbody>\n",
       "    <tr>\n",
       "      <th>0</th>\n",
       "      <td>freeCodeCamp/freeCodeCamp</td>\n",
       "      <td>TypeScript</td>\n",
       "      <td>freecodecamp social requests source freecodeca...</td>\n",
       "      <td>freecodecamp social request sourc freecodecamp...</td>\n",
       "      <td>freecodecamp social request source freecodecam...</td>\n",
       "    </tr>\n",
       "    <tr>\n",
       "      <th>1</th>\n",
       "      <td>996icu/996.ICU</td>\n",
       "      <td>English</td>\n",
       "      <td>note that there exists no other official accou...</td>\n",
       "      <td>note that there exist no other offici account ...</td>\n",
       "      <td>note that there exists no other official accou...</td>\n",
       "    </tr>\n",
       "    <tr>\n",
       "      <th>2</th>\n",
       "      <td>EbookFoundation/free-programming-books</td>\n",
       "      <td>English</td>\n",
       "      <td>list of free learning resources in many alignc...</td>\n",
       "      <td>list of free learn resourc in mani aligncent c...</td>\n",
       "      <td>list of free learning resource in many alignce...</td>\n",
       "    </tr>\n",
       "    <tr>\n",
       "      <th>3</th>\n",
       "      <td>jwasham/coding-interview-university</td>\n",
       "      <td>English</td>\n",
       "      <td>coding interview i originally created this as ...</td>\n",
       "      <td>code interview i origin creat thi as a short t...</td>\n",
       "      <td>coding interview i originally created this a a...</td>\n",
       "    </tr>\n",
       "    <tr>\n",
       "      <th>4</th>\n",
       "      <td>kamranahmedse/developer-roadmap</td>\n",
       "      <td>TypeScript</td>\n",
       "      <td>p img srcpublicbrandpng h2 p aligncentercommun...</td>\n",
       "      <td>p img srcpublicbrandpng h2 p aligncentercommun...</td>\n",
       "      <td>p img srcpublicbrandpng h2 p aligncentercommun...</td>\n",
       "    </tr>\n",
       "  </tbody>\n",
       "</table>\n",
       "</div>"
      ],
      "text/plain": [
       "                                     repo    language  \\\n",
       "0               freeCodeCamp/freeCodeCamp  TypeScript   \n",
       "1                          996icu/996.ICU     English   \n",
       "2  EbookFoundation/free-programming-books     English   \n",
       "3     jwasham/coding-interview-university     English   \n",
       "4         kamranahmedse/developer-roadmap  TypeScript   \n",
       "\n",
       "                                     readme_contents  \\\n",
       "0  freecodecamp social requests source freecodeca...   \n",
       "1  note that there exists no other official accou...   \n",
       "2  list of free learning resources in many alignc...   \n",
       "3  coding interview i originally created this as ...   \n",
       "4  p img srcpublicbrandpng h2 p aligncentercommun...   \n",
       "\n",
       "                                             stemmed  \\\n",
       "0  freecodecamp social request sourc freecodecamp...   \n",
       "1  note that there exist no other offici account ...   \n",
       "2  list of free learn resourc in mani aligncent c...   \n",
       "3  code interview i origin creat thi as a short t...   \n",
       "4  p img srcpublicbrandpng h2 p aligncentercommun...   \n",
       "\n",
       "                                               lemma  \n",
       "0  freecodecamp social request source freecodecam...  \n",
       "1  note that there exists no other official accou...  \n",
       "2  list of free learning resource in many alignce...  \n",
       "3  coding interview i originally created this a a...  \n",
       "4  p img srcpublicbrandpng h2 p aligncentercommun...  "
      ]
     },
     "execution_count": 25,
     "metadata": {},
     "output_type": "execute_result"
    }
   ],
   "source": [
    "df.head()"
   ]
  },
  {
   "cell_type": "code",
   "execution_count": 26,
   "metadata": {},
   "outputs": [
    {
     "data": {
      "text/plain": [
       "JavaScript          232\n",
       "Python              114\n",
       "English             114\n",
       "TypeScript          109\n",
       "Go                   76\n",
       "Java                 70\n",
       "C++                  55\n",
       "C                    30\n",
       "HTML                 23\n",
       "Shell                22\n",
       "Rust                 21\n",
       "Ruby                 18\n",
       "Swift                18\n",
       "PHP                  14\n",
       "Jupyter Notebook     14\n",
       "C#                   13\n",
       "CSS                  12\n",
       "Kotlin               12\n",
       "Name: language, dtype: int64"
      ]
     },
     "execution_count": 26,
     "metadata": {},
     "output_type": "execute_result"
    }
   ],
   "source": [
    "df.language.value_counts()"
   ]
  },
  {
   "cell_type": "code",
   "execution_count": 27,
   "metadata": {},
   "outputs": [],
   "source": [
    "df_explore = df"
   ]
  },
  {
   "cell_type": "code",
   "execution_count": 28,
   "metadata": {},
   "outputs": [
    {
     "data": {
      "text/plain": [
       "(967, 5)"
      ]
     },
     "execution_count": 28,
     "metadata": {},
     "output_type": "execute_result"
    }
   ],
   "source": [
    "df_explore.shape"
   ]
  },
  {
   "cell_type": "code",
   "execution_count": 29,
   "metadata": {},
   "outputs": [],
   "source": [
    "df_explore['language'] =  df_explore['language'].astype('string')"
   ]
  },
  {
   "cell_type": "code",
   "execution_count": 30,
   "metadata": {},
   "outputs": [
    {
     "name": "stdout",
     "output_type": "stream",
     "text": [
      "<class 'pandas.core.frame.DataFrame'>\n",
      "Int64Index: 967 entries, 0 to 1030\n",
      "Data columns (total 5 columns):\n",
      " #   Column           Non-Null Count  Dtype \n",
      "---  ------           --------------  ----- \n",
      " 0   repo             967 non-null    object\n",
      " 1   language         967 non-null    string\n",
      " 2   readme_contents  967 non-null    object\n",
      " 3   stemmed          967 non-null    object\n",
      " 4   lemma            967 non-null    object\n",
      "dtypes: object(4), string(1)\n",
      "memory usage: 45.3+ KB\n"
     ]
    }
   ],
   "source": [
    "df_explore.info()"
   ]
  },
  {
   "cell_type": "code",
   "execution_count": 31,
   "metadata": {},
   "outputs": [
    {
     "data": {
      "text/plain": [
       "JavaScript          232\n",
       "Python              114\n",
       "English             114\n",
       "TypeScript          109\n",
       "Go                   76\n",
       "Java                 70\n",
       "C++                  55\n",
       "C                    30\n",
       "HTML                 23\n",
       "Shell                22\n",
       "Rust                 21\n",
       "Ruby                 18\n",
       "Swift                18\n",
       "PHP                  14\n",
       "Jupyter Notebook     14\n",
       "C#                   13\n",
       "CSS                  12\n",
       "Kotlin               12\n",
       "Name: language, dtype: Int64"
      ]
     },
     "execution_count": 31,
     "metadata": {},
     "output_type": "execute_result"
    }
   ],
   "source": [
    "df_explore.language.value_counts()"
   ]
  },
  {
   "cell_type": "code",
   "execution_count": 32,
   "metadata": {},
   "outputs": [
    {
     "data": {
      "text/plain": [
       "0       freecodecamp social request source freecodecam...\n",
       "1       note that there exists no other official accou...\n",
       "2       list of free learning resource in many alignce...\n",
       "3       coding interview i originally created this a a...\n",
       "4       p img srcpublicbrandpng h2 p aligncentercommun...\n",
       "                              ...                        \n",
       "1026    a href src join the the tiny version of gfwlis...\n",
       "1027    microsoft rest api microsoft rest api guidelin...\n",
       "1028    the chat at version license build status cover...\n",
       "1029    mpv external system release bug external is a ...\n",
       "1030    div width400px height100px width400px height10...\n",
       "Name: lemma, Length: 967, dtype: object"
      ]
     },
     "execution_count": 32,
     "metadata": {},
     "output_type": "execute_result"
    }
   ],
   "source": [
    "df_explore.lemma"
   ]
  },
  {
   "cell_type": "markdown",
   "metadata": {},
   "source": []
  },
  {
   "cell_type": "code",
   "execution_count": null,
   "metadata": {},
   "outputs": [],
   "source": []
  },
  {
   "cell_type": "code",
   "execution_count": null,
   "metadata": {},
   "outputs": [],
   "source": []
  },
  {
   "cell_type": "code",
   "execution_count": 33,
   "metadata": {},
   "outputs": [],
   "source": [
    "def get_word_freq(document, max=None, min=None):\n",
    "    if type(document) != str:\n",
    "        document = ' '.join(document)\n",
    "    bag =  document.split(' ')\n",
    "    series = pd.Series(bag)\n",
    "    vc = series.value_counts()\n",
    "    if max:\n",
    "        vc = vc[vc <= max]\n",
    "    if min:\n",
    "        vc = vc[vc >= min]\n",
    "    return vc\n"
   ]
  },
  {
   "cell_type": "code",
   "execution_count": 34,
   "metadata": {},
   "outputs": [
    {
     "data": {
      "text/plain": [
       "JavaScript          232\n",
       "Python              114\n",
       "English             114\n",
       "TypeScript          109\n",
       "Go                   76\n",
       "Java                 70\n",
       "C++                  55\n",
       "C                    30\n",
       "HTML                 23\n",
       "Shell                22\n",
       "Rust                 21\n",
       "Ruby                 18\n",
       "Swift                18\n",
       "PHP                  14\n",
       "Jupyter Notebook     14\n",
       "C#                   13\n",
       "CSS                  12\n",
       "Kotlin               12\n",
       "Name: language, dtype: Int64"
      ]
     },
     "execution_count": 34,
     "metadata": {},
     "output_type": "execute_result"
    }
   ],
   "source": [
    "df_explore.language.value_counts()"
   ]
  },
  {
   "cell_type": "code",
   "execution_count": 35,
   "metadata": {},
   "outputs": [],
   "source": [
    "javascript_words = (' '.join(df_explore[df_explore.language == 'JavaScript']['lemma']))\n",
    "python_words = (' '.join(df_explore[df_explore.language == 'Python']['lemma']))\n",
    "english_words = (' '.join(df_explore[df_explore.language == 'English']['lemma']))\n",
    "typescript_words = (' '.join(df_explore[df_explore.language == 'TypeScript']['lemma']))\n",
    "go_words = (' '.join(df_explore[df_explore.language == 'Go']['lemma']))\n",
    "java_words = (' '.join(df_explore[df_explore.language == 'Java']['lemma']))\n",
    "c_plus_words = (' '.join(df_explore[df_explore.language == 'C++']['lemma']))\n",
    "c_words = (' '.join(df_explore[df_explore.language == 'C']['lemma']))\n",
    "html_words = (' '.join(df_explore[df_explore.language == 'HTML']['lemma']))\n",
    "shell_words = (' '.join(df_explore[df_explore.language == 'Shell']['lemma']))\n",
    "rust_words = (' '.join(df_explore[df_explore.language == 'Rust']['lemma']))\n",
    "swift_words = (' '.join(df_explore[df_explore.language == 'Ruby']['lemma']))\n",
    "ruby_words = (' '.join(df_explore[df_explore.language == 'Swift']['lemma']))\n",
    "jupyter_words = (' '.join(df_explore[df_explore.language == 'PHP']['lemma']))\n",
    "c_sharp_words = (' '.join(df_explore[df_explore.language == 'Jupyter Notebook']['lemma']))\n",
    "css_words = (' '.join(df_explore[df_explore.language == 'C#']['lemma']))\n",
    "kotlin_words = (' '.join(df_explore[df_explore.language == 'CSS']['lemma']))\n",
    "php_words = (' '.join(df_explore[df_explore.language == 'Kotlin']['lemma']))"
   ]
  },
  {
   "cell_type": "code",
   "execution_count": 36,
   "metadata": {},
   "outputs": [],
   "source": [
    "javascript_words = list(javascript_words.split(' '))\n",
    "python_words = list(python_words.split(' '))\n",
    "english_words = list(english_words.split(' '))\n",
    "typescript_words = list(typescript_words.split(' '))\n",
    "go_words = list(go_words.split(' '))\n",
    "java_words = list(java_words.split(' '))\n",
    "c_plus_words = list(c_plus_words.split(' '))\n",
    "c_words = list(c_words.split(' '))\n",
    "html_words = list(html_words.split(' '))\n",
    "shell_words = list(shell_words.split(' '))\n",
    "rust_words = list(rust_words.split(' '))\n",
    "swift_words = list(swift_words.split(' '))\n",
    "ruby_words = list(ruby_words.split(' '))\n",
    "jupyter_words = list(jupyter_words.split(' '))\n",
    "c_sharp_words = list(c_sharp_words.split(' '))\n",
    "css_words = list(css_words.split(' '))\n",
    "kotlin_words = list(kotlin_words.split(' '))\n",
    "php_words = list(php_words.split(' '))"
   ]
  },
  {
   "cell_type": "code",
   "execution_count": 37,
   "metadata": {},
   "outputs": [],
   "source": [
    "# python_words = list(python_words.split(' '))"
   ]
  },
  {
   "cell_type": "code",
   "execution_count": 38,
   "metadata": {},
   "outputs": [],
   "source": [
    "javascript_freq = pd.Series(javascript_words).value_counts()\n",
    "python_freq = pd.Series(python_words).value_counts()\n",
    "typescript_freq = pd.Series(typescript_words).value_counts()\n",
    "go_freq = pd.Series(go_words).value_counts()\n",
    "java_freq = pd.Series(java_words).value_counts()\n",
    "c_plus_freq = pd.Series(c_plus_words).value_counts()\n",
    "c_freq = pd.Series(c_words).value_counts()\n",
    "html_freq = pd.Series(html_words).value_counts()\n",
    "shell_freq = pd.Series(shell_words).value_counts()\n",
    "rust_freq = pd.Series(rust_words).value_counts()\n",
    "swift_freq = pd.Series(swift_words).value_counts()\n",
    "ruby_freq = pd.Series(ruby_words).value_counts()\n",
    "jupyter_freq = pd.Series(jupyter_words).value_counts()\n",
    "c_sharp_freq = pd.Series(c_sharp_words).value_counts()\n",
    "css_freq = pd.Series(css_words).value_counts()\n",
    "kotlin_freq = pd.Series(kotlin_words).value_counts()\n",
    "php_freq = pd.Series(php_words).value_counts()\n"
   ]
  },
  {
   "cell_type": "code",
   "execution_count": 40,
   "metadata": {},
   "outputs": [
    {
     "data": {
      "text/html": [
       "<div>\n",
       "<style scoped>\n",
       "    .dataframe tbody tr th:only-of-type {\n",
       "        vertical-align: middle;\n",
       "    }\n",
       "\n",
       "    .dataframe tbody tr th {\n",
       "        vertical-align: top;\n",
       "    }\n",
       "\n",
       "    .dataframe thead th {\n",
       "        text-align: right;\n",
       "    }\n",
       "</style>\n",
       "<table border=\"1\" class=\"dataframe\">\n",
       "  <thead>\n",
       "    <tr style=\"text-align: right;\">\n",
       "      <th></th>\n",
       "      <th>javascript</th>\n",
       "      <th>python</th>\n",
       "      <th>typescript</th>\n",
       "      <th>go</th>\n",
       "      <th>java</th>\n",
       "      <th>c_plus</th>\n",
       "      <th>c</th>\n",
       "      <th>html</th>\n",
       "      <th>shell</th>\n",
       "      <th>rust</th>\n",
       "      <th>swift</th>\n",
       "      <th>ruby</th>\n",
       "      <th>jupyter</th>\n",
       "      <th>c_sharp</th>\n",
       "      <th>css</th>\n",
       "      <th>kotlin</th>\n",
       "      <th>php</th>\n",
       "    </tr>\n",
       "  </thead>\n",
       "  <tbody>\n",
       "    <tr>\n",
       "      <th></th>\n",
       "      <td>0</td>\n",
       "      <td>1</td>\n",
       "      <td>0</td>\n",
       "      <td>0</td>\n",
       "      <td>0</td>\n",
       "      <td>0</td>\n",
       "      <td>0</td>\n",
       "      <td>0</td>\n",
       "      <td>0</td>\n",
       "      <td>0</td>\n",
       "      <td>0</td>\n",
       "      <td>0</td>\n",
       "      <td>0</td>\n",
       "      <td>0</td>\n",
       "      <td>0</td>\n",
       "      <td>0</td>\n",
       "      <td>0</td>\n",
       "    </tr>\n",
       "    <tr>\n",
       "      <th>&amp;#9;</th>\n",
       "      <td>803</td>\n",
       "      <td>162</td>\n",
       "      <td>872</td>\n",
       "      <td>953</td>\n",
       "      <td>161</td>\n",
       "      <td>127</td>\n",
       "      <td>48</td>\n",
       "      <td>71</td>\n",
       "      <td>1709</td>\n",
       "      <td>0</td>\n",
       "      <td>668</td>\n",
       "      <td>73</td>\n",
       "      <td>21</td>\n",
       "      <td>197</td>\n",
       "      <td>18</td>\n",
       "      <td>11</td>\n",
       "      <td>0</td>\n",
       "    </tr>\n",
       "    <tr>\n",
       "      <th>0</th>\n",
       "      <td>304</td>\n",
       "      <td>196</td>\n",
       "      <td>31</td>\n",
       "      <td>136</td>\n",
       "      <td>18</td>\n",
       "      <td>18</td>\n",
       "      <td>6</td>\n",
       "      <td>27</td>\n",
       "      <td>18</td>\n",
       "      <td>16</td>\n",
       "      <td>0</td>\n",
       "      <td>1</td>\n",
       "      <td>14</td>\n",
       "      <td>3</td>\n",
       "      <td>1</td>\n",
       "      <td>5</td>\n",
       "      <td>1</td>\n",
       "    </tr>\n",
       "    <tr>\n",
       "      <th>00</th>\n",
       "      <td>6</td>\n",
       "      <td>37</td>\n",
       "      <td>0</td>\n",
       "      <td>0</td>\n",
       "      <td>0</td>\n",
       "      <td>0</td>\n",
       "      <td>0</td>\n",
       "      <td>0</td>\n",
       "      <td>2</td>\n",
       "      <td>0</td>\n",
       "      <td>0</td>\n",
       "      <td>0</td>\n",
       "      <td>0</td>\n",
       "      <td>0</td>\n",
       "      <td>0</td>\n",
       "      <td>0</td>\n",
       "      <td>0</td>\n",
       "    </tr>\n",
       "    <tr>\n",
       "      <th>000</th>\n",
       "      <td>7</td>\n",
       "      <td>2</td>\n",
       "      <td>0</td>\n",
       "      <td>0</td>\n",
       "      <td>2</td>\n",
       "      <td>0</td>\n",
       "      <td>0</td>\n",
       "      <td>5</td>\n",
       "      <td>0</td>\n",
       "      <td>0</td>\n",
       "      <td>0</td>\n",
       "      <td>0</td>\n",
       "      <td>0</td>\n",
       "      <td>0</td>\n",
       "      <td>0</td>\n",
       "      <td>0</td>\n",
       "      <td>0</td>\n",
       "    </tr>\n",
       "  </tbody>\n",
       "</table>\n",
       "</div>"
      ],
      "text/plain": [
       "      javascript  python  typescript   go  java  c_plus   c  html  shell  \\\n",
       "               0       1           0    0     0       0   0     0      0   \n",
       "&#9;         803     162         872  953   161     127  48    71   1709   \n",
       "0            304     196          31  136    18      18   6    27     18   \n",
       "00             6      37           0    0     0       0   0     0      2   \n",
       "000            7       2           0    0     2       0   0     5      0   \n",
       "\n",
       "      rust  swift  ruby  jupyter  c_sharp  css  kotlin  php  \n",
       "         0      0     0        0        0    0       0    0  \n",
       "&#9;     0    668    73       21      197   18      11    0  \n",
       "0       16      0     1       14        3    1       5    1  \n",
       "00       0      0     0        0        0    0       0    0  \n",
       "000      0      0     0        0        0    0       0    0  "
      ]
     },
     "execution_count": 40,
     "metadata": {},
     "output_type": "execute_result"
    }
   ],
   "source": [
    "word_counts = (pd.concat([javascript_freq, python_freq, typescript_freq, go_freq, java_freq, c_plus_freq, c_freq, html_freq, shell_freq, rust_freq, swift_freq, ruby_freq, jupyter_freq, c_sharp_freq, css_freq, kotlin_freq, php_freq], axis=1, sort=True)\n",
    "                .set_axis(['javascript', 'python', 'typescript', 'go', 'java', 'c_plus', 'c', 'html', 'shell', 'rust', 'swift', 'ruby', 'jupyter', 'c_sharp', 'css', 'kotlin', 'php'], axis=1, inplace=False)\n",
    "                .fillna(0)\n",
    "                .apply(lambda s: s.astype(int)))\n",
    "\n",
    "word_counts.head()"
   ]
  },
  {
   "cell_type": "code",
   "execution_count": 41,
   "metadata": {},
   "outputs": [
    {
     "data": {
      "text/html": [
       "<div>\n",
       "<style scoped>\n",
       "    .dataframe tbody tr th:only-of-type {\n",
       "        vertical-align: middle;\n",
       "    }\n",
       "\n",
       "    .dataframe tbody tr th {\n",
       "        vertical-align: top;\n",
       "    }\n",
       "\n",
       "    .dataframe thead th {\n",
       "        text-align: right;\n",
       "    }\n",
       "</style>\n",
       "<table border=\"1\" class=\"dataframe\">\n",
       "  <thead>\n",
       "    <tr style=\"text-align: right;\">\n",
       "      <th></th>\n",
       "      <th>javascript</th>\n",
       "      <th>python</th>\n",
       "      <th>typescript</th>\n",
       "      <th>go</th>\n",
       "      <th>java</th>\n",
       "      <th>c_plus</th>\n",
       "      <th>c</th>\n",
       "      <th>html</th>\n",
       "      <th>shell</th>\n",
       "      <th>rust</th>\n",
       "      <th>swift</th>\n",
       "      <th>ruby</th>\n",
       "      <th>jupyter</th>\n",
       "      <th>c_sharp</th>\n",
       "      <th>css</th>\n",
       "      <th>kotlin</th>\n",
       "      <th>php</th>\n",
       "    </tr>\n",
       "  </thead>\n",
       "  <tbody>\n",
       "    <tr>\n",
       "      <th></th>\n",
       "      <td>0</td>\n",
       "      <td>1</td>\n",
       "      <td>0</td>\n",
       "      <td>0</td>\n",
       "      <td>0</td>\n",
       "      <td>0</td>\n",
       "      <td>0</td>\n",
       "      <td>0</td>\n",
       "      <td>0</td>\n",
       "      <td>0</td>\n",
       "      <td>0</td>\n",
       "      <td>0</td>\n",
       "      <td>0</td>\n",
       "      <td>0</td>\n",
       "      <td>0</td>\n",
       "      <td>0</td>\n",
       "      <td>0</td>\n",
       "    </tr>\n",
       "    <tr>\n",
       "      <th>&amp;#9;</th>\n",
       "      <td>803</td>\n",
       "      <td>162</td>\n",
       "      <td>872</td>\n",
       "      <td>953</td>\n",
       "      <td>161</td>\n",
       "      <td>127</td>\n",
       "      <td>48</td>\n",
       "      <td>71</td>\n",
       "      <td>1709</td>\n",
       "      <td>0</td>\n",
       "      <td>668</td>\n",
       "      <td>73</td>\n",
       "      <td>21</td>\n",
       "      <td>197</td>\n",
       "      <td>18</td>\n",
       "      <td>11</td>\n",
       "      <td>0</td>\n",
       "    </tr>\n",
       "    <tr>\n",
       "      <th>0</th>\n",
       "      <td>304</td>\n",
       "      <td>196</td>\n",
       "      <td>31</td>\n",
       "      <td>136</td>\n",
       "      <td>18</td>\n",
       "      <td>18</td>\n",
       "      <td>6</td>\n",
       "      <td>27</td>\n",
       "      <td>18</td>\n",
       "      <td>16</td>\n",
       "      <td>0</td>\n",
       "      <td>1</td>\n",
       "      <td>14</td>\n",
       "      <td>3</td>\n",
       "      <td>1</td>\n",
       "      <td>5</td>\n",
       "      <td>1</td>\n",
       "    </tr>\n",
       "    <tr>\n",
       "      <th>00</th>\n",
       "      <td>6</td>\n",
       "      <td>37</td>\n",
       "      <td>0</td>\n",
       "      <td>0</td>\n",
       "      <td>0</td>\n",
       "      <td>0</td>\n",
       "      <td>0</td>\n",
       "      <td>0</td>\n",
       "      <td>2</td>\n",
       "      <td>0</td>\n",
       "      <td>0</td>\n",
       "      <td>0</td>\n",
       "      <td>0</td>\n",
       "      <td>0</td>\n",
       "      <td>0</td>\n",
       "      <td>0</td>\n",
       "      <td>0</td>\n",
       "    </tr>\n",
       "    <tr>\n",
       "      <th>000</th>\n",
       "      <td>7</td>\n",
       "      <td>2</td>\n",
       "      <td>0</td>\n",
       "      <td>0</td>\n",
       "      <td>2</td>\n",
       "      <td>0</td>\n",
       "      <td>0</td>\n",
       "      <td>5</td>\n",
       "      <td>0</td>\n",
       "      <td>0</td>\n",
       "      <td>0</td>\n",
       "      <td>0</td>\n",
       "      <td>0</td>\n",
       "      <td>0</td>\n",
       "      <td>0</td>\n",
       "      <td>0</td>\n",
       "      <td>0</td>\n",
       "    </tr>\n",
       "    <tr>\n",
       "      <th>...</th>\n",
       "      <td>...</td>\n",
       "      <td>...</td>\n",
       "      <td>...</td>\n",
       "      <td>...</td>\n",
       "      <td>...</td>\n",
       "      <td>...</td>\n",
       "      <td>...</td>\n",
       "      <td>...</td>\n",
       "      <td>...</td>\n",
       "      <td>...</td>\n",
       "      <td>...</td>\n",
       "      <td>...</td>\n",
       "      <td>...</td>\n",
       "      <td>...</td>\n",
       "      <td>...</td>\n",
       "      <td>...</td>\n",
       "      <td>...</td>\n",
       "    </tr>\n",
       "    <tr>\n",
       "      <th>zyte_</th>\n",
       "      <td>0</td>\n",
       "      <td>1</td>\n",
       "      <td>0</td>\n",
       "      <td>0</td>\n",
       "      <td>0</td>\n",
       "      <td>0</td>\n",
       "      <td>0</td>\n",
       "      <td>0</td>\n",
       "      <td>0</td>\n",
       "      <td>0</td>\n",
       "      <td>0</td>\n",
       "      <td>0</td>\n",
       "      <td>0</td>\n",
       "      <td>0</td>\n",
       "      <td>0</td>\n",
       "      <td>0</td>\n",
       "      <td>0</td>\n",
       "    </tr>\n",
       "    <tr>\n",
       "      <th>zythumbnailtableview</th>\n",
       "      <td>0</td>\n",
       "      <td>0</td>\n",
       "      <td>0</td>\n",
       "      <td>0</td>\n",
       "      <td>0</td>\n",
       "      <td>0</td>\n",
       "      <td>0</td>\n",
       "      <td>0</td>\n",
       "      <td>0</td>\n",
       "      <td>0</td>\n",
       "      <td>0</td>\n",
       "      <td>1</td>\n",
       "      <td>0</td>\n",
       "      <td>0</td>\n",
       "      <td>0</td>\n",
       "      <td>0</td>\n",
       "      <td>0</td>\n",
       "    </tr>\n",
       "    <tr>\n",
       "      <th>zzcompanies</th>\n",
       "      <td>0</td>\n",
       "      <td>0</td>\n",
       "      <td>0</td>\n",
       "      <td>0</td>\n",
       "      <td>0</td>\n",
       "      <td>0</td>\n",
       "      <td>0</td>\n",
       "      <td>0</td>\n",
       "      <td>0</td>\n",
       "      <td>0</td>\n",
       "      <td>1</td>\n",
       "      <td>0</td>\n",
       "      <td>0</td>\n",
       "      <td>0</td>\n",
       "      <td>0</td>\n",
       "      <td>0</td>\n",
       "      <td>0</td>\n",
       "    </tr>\n",
       "    <tr>\n",
       "      <th>zzindividuals</th>\n",
       "      <td>0</td>\n",
       "      <td>0</td>\n",
       "      <td>0</td>\n",
       "      <td>0</td>\n",
       "      <td>0</td>\n",
       "      <td>0</td>\n",
       "      <td>0</td>\n",
       "      <td>0</td>\n",
       "      <td>0</td>\n",
       "      <td>0</td>\n",
       "      <td>1</td>\n",
       "      <td>0</td>\n",
       "      <td>0</td>\n",
       "      <td>0</td>\n",
       "      <td>0</td>\n",
       "      <td>0</td>\n",
       "      <td>0</td>\n",
       "    </tr>\n",
       "    <tr>\n",
       "      <th>zztechnologies</th>\n",
       "      <td>0</td>\n",
       "      <td>0</td>\n",
       "      <td>0</td>\n",
       "      <td>0</td>\n",
       "      <td>0</td>\n",
       "      <td>0</td>\n",
       "      <td>0</td>\n",
       "      <td>0</td>\n",
       "      <td>0</td>\n",
       "      <td>0</td>\n",
       "      <td>1</td>\n",
       "      <td>0</td>\n",
       "      <td>0</td>\n",
       "      <td>0</td>\n",
       "      <td>0</td>\n",
       "      <td>0</td>\n",
       "      <td>0</td>\n",
       "    </tr>\n",
       "  </tbody>\n",
       "</table>\n",
       "<p>88994 rows × 17 columns</p>\n",
       "</div>"
      ],
      "text/plain": [
       "                      javascript  python  typescript   go  java  c_plus   c  \\\n",
       "                               0       1           0    0     0       0   0   \n",
       "&#9;                         803     162         872  953   161     127  48   \n",
       "0                            304     196          31  136    18      18   6   \n",
       "00                             6      37           0    0     0       0   0   \n",
       "000                            7       2           0    0     2       0   0   \n",
       "...                          ...     ...         ...  ...   ...     ...  ..   \n",
       "zyte_                          0       1           0    0     0       0   0   \n",
       "zythumbnailtableview           0       0           0    0     0       0   0   \n",
       "zzcompanies                    0       0           0    0     0       0   0   \n",
       "zzindividuals                  0       0           0    0     0       0   0   \n",
       "zztechnologies                 0       0           0    0     0       0   0   \n",
       "\n",
       "                      html  shell  rust  swift  ruby  jupyter  c_sharp  css  \\\n",
       "                         0      0     0      0     0        0        0    0   \n",
       "&#9;                    71   1709     0    668    73       21      197   18   \n",
       "0                       27     18    16      0     1       14        3    1   \n",
       "00                       0      2     0      0     0        0        0    0   \n",
       "000                      5      0     0      0     0        0        0    0   \n",
       "...                    ...    ...   ...    ...   ...      ...      ...  ...   \n",
       "zyte_                    0      0     0      0     0        0        0    0   \n",
       "zythumbnailtableview     0      0     0      0     1        0        0    0   \n",
       "zzcompanies              0      0     0      1     0        0        0    0   \n",
       "zzindividuals            0      0     0      1     0        0        0    0   \n",
       "zztechnologies           0      0     0      1     0        0        0    0   \n",
       "\n",
       "                      kotlin  php  \n",
       "                           0    0  \n",
       "&#9;                      11    0  \n",
       "0                          5    1  \n",
       "00                         0    0  \n",
       "000                        0    0  \n",
       "...                      ...  ...  \n",
       "zyte_                      0    0  \n",
       "zythumbnailtableview       0    0  \n",
       "zzcompanies                0    0  \n",
       "zzindividuals              0    0  \n",
       "zztechnologies             0    0  \n",
       "\n",
       "[88994 rows x 17 columns]"
      ]
     },
     "execution_count": 41,
     "metadata": {},
     "output_type": "execute_result"
    }
   ],
   "source": [
    "word_counts"
   ]
  },
  {
   "cell_type": "code",
   "execution_count": null,
   "metadata": {},
   "outputs": [],
   "source": []
  },
  {
   "cell_type": "code",
   "execution_count": null,
   "metadata": {},
   "outputs": [],
   "source": []
  },
  {
   "cell_type": "code",
   "execution_count": null,
   "metadata": {},
   "outputs": [],
   "source": []
  }
 ],
 "metadata": {
  "kernelspec": {
   "display_name": "Python 3.9.12 ('base')",
   "language": "python",
   "name": "python3"
  },
  "language_info": {
   "codemirror_mode": {
    "name": "ipython",
    "version": 3
   },
   "file_extension": ".py",
   "mimetype": "text/x-python",
   "name": "python",
   "nbconvert_exporter": "python",
   "pygments_lexer": "ipython3",
   "version": "3.9.12"
  },
  "orig_nbformat": 4,
  "vscode": {
   "interpreter": {
    "hash": "3067ead486e059ec00ffe7555bdb889e6e264a24dc711bf108106cc7baee8d5d"
   }
  }
 },
 "nbformat": 4,
 "nbformat_minor": 2
}
